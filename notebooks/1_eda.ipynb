{
 "cells": [
  {
   "cell_type": "markdown",
   "id": "53ca6018",
   "metadata": {},
   "source": [
    " # EDA :\n",
    " \n",
    " This notebook explores the Corporación Favorita dataset, inspects relationships between sales, stores, items, holidays, oil prices, and transactions, and generates hypotheses for forecasting and optimization."
   ]
  },
  {
   "cell_type": "markdown",
   "id": "b0559e38",
   "metadata": {},
   "source": [
    "## Dataset Overview — Columns & Descriptions\n",
    "\n",
    "We are working with multiple CSVs from the **Corporación Favorita Grocery Sales Forecasting dataset**.  \n",
    "Below are the columns for each file with a short description.\n",
    "\n",
    "---\n",
    "\n",
    "### 1. `train.csv`\n",
    "- **id**: Unique identifier for each row.  \n",
    "- **date**: Date of the record.  \n",
    "- **store_nbr**: Store identifier.  \n",
    "- **item_nbr**: Item identifier.  \n",
    "- **unit_sales**: Number of units sold (target variable).  \n",
    "- **onpromotion**: Whether the item was on promotion that day (boolean).\n",
    "\n",
    "---\n",
    "\n",
    "### 2. `test.csv`\n",
    "(Same structure as `train.csv` but without `unit_sales` — used for forecasting.)\n",
    "- **id**: Unique identifier.  \n",
    "- **date**: Date of the record.  \n",
    "- **store_nbr**: Store identifier.  \n",
    "- **item_nbr**: Item identifier.  \n",
    "- **onpromotion**: Promotion flag.\n",
    "\n",
    "---\n",
    "\n",
    "### 3. `items.csv`\n",
    "- **item_nbr**: Item identifier (matches train/test).  \n",
    "- **family**: Product family/category (e.g., dairy, beverages).  \n",
    "- **class**: Item class (numeric grouping of similar items).  \n",
    "- **perishable**: Binary flag (1 = perishable, 0 = non-perishable).\n",
    "\n",
    "---\n",
    "\n",
    "### 4. `stores.csv`\n",
    "- **store_nbr**: Store identifier (matches train/test).  \n",
    "- **city**: City where the store is located.  \n",
    "- **state**: Province/region.  \n",
    "- **type**: Store type (A, B, C, D — indicates size/format).  \n",
    "- **cluster**: Cluster number (groups stores with similar characteristics).\n",
    "\n",
    "---\n",
    "\n",
    "### 5. `transactions.csv`\n",
    "- **date**: Date of record.  \n",
    "- **store_nbr**: Store identifier.  \n",
    "- **transactions**: Number of transactions made in that store on that day.\n",
    "\n",
    "---\n",
    "\n",
    "### 6. `oil.csv`\n",
    "- **date**: Date of record.  \n",
    "- **dcoilwtico**: Daily WTI crude oil price (economic indicator).\n",
    "\n",
    "---\n",
    "\n",
    "### 7. `holidays_events.csv`\n",
    "- **date**: Date of event.  \n",
    "- **type**: Type of event (Holiday, Transfer, Bridge, Work Day, Additional).  \n",
    "- **locale**: Scope of the holiday (National, Regional, Local).  \n",
    "- **locale_name**: Name of the region/city affected.  \n",
    "- **description**: Name/description of the holiday/event.  \n",
    "- **transferred**: Boolean flag — whether the holiday was moved to another date.\n",
    "\n",
    "---\n",
    "\n",
    "### Note -> Our target column is **unit_sales** in **train.csv** dataset "
   ]
  },
  {
   "cell_type": "code",
   "execution_count": 2,
   "id": "4f678055",
   "metadata": {},
   "outputs": [],
   "source": [
    "import pandas as pd\n",
    "import numpy as np\n",
    "import matplotlib.pyplot as plt\n",
    "import seaborn as sns\n",
    "import plotly.express as px\n",
    "\n",
    "pd.set_option('display.max_columns',50)\n",
    "sns.set(style=\"whitegrid\",palette=\"muted\",font_scale=1.2)"
   ]
  },
  {
   "cell_type": "code",
   "execution_count": 3,
   "id": "3febaf52",
   "metadata": {},
   "outputs": [],
   "source": [
    "# Load Data\n",
    "data_path= \"../data/raw/\"\n",
    "train = pd.read_csv(data_path+\"train.csv\")\n",
    "items = pd.read_csv(data_path+\"items.csv\")\n",
    "stores = pd.read_csv(data_path+\"stores.csv\")\n",
    "oil = pd.read_csv(data_path+\"oil.csv\")\n",
    "holidays = pd.read_csv(data_path+\"holidays_events.csv\",parse_dates=['date'])\n",
    "transactions = pd.read_csv(data_path+\"transactions.csv\",parse_dates=['date'])"
   ]
  },
  {
   "cell_type": "code",
   "execution_count": 4,
   "id": "056577e6",
   "metadata": {},
   "outputs": [
    {
     "name": "stdout",
     "output_type": "stream",
     "text": [
      "train shape: (20183289, 6)\n"
     ]
    },
    {
     "data": {
      "text/html": [
       "<div>\n",
       "<style scoped>\n",
       "    .dataframe tbody tr th:only-of-type {\n",
       "        vertical-align: middle;\n",
       "    }\n",
       "\n",
       "    .dataframe tbody tr th {\n",
       "        vertical-align: top;\n",
       "    }\n",
       "\n",
       "    .dataframe thead th {\n",
       "        text-align: right;\n",
       "    }\n",
       "</style>\n",
       "<table border=\"1\" class=\"dataframe\">\n",
       "  <thead>\n",
       "    <tr style=\"text-align: right;\">\n",
       "      <th></th>\n",
       "      <th>id</th>\n",
       "      <th>date</th>\n",
       "      <th>store_nbr</th>\n",
       "      <th>item_nbr</th>\n",
       "      <th>unit_sales</th>\n",
       "      <th>onpromotion</th>\n",
       "    </tr>\n",
       "  </thead>\n",
       "  <tbody>\n",
       "    <tr>\n",
       "      <th>0</th>\n",
       "      <td>0</td>\n",
       "      <td>2013-01-01</td>\n",
       "      <td>25</td>\n",
       "      <td>103665</td>\n",
       "      <td>7.0</td>\n",
       "      <td>NaN</td>\n",
       "    </tr>\n",
       "    <tr>\n",
       "      <th>1</th>\n",
       "      <td>1</td>\n",
       "      <td>2013-01-01</td>\n",
       "      <td>25</td>\n",
       "      <td>105574</td>\n",
       "      <td>1.0</td>\n",
       "      <td>NaN</td>\n",
       "    </tr>\n",
       "    <tr>\n",
       "      <th>2</th>\n",
       "      <td>2</td>\n",
       "      <td>2013-01-01</td>\n",
       "      <td>25</td>\n",
       "      <td>105575</td>\n",
       "      <td>2.0</td>\n",
       "      <td>NaN</td>\n",
       "    </tr>\n",
       "  </tbody>\n",
       "</table>\n",
       "</div>"
      ],
      "text/plain": [
       "   id        date  store_nbr  item_nbr  unit_sales  onpromotion\n",
       "0   0  2013-01-01         25    103665         7.0          NaN\n",
       "1   1  2013-01-01         25    105574         1.0          NaN\n",
       "2   2  2013-01-01         25    105575         2.0          NaN"
      ]
     },
     "metadata": {},
     "output_type": "display_data"
    },
    {
     "name": "stdout",
     "output_type": "stream",
     "text": [
      "\n",
      "\n",
      "\n",
      "items shape: (4100, 4)\n"
     ]
    },
    {
     "data": {
      "text/html": [
       "<div>\n",
       "<style scoped>\n",
       "    .dataframe tbody tr th:only-of-type {\n",
       "        vertical-align: middle;\n",
       "    }\n",
       "\n",
       "    .dataframe tbody tr th {\n",
       "        vertical-align: top;\n",
       "    }\n",
       "\n",
       "    .dataframe thead th {\n",
       "        text-align: right;\n",
       "    }\n",
       "</style>\n",
       "<table border=\"1\" class=\"dataframe\">\n",
       "  <thead>\n",
       "    <tr style=\"text-align: right;\">\n",
       "      <th></th>\n",
       "      <th>item_nbr</th>\n",
       "      <th>family</th>\n",
       "      <th>class</th>\n",
       "      <th>perishable</th>\n",
       "    </tr>\n",
       "  </thead>\n",
       "  <tbody>\n",
       "    <tr>\n",
       "      <th>0</th>\n",
       "      <td>96995</td>\n",
       "      <td>GROCERY I</td>\n",
       "      <td>1093</td>\n",
       "      <td>0</td>\n",
       "    </tr>\n",
       "    <tr>\n",
       "      <th>1</th>\n",
       "      <td>99197</td>\n",
       "      <td>GROCERY I</td>\n",
       "      <td>1067</td>\n",
       "      <td>0</td>\n",
       "    </tr>\n",
       "    <tr>\n",
       "      <th>2</th>\n",
       "      <td>103501</td>\n",
       "      <td>CLEANING</td>\n",
       "      <td>3008</td>\n",
       "      <td>0</td>\n",
       "    </tr>\n",
       "  </tbody>\n",
       "</table>\n",
       "</div>"
      ],
      "text/plain": [
       "   item_nbr     family  class  perishable\n",
       "0     96995  GROCERY I   1093           0\n",
       "1     99197  GROCERY I   1067           0\n",
       "2    103501   CLEANING   3008           0"
      ]
     },
     "metadata": {},
     "output_type": "display_data"
    },
    {
     "name": "stdout",
     "output_type": "stream",
     "text": [
      "\n",
      "\n",
      "\n",
      "stores shape: (54, 5)\n"
     ]
    },
    {
     "data": {
      "text/html": [
       "<div>\n",
       "<style scoped>\n",
       "    .dataframe tbody tr th:only-of-type {\n",
       "        vertical-align: middle;\n",
       "    }\n",
       "\n",
       "    .dataframe tbody tr th {\n",
       "        vertical-align: top;\n",
       "    }\n",
       "\n",
       "    .dataframe thead th {\n",
       "        text-align: right;\n",
       "    }\n",
       "</style>\n",
       "<table border=\"1\" class=\"dataframe\">\n",
       "  <thead>\n",
       "    <tr style=\"text-align: right;\">\n",
       "      <th></th>\n",
       "      <th>store_nbr</th>\n",
       "      <th>city</th>\n",
       "      <th>state</th>\n",
       "      <th>type</th>\n",
       "      <th>cluster</th>\n",
       "    </tr>\n",
       "  </thead>\n",
       "  <tbody>\n",
       "    <tr>\n",
       "      <th>0</th>\n",
       "      <td>1</td>\n",
       "      <td>Quito</td>\n",
       "      <td>Pichincha</td>\n",
       "      <td>D</td>\n",
       "      <td>13</td>\n",
       "    </tr>\n",
       "    <tr>\n",
       "      <th>1</th>\n",
       "      <td>2</td>\n",
       "      <td>Quito</td>\n",
       "      <td>Pichincha</td>\n",
       "      <td>D</td>\n",
       "      <td>13</td>\n",
       "    </tr>\n",
       "    <tr>\n",
       "      <th>2</th>\n",
       "      <td>3</td>\n",
       "      <td>Quito</td>\n",
       "      <td>Pichincha</td>\n",
       "      <td>D</td>\n",
       "      <td>8</td>\n",
       "    </tr>\n",
       "  </tbody>\n",
       "</table>\n",
       "</div>"
      ],
      "text/plain": [
       "   store_nbr   city      state type  cluster\n",
       "0          1  Quito  Pichincha    D       13\n",
       "1          2  Quito  Pichincha    D       13\n",
       "2          3  Quito  Pichincha    D        8"
      ]
     },
     "metadata": {},
     "output_type": "display_data"
    },
    {
     "name": "stdout",
     "output_type": "stream",
     "text": [
      "\n",
      "\n",
      "\n",
      "oil shape: (1218, 2)\n"
     ]
    },
    {
     "data": {
      "text/html": [
       "<div>\n",
       "<style scoped>\n",
       "    .dataframe tbody tr th:only-of-type {\n",
       "        vertical-align: middle;\n",
       "    }\n",
       "\n",
       "    .dataframe tbody tr th {\n",
       "        vertical-align: top;\n",
       "    }\n",
       "\n",
       "    .dataframe thead th {\n",
       "        text-align: right;\n",
       "    }\n",
       "</style>\n",
       "<table border=\"1\" class=\"dataframe\">\n",
       "  <thead>\n",
       "    <tr style=\"text-align: right;\">\n",
       "      <th></th>\n",
       "      <th>date</th>\n",
       "      <th>dcoilwtico</th>\n",
       "    </tr>\n",
       "  </thead>\n",
       "  <tbody>\n",
       "    <tr>\n",
       "      <th>0</th>\n",
       "      <td>2013-01-01</td>\n",
       "      <td>NaN</td>\n",
       "    </tr>\n",
       "    <tr>\n",
       "      <th>1</th>\n",
       "      <td>2013-01-02</td>\n",
       "      <td>93.14</td>\n",
       "    </tr>\n",
       "    <tr>\n",
       "      <th>2</th>\n",
       "      <td>2013-01-03</td>\n",
       "      <td>92.97</td>\n",
       "    </tr>\n",
       "  </tbody>\n",
       "</table>\n",
       "</div>"
      ],
      "text/plain": [
       "         date  dcoilwtico\n",
       "0  2013-01-01         NaN\n",
       "1  2013-01-02       93.14\n",
       "2  2013-01-03       92.97"
      ]
     },
     "metadata": {},
     "output_type": "display_data"
    },
    {
     "name": "stdout",
     "output_type": "stream",
     "text": [
      "\n",
      "\n",
      "\n",
      "holidays shape: (350, 6)\n"
     ]
    },
    {
     "data": {
      "text/html": [
       "<div>\n",
       "<style scoped>\n",
       "    .dataframe tbody tr th:only-of-type {\n",
       "        vertical-align: middle;\n",
       "    }\n",
       "\n",
       "    .dataframe tbody tr th {\n",
       "        vertical-align: top;\n",
       "    }\n",
       "\n",
       "    .dataframe thead th {\n",
       "        text-align: right;\n",
       "    }\n",
       "</style>\n",
       "<table border=\"1\" class=\"dataframe\">\n",
       "  <thead>\n",
       "    <tr style=\"text-align: right;\">\n",
       "      <th></th>\n",
       "      <th>date</th>\n",
       "      <th>type</th>\n",
       "      <th>locale</th>\n",
       "      <th>locale_name</th>\n",
       "      <th>description</th>\n",
       "      <th>transferred</th>\n",
       "    </tr>\n",
       "  </thead>\n",
       "  <tbody>\n",
       "    <tr>\n",
       "      <th>0</th>\n",
       "      <td>2012-03-02</td>\n",
       "      <td>Holiday</td>\n",
       "      <td>Local</td>\n",
       "      <td>Manta</td>\n",
       "      <td>Fundacion de Manta</td>\n",
       "      <td>False</td>\n",
       "    </tr>\n",
       "    <tr>\n",
       "      <th>1</th>\n",
       "      <td>2012-04-01</td>\n",
       "      <td>Holiday</td>\n",
       "      <td>Regional</td>\n",
       "      <td>Cotopaxi</td>\n",
       "      <td>Provincializacion de Cotopaxi</td>\n",
       "      <td>False</td>\n",
       "    </tr>\n",
       "    <tr>\n",
       "      <th>2</th>\n",
       "      <td>2012-04-12</td>\n",
       "      <td>Holiday</td>\n",
       "      <td>Local</td>\n",
       "      <td>Cuenca</td>\n",
       "      <td>Fundacion de Cuenca</td>\n",
       "      <td>False</td>\n",
       "    </tr>\n",
       "  </tbody>\n",
       "</table>\n",
       "</div>"
      ],
      "text/plain": [
       "        date     type    locale locale_name                    description  \\\n",
       "0 2012-03-02  Holiday     Local       Manta             Fundacion de Manta   \n",
       "1 2012-04-01  Holiday  Regional    Cotopaxi  Provincializacion de Cotopaxi   \n",
       "2 2012-04-12  Holiday     Local      Cuenca            Fundacion de Cuenca   \n",
       "\n",
       "   transferred  \n",
       "0        False  \n",
       "1        False  \n",
       "2        False  "
      ]
     },
     "metadata": {},
     "output_type": "display_data"
    },
    {
     "name": "stdout",
     "output_type": "stream",
     "text": [
      "\n",
      "\n",
      "\n",
      "transactions shape: (83488, 3)\n"
     ]
    },
    {
     "data": {
      "text/html": [
       "<div>\n",
       "<style scoped>\n",
       "    .dataframe tbody tr th:only-of-type {\n",
       "        vertical-align: middle;\n",
       "    }\n",
       "\n",
       "    .dataframe tbody tr th {\n",
       "        vertical-align: top;\n",
       "    }\n",
       "\n",
       "    .dataframe thead th {\n",
       "        text-align: right;\n",
       "    }\n",
       "</style>\n",
       "<table border=\"1\" class=\"dataframe\">\n",
       "  <thead>\n",
       "    <tr style=\"text-align: right;\">\n",
       "      <th></th>\n",
       "      <th>date</th>\n",
       "      <th>store_nbr</th>\n",
       "      <th>transactions</th>\n",
       "    </tr>\n",
       "  </thead>\n",
       "  <tbody>\n",
       "    <tr>\n",
       "      <th>0</th>\n",
       "      <td>2013-01-01</td>\n",
       "      <td>25</td>\n",
       "      <td>770</td>\n",
       "    </tr>\n",
       "    <tr>\n",
       "      <th>1</th>\n",
       "      <td>2013-01-02</td>\n",
       "      <td>1</td>\n",
       "      <td>2111</td>\n",
       "    </tr>\n",
       "    <tr>\n",
       "      <th>2</th>\n",
       "      <td>2013-01-02</td>\n",
       "      <td>2</td>\n",
       "      <td>2358</td>\n",
       "    </tr>\n",
       "  </tbody>\n",
       "</table>\n",
       "</div>"
      ],
      "text/plain": [
       "        date  store_nbr  transactions\n",
       "0 2013-01-01         25           770\n",
       "1 2013-01-02          1          2111\n",
       "2 2013-01-02          2          2358"
      ]
     },
     "metadata": {},
     "output_type": "display_data"
    },
    {
     "name": "stdout",
     "output_type": "stream",
     "text": [
      "\n",
      "\n",
      "\n"
     ]
    }
   ],
   "source": [
    "# Initial Data Overview\n",
    "for name,df in [(\"train\",train),(\"items\",items),(\"stores\",stores),(\"oil\",oil),(\"holidays\",holidays),(\"transactions\",transactions)]:\n",
    "    print(f\"{name} shape: {df.shape}\")\n",
    "    display(df.head(3))\n",
    "    print(\"\\n\\n\")"
   ]
  },
  {
   "cell_type": "markdown",
   "id": "758202ea",
   "metadata": {},
   "source": [
    "##### Insights:\n",
    "- **train.csv** (`date`, `store_nbr`, `item_nbr`, `unit_sales`, `onpromotion`)  \n",
    "  → This is the core dataset containing daily item-level sales per store. It is large and will drive most of the analysis.  \n",
    "\n",
    "- **items.csv** (`item_nbr`, `family`, `class`, `perishable`)  \n",
    "  → Metadata about products. Important for grouping sales by product family and distinguishing perishables from non-perishables.  \n",
    "\n",
    "- **stores.csv** (`store_nbr`, `city`, `state`, `type`, `cluster`)  \n",
    "  → Metadata about stores, useful for regional and clustering analysis.  \n",
    "\n",
    "- **oil.csv** (`date`, `dcoilwtico`)  \n",
    "  → Daily oil price. This acts as a macroeconomic indicator that may correlate with sales trends.  \n",
    "\n",
    "- **holidays_events.csv** (`date`, `type`, `locale`, `locale_name`, `description`, `transferred`)  \n",
    "  → Holiday and event calendar, capturing demand spikes/drops around holidays and events.  \n",
    "\n",
    "- **transactions.csv** (`date`, `store_nbr`, `transactions`)  \n",
    "  → Daily count of store transactions, representing overall store activity."
   ]
  },
  {
   "cell_type": "code",
   "execution_count": 5,
   "id": "73ccbd43",
   "metadata": {},
   "outputs": [
    {
     "name": "stdout",
     "output_type": "stream",
     "text": [
      "\n",
      "train missing values:\n",
      "id                    0\n",
      "date                  0\n",
      "store_nbr             0\n",
      "item_nbr              0\n",
      "unit_sales            1\n",
      "onpromotion    20183289\n",
      "dtype: int64\n",
      "\n",
      "items missing values:\n",
      "item_nbr      0\n",
      "family        0\n",
      "class         0\n",
      "perishable    0\n",
      "dtype: int64\n",
      "\n",
      "stores missing values:\n",
      "store_nbr    0\n",
      "city         0\n",
      "state        0\n",
      "type         0\n",
      "cluster      0\n",
      "dtype: int64\n",
      "\n",
      "oil missing values:\n",
      "date           0\n",
      "dcoilwtico    43\n",
      "dtype: int64\n",
      "\n",
      "holidays missing values:\n",
      "date           0\n",
      "type           0\n",
      "locale         0\n",
      "locale_name    0\n",
      "description    0\n",
      "transferred    0\n",
      "dtype: int64\n",
      "\n",
      "transactions missing values:\n",
      "date            0\n",
      "store_nbr       0\n",
      "transactions    0\n",
      "dtype: int64\n",
      "Negative sales count: 1207\n"
     ]
    }
   ],
   "source": [
    "# Check for missing values and anomalies\n",
    "for name, df in [(\"train\", train), (\"items\", items), (\"stores\", stores),\n",
    "                 (\"oil\", oil), (\"holidays\", holidays), (\"transactions\", transactions)]:\n",
    "    print(f\"\\n{name} missing values:\\n{df.isna().sum()}\")\n",
    "# Check for negative sales in train data\n",
    "print(\"Negative sales count:\", (train['unit_sales'] < 0).sum())"
   ]
  },
  {
   "cell_type": "code",
   "execution_count": 6,
   "id": "45588c46",
   "metadata": {},
   "outputs": [
    {
     "data": {
      "text/plain": [
       "id                    0\n",
       "date                  0\n",
       "store_nbr             0\n",
       "item_nbr              0\n",
       "unit_sales            1\n",
       "onpromotion    20183289\n",
       "dtype: int64"
      ]
     },
     "execution_count": 6,
     "metadata": {},
     "output_type": "execute_result"
    }
   ],
   "source": [
    "train.isnull().sum()"
   ]
  },
  {
   "cell_type": "code",
   "execution_count": 7,
   "id": "7e08cf47",
   "metadata": {},
   "outputs": [],
   "source": [
    "test = pd.read_csv(data_path + \"test.csv\", parse_dates=[\"date\"])"
   ]
  },
  {
   "cell_type": "code",
   "execution_count": 8,
   "id": "b4864fa9",
   "metadata": {},
   "outputs": [
    {
     "data": {
      "text/plain": [
       "onpromotion\n",
       "False    3171867\n",
       "True      198597\n",
       "Name: count, dtype: int64"
      ]
     },
     "execution_count": 8,
     "metadata": {},
     "output_type": "execute_result"
    }
   ],
   "source": [
    "test['onpromotion'].value_counts()"
   ]
  },
  {
   "cell_type": "markdown",
   "id": "652210ac",
   "metadata": {},
   "source": [
    "##### Insights:\n",
    "We inspected all datasets for missing values and anomalies:\n",
    "\n",
    "- **Missing values**  \n",
    "  - The `oil` dataset sometimes has missing prices (`dcoilwtico`), which is expected due to non-trading days (weekends/holidays). These gaps may need interpolation.  \n",
    "  - Other datasets generally have complete coverage, though holidays/events may contain occasional nulls in descriptive fields.  \n",
    "  - The `train`, `items`, `stores`, and `transactions` datasets typically have no critical missing values.  \n",
    "\n",
    "- **Negative sales in train data**  \n",
    "  - The `unit_sales` field occasionally contains **negative values**. These are not true sales but instead represent *returns* (customers returning items).  \n",
    "  - This needs to be handled carefully:  \n",
    "    - Either keep them as-is to preserve business reality.  \n",
    "    - Or set them to zero if the forecasting target is only positive demand.  \n",
    "    - Choice depends on modeling objective.  \n",
    "\n",
    "**Onpromotion column mismatch**  \n",
    "   - `train.csv`: `onpromotion` column is entirely null.  \n",
    "   - `test.csv`: `onpromotion` column is fully populated.  \n",
    "   - Decision: drop `onpromotion` during **feature engineering** to avoid train–test mismatch\n",
    "\n",
    "**Key takeaway:**  \n",
    "- Data is generally clean, with the main issues being **missing oil prices**, **negative sales entries** and **onpromotion column mismatch**.  \n",
    "- All these cases will require preprocessing decisions during feature engineering and model preparation.  \n",
    "\n"
   ]
  },
  {
   "cell_type": "markdown",
   "id": "6856b724",
   "metadata": {},
   "source": [
    "## Exploratory Analysis — Unit Sales vs. Factors"
   ]
  },
  {
   "cell_type": "markdown",
   "id": "d6a1f035",
   "metadata": {},
   "source": [
    "### Unit Sales Distribution (Target Overview)"
   ]
  },
  {
   "cell_type": "code",
   "execution_count": 9,
   "id": "9b60de69",
   "metadata": {},
   "outputs": [
    {
     "data": {
      "image/png": "[encoded data removed]",
      "text/plain": [
       "<Figure size 800x500 with 1 Axes>"
      ]
     },
     "metadata": {},
     "output_type": "display_data"
    },
    {
     "data": {
      "image/png": "[encoded data removed]",
      "text/plain": [
       "<Figure size 1000x400 with 1 Axes>"
      ]
     },
     "metadata": {},
     "output_type": "display_data"
    },
    {
     "data": {
      "image/png": "[encoded data removed]",
      "text/plain": [
       "<Figure size 800x500 with 1 Axes>"
      ]
     },
     "metadata": {},
     "output_type": "display_data"
    }
   ],
   "source": [
    "# Filter out negative values (returns) for visualization\n",
    "sales_pos = train.loc[train['unit_sales'] >= 0, 'unit_sales']\n",
    "\n",
    "# 1. Clipped histogram (focus on typical range)\n",
    "plt.figure(figsize=(8,5))\n",
    "sns.histplot(sales_pos.clip(upper=50), bins=50, kde=False)\n",
    "plt.title(\"Distribution of Unit Sales (clipped at 50 units)\")\n",
    "plt.xlabel(\"unit_sales\")\n",
    "plt.ylabel(\"Count\")\n",
    "plt.show()\n",
    "\n",
    "# 2. Boxplot (highlighting outliers)\n",
    "plt.figure(figsize=(10,4))\n",
    "sns.boxplot(x=sales_pos.clip(upper=200))\n",
    "plt.title(\"Boxplot of Unit Sales (capped at 200)\")\n",
    "plt.xlabel(\"unit_sales\")\n",
    "plt.show()\n",
    "\n",
    "# 3. Log-transformed histogram (captures full skewed distribution)\n",
    "plt.figure(figsize=(8,5))\n",
    "sns.histplot(np.log1p(sales_pos), bins=50, kde=True)\n",
    "plt.title(\"Log-Transformed Distribution of Unit Sales\")\n",
    "plt.xlabel(\"log(1 + unit_sales)\")\n",
    "plt.ylabel(\"Count\")\n",
    "plt.show()\n"
   ]
  },
  {
   "cell_type": "markdown",
   "id": "4695d889",
   "metadata": {},
   "source": [
    "##### Insights: Target Variable Distribution (`unit_sales`)\n",
    "\n",
    "1. **Clipped Histogram (cap at 50 units)**  \n",
    "   - Most sales observations fall in the very low range (0–10 units per day).  \n",
    "   - A long right tail exists, but clipping at 50 highlights the fact that *the bulk of demand is small per item per store per day*.  \n",
    "   - This confirms the dataset is **heavily skewed**, with rare but very large spikes.\n",
    "\n",
    "2. **Boxplot (cap at 200 units)**  \n",
    "   - Even after capping, there are visible outliers beyond the whiskers.  \n",
    "   - The interquartile range (IQR) is extremely tight near zero, showing that *typical demand is small and stable*.  \n",
    "   - The presence of many outliers reflects demand surges (promotions, holidays, special events).\n",
    "\n",
    "3. **Log-Transformed Histogram**  \n",
    "   - After applying `log(1 + unit_sales)`, the distribution becomes approximately bell-shaped.  \n",
    "   - This transformation reveals a smoother, continuous distribution suitable for statistical modeling.  \n",
    "   - Suggests that a **log transform is useful for normalization** and stabilizing variance in downstream models.\n",
    "\n",
    "**Overall Takeaway:**  \n",
    "- Sales are highly right-skewed, dominated by low daily volumes, but with occasional extreme peaks.  \n",
    "- Any model must handle this imbalance:  \n",
    "  - Either predict in log space,  \n",
    "  - Or explicitly model “normal” vs. “spike” demand separately (e.g., promotions, holidays).  \n"
   ]
  },
  {
   "cell_type": "code",
   "execution_count": 10,
   "id": "8a5e5e22",
   "metadata": {},
   "outputs": [
    {
     "data": {
      "application/vnd.plotly.v1+json": {
       "config": {
        "plotlyServerURL": "https://plot.ly"
       },
       "data": [
        {
         "hovertemplate": "date=%{x}<br>unit_sales=%{y}<extra></extra>",
         "legendgroup": "",
         "line": {
          "color": "#636efa",
          "dash": "solid"
         },
         "marker": {
          "symbol": "circle"
         },
         "mode": "lines",
         "name": "",
         "orientation": "v",
         "showlegend": false,
         "type": "scatter",
         "x": [
          "2013-01-01",
          "2013-01-02",
          "2013-01-03",
          "2013-01-04",
          "2013-01-05",
          "2013-01-06",
          "2013-01-07",
          "2013-01-08",
          "2013-01-09",
          "2013-01-10",
          "2013-01-11",
          "2013-01-12",
          "2013-01-13",
          "2013-01-14",
          "2013-01-15",
          "2013-01-16",
          "2013-01-17",
          "2013-01-18",
          "2013-01-19",
          "2013-01-20",
          "2013-01-21",
          "2013-01-22",
          "2013-01-23",
          "2013-01-24",
          "2013-01-25",
          "2013-01-26",
          "2013-01-27",
          "2013-01-28",
          "2013-01-29",
          "2013-01-30",
          "2013-01-31",
          "2013-02-01",
          "2013-02-02",
          "2013-02-03",
          "2013-02-04",
          "2013-02-05",
          "2013-02-06",
          "2013-02-07",
          "2013-02-08",
          "2013-02-09",
          "2013-02-10",
          "2013-02-11",
          "2013-02-12",
          "2013-02-13",
          "2013-02-14",
          "2013-02-15",
          "2013-02-16",
          "2013-02-17",
          "2013-02-18",
          "2013-02-19",
          "2013-02-20",
          "2013-02-21",
          "2013-02-22",
          "2013-02-23",
          "2013-02-24",
          "2013-02-25",
          "2013-02-26",
          "2013-02-27",
          "2013-02-28",
          "2013-03-01",
          "2013-03-02",
          "2013-03-03",
          "2013-03-04",
          "2013-03-05",
          "2013-03-06",
          "2013-03-07",
          "2013-03-08",
          "2013-03-09",
          "2013-03-10",
          "2013-03-11",
          "2013-03-12",
          "2013-03-13",
          "2013-03-14",
          "2013-03-15",
          "2013-03-16",
          "2013-03-17",
          "2013-03-18",
          "2013-03-19",
          "2013-03-20",
          "2013-03-21",
          "2013-03-22",
          "2013-03-23",
          "2013-03-24",
          "2013-03-25",
          "2013-03-26",
          "2013-03-27",
          "2013-03-28",
          "2013-03-29",
          "2013-03-30",
          "2013-03-31",
          "2013-04-01",
          "2013-04-02",
          "2013-04-03",
          "2013-04-04",
          "2013-04-05",
          "2013-04-06",
          "2013-04-07",
          "2013-04-08",
          "2013-04-09",
          "2013-04-10",
          "2013-04-11",
          "2013-04-12",
          "2013-04-13",
          "2013-04-14",
          "2013-04-15",
          "2013-04-16",
          "2013-04-17",
          "2013-04-18",
          "2013-04-19",
          "2013-04-20",
          "2013-04-21",
          "2013-04-22",
          "2013-04-23",
          "2013-04-24",
          "2013-04-25",
          "2013-04-26",
          "2013-04-27",
          "2013-04-28",
          "2013-04-29",
          "2013-04-30",
          "2013-05-01",
          "2013-05-02",
          "2013-05-03",
          "2013-05-04",
          "2013-05-05",
          "2013-05-06",
          "2013-05-07",
          "2013-05-08",
          "2013-05-09",
          "2013-05-10",
          "2013-05-11",
          "2013-05-12",
          "2013-05-13",
          "2013-05-14",
          "2013-05-15",
          "2013-05-16",
          "2013-05-17",
          "2013-05-18",
          "2013-05-19",
          "2013-05-20",
          "2013-05-21",
          "2013-05-22",
          "2013-05-23",
          "2013-05-24",
          "2013-05-25",
          "2013-05-26",
          "2013-05-27",
          "2013-05-28",
          "2013-05-29",
          "2013-05-30",
          "2013-05-31",
          "2013-06-01",
          "2013-06-02",
          "2013-06-03",
          "2013-06-04",
          "2013-06-05",
          "2013-06-06",
          "2013-06-07",
          "2013-06-08",
          "2013-06-09",
          "2013-06-10",
          "2013-06-11",
          "2013-06-12",
          "2013-06-13",
          "2013-06-14",
          "2013-06-15",
          "2013-06-16",
          "2013-06-17",
          "2013-06-18",
          "2013-06-19",
          "2013-06-20",
          "2013-06-21",
          "2013-06-22",
          "2013-06-23",
          "2013-06-24",
          "2013-06-25",
          "2013-06-26",
          "2013-06-27",
          "2013-06-28",
          "2013-06-29",
          "2013-06-30",
          "2013-07-01",
          "2013-07-02",
          "2013-07-03",
          "2013-07-04",
          "2013-07-05",
          "2013-07-06",
          "2013-07-07",
          "2013-07-08",
          "2013-07-09",
          "2013-07-10",
          "2013-07-11",
          "2013-07-12",
          "2013-07-13",
          "2013-07-14",
          "2013-07-15",
          "2013-07-16",
          "2013-07-17",
          "2013-07-18",
          "2013-07-19",
          "2013-07-20",
          "2013-07-21",
          "2013-07-22",
          "2013-07-23",
          "2013-07-24",
          "2013-07-25",
          "2013-07-26",
          "2013-07-27",
          "2013-07-28",
          "2013-07-29",
          "2013-07-30",
          "2013-07-31",
          "2013-08-01",
          "2013-08-02",
          "2013-08-03",
          "2013-08-04",
          "2013-08-05",
          "2013-08-06",
          "2013-08-07",
          "2013-08-08",
          "2013-08-09",
          "2013-08-10",
          "2013-08-11",
          "2013-08-12",
          "2013-08-13",
          "2013-08-14",
          "2013-08-15",
          "2013-08-16",
          "2013-08-17",
          "2013-08-18",
          "2013-08-19",
          "2013-08-20",
          "2013-08-21",
          "2013-08-22",
          "2013-08-23",
          "2013-08-24",
          "2013-08-25",
          "2013-08-26",
          "2013-08-27",
          "2013-08-28",
          "2013-08-29",
          "2013-08-30",
          "2013-08-31",
          "2013-09-01",
          "2013-09-02",
          "2013-09-03",
          "2013-09-04",
          "2013-09-05",
          "2013-09-06",
          "2013-09-07",
          "2013-09-08",
          "2013-09-09",
          "2013-09-10",
          "2013-09-11",
          "2013-09-12",
          "2013-09-13",
          "2013-09-14",
          "2013-09-15",
          "2013-09-16",
          "2013-09-17",
          "2013-09-18",
          "2013-09-19",
          "2013-09-20",
          "2013-09-21",
          "2013-09-22",
          "2013-09-23",
          "2013-09-24",
          "2013-09-25",
          "2013-09-26",
          "2013-09-27",
          "2013-09-28",
          "2013-09-29",
          "2013-09-30",
          "2013-10-01",
          "2013-10-02",
          "2013-10-03",
          "2013-10-04",
          "2013-10-05",
          "2013-10-06",
          "2013-10-07",
          "2013-10-08",
          "2013-10-09",
          "2013-10-10",
          "2013-10-11",
          "2013-10-12",
          "2013-10-13",
          "2013-10-14",
          "2013-10-15",
          "2013-10-16",
          "2013-10-17",
          "2013-10-18",
          "2013-10-19",
          "2013-10-20",
          "2013-10-21",
          "2013-10-22",
          "2013-10-23",
          "2013-10-24",
          "2013-10-25",
          "2013-10-26",
          "2013-10-27",
          "2013-10-28",
          "2013-10-29",
          "2013-10-30",
          "2013-10-31",
          "2013-11-01",
          "2013-11-02",
          "2013-11-03",
          "2013-11-04",
          "2013-11-05",
          "2013-11-06",
          "2013-11-07",
          "2013-11-08",
          "2013-11-09",
          "2013-11-10",
          "2013-11-11",
          "2013-11-12",
          "2013-11-13",
          "2013-11-14",
          "2013-11-15",
          "2013-11-16",
          "2013-11-17",
          "2013-11-18",
          "2013-11-19",
          "2013-11-20",
          "2013-11-21",
          "2013-11-22",
          "2013-11-23",
          "2013-11-24",
          "2013-11-25",
          "2013-11-26",
          "2013-11-27",
          "2013-11-28",
          "2013-11-29",
          "2013-11-30",
          "2013-12-01",
          "2013-12-02",
          "2013-12-03",
          "2013-12-04",
          "2013-12-05",
          "2013-12-06",
          "2013-12-07",
          "2013-12-08",
          "2013-12-09",
          "2013-12-10",
          "2013-12-11",
          "2013-12-12",
          "2013-12-13",
          "2013-12-14",
          "2013-12-15",
          "2013-12-16",
          "2013-12-17",
          "2013-12-18",
          "2013-12-19",
          "2013-12-20",
          "2013-12-21",
          "2013-12-22",
          "2013-12-23",
          "2013-12-24",
          "2013-12-26",
          "2013-12-27",
          "2013-12-28",
          "2013-12-29",
          "2013-12-30",
          "2013-12-31",
          "2014-01-01",
          "2014-01-02",
          "2014-01-03",
          "2014-01-04",
          "2014-01-05",
          "2014-01-06",
          "2014-01-07",
          "2014-01-08",
          "2014-01-09",
          "2014-01-10",
          "2014-01-11",
          "2014-01-12",
          "2014-01-13",
          "2014-01-14",
          "2014-01-15",
          "2014-01-16",
          "2014-01-17",
          "2014-01-18",
          "2014-01-19",
          "2014-01-20",
          "2014-01-21",
          "2014-01-22",
          "2014-01-23",
          "2014-01-24",
          "2014-01-25",
          "2014-01-26",
          "2014-01-27",
          "2014-01-28",
          "2014-01-29",
          "2014-01-30",
          "2014-01-31",
          "2014-02-01",
          "2014-02-02",
          "2014-02-03",
          "2014-02-04",
          "2014-02-05",
          "2014-02-06",
          "2014-02-07",
          "2014-02-08",
          "2014-02-09",
          "2014-02-10",
          "2014-02-11",
          "2014-02-12",
          "2014-02-13",
          "2014-02-14",
          "2014-02-15",
          "2014-02-16",
          "2014-02-17",
          "2014-02-18",
          "2014-02-19",
          "2014-02-20",
          "2014-02-21",
          "2014-02-22",
          "2014-02-23",
          "2014-02-24",
          "2014-02-25",
          "2014-02-26",
          "2014-02-27",
          "2014-02-28",
          "2014-03-01",
          "2014-03-02",
          "2014-03-03",
          "2014-03-04",
          "2014-03-05",
          "2014-03-06",
          "2014-03-07",
          "2014-03-08",
          "2014-03-09"
         ],
         "xaxis": "x",
         "y": {
          "bdata": "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",
          "dtype": "f8"
         },
         "yaxis": "y"
        }
       ],
       "layout": {
        "legend": {
         "tracegroupgap": 0
        },
        "template": {
         "data": {
          "bar": [
           {
            "error_x": {
             "color": "#2a3f5f"
            },
            "error_y": {
             "color": "#2a3f5f"
            },
            "marker": {
             "line": {
              "color": "#E5ECF6",
              "width": 0.5
             },
             "pattern": {
              "fillmode": "overlay",
              "size": 10,
              "solidity": 0.2
             }
            },
            "type": "bar"
           }
          ],
          "barpolar": [
           {
            "marker": {
             "line": {
              "color": "#E5ECF6",
              "width": 0.5
             },
             "pattern": {
              "fillmode": "overlay",
              "size": 10,
              "solidity": 0.2
             }
            },
            "type": "barpolar"
           }
          ],
          "carpet": [
           {
            "aaxis": {
             "endlinecolor": "#2a3f5f",
             "gridcolor": "white",
             "linecolor": "white",
             "minorgridcolor": "white",
             "startlinecolor": "#2a3f5f"
            },
            "baxis": {
             "endlinecolor": "#2a3f5f",
             "gridcolor": "white",
             "linecolor": "white",
             "minorgridcolor": "white",
             "startlinecolor": "#2a3f5f"
            },
            "type": "carpet"
           }
          ],
          "choropleth": [
           {
            "colorbar": {
             "outlinewidth": 0,
             "ticks": ""
            },
            "type": "choropleth"
           }
          ],
          "contour": [
           {
            "colorbar": {
             "outlinewidth": 0,
             "ticks": ""
            },
            "colorscale": [
             [
              0,
              "#0d0887"
             ],
             [
              0.1111111111111111,
              "#46039f"
             ],
             [
              0.2222222222222222,
              "#7201a8"
             ],
             [
              0.3333333333333333,
              "#9c179e"
             ],
             [
              0.4444444444444444,
              "#bd3786"
             ],
             [
              0.5555555555555556,
              "#d8576b"
             ],
             [
              0.6666666666666666,
              "#ed7953"
             ],
             [
              0.7777777777777778,
              "#fb9f3a"
             ],
             [
              0.8888888888888888,
              "#fdca26"
             ],
             [
              1,
              "#f0f921"
             ]
            ],
            "type": "contour"
           }
          ],
          "contourcarpet": [
           {
            "colorbar": {
             "outlinewidth": 0,
             "ticks": ""
            },
            "type": "contourcarpet"
           }
          ],
          "heatmap": [
           {
            "colorbar": {
             "outlinewidth": 0,
             "ticks": ""
            },
            "colorscale": [
             [
              0,
              "#0d0887"
             ],
             [
              0.1111111111111111,
              "#46039f"
             ],
             [
              0.2222222222222222,
              "#7201a8"
             ],
             [
              0.3333333333333333,
              "#9c179e"
             ],
             [
              0.4444444444444444,
              "#bd3786"
             ],
             [
              0.5555555555555556,
              "#d8576b"
             ],
             [
              0.6666666666666666,
              "#ed7953"
             ],
             [
              0.7777777777777778,
              "#fb9f3a"
             ],
             [
              0.8888888888888888,
              "#fdca26"
             ],
             [
              1,
              "#f0f921"
             ]
            ],
            "type": "heatmap"
           }
          ],
          "histogram": [
           {
            "marker": {
             "pattern": {
              "fillmode": "overlay",
              "size": 10,
              "solidity": 0.2
             }
            },
            "type": "histogram"
           }
          ],
          "histogram2d": [
           {
            "colorbar": {
             "outlinewidth": 0,
             "ticks": ""
            },
            "colorscale": [
             [
              0,
              "#0d0887"
             ],
             [
              0.1111111111111111,
              "#46039f"
             ],
             [
              0.2222222222222222,
              "#7201a8"
             ],
             [
              0.3333333333333333,
              "#9c179e"
             ],
             [
              0.4444444444444444,
              "#bd3786"
             ],
             [
              0.5555555555555556,
              "#d8576b"
             ],
             [
              0.6666666666666666,
              "#ed7953"
             ],
             [
              0.7777777777777778,
              "#fb9f3a"
             ],
             [
              0.8888888888888888,
              "#fdca26"
             ],
             [
              1,
              "#f0f921"
             ]
            ],
            "type": "histogram2d"
           }
          ],
          "histogram2dcontour": [
           {
            "colorbar": {
             "outlinewidth": 0,
             "ticks": ""
            },
            "colorscale": [
             [
              0,
              "#0d0887"
             ],
             [
              0.1111111111111111,
              "#46039f"
             ],
             [
              0.2222222222222222,
              "#7201a8"
             ],
             [
              0.3333333333333333,
              "#9c179e"
             ],
             [
              0.4444444444444444,
              "#bd3786"
             ],
             [
              0.5555555555555556,
              "#d8576b"
             ],
             [
              0.6666666666666666,
              "#ed7953"
             ],
             [
              0.7777777777777778,
              "#fb9f3a"
             ],
             [
              0.8888888888888888,
              "#fdca26"
             ],
             [
              1,
              "#f0f921"
             ]
            ],
            "type": "histogram2dcontour"
           }
          ],
          "mesh3d": [
           {
            "colorbar": {
             "outlinewidth": 0,
             "ticks": ""
            },
            "type": "mesh3d"
           }
          ],
          "parcoords": [
           {
            "line": {
             "colorbar": {
              "outlinewidth": 0,
              "ticks": ""
             }
            },
            "type": "parcoords"
           }
          ],
          "pie": [
           {
            "automargin": true,
            "type": "pie"
           }
          ],
          "scatter": [
           {
            "fillpattern": {
             "fillmode": "overlay",
             "size": 10,
             "solidity": 0.2
            },
            "type": "scatter"
           }
          ],
          "scatter3d": [
           {
            "line": {
             "colorbar": {
              "outlinewidth": 0,
              "ticks": ""
             }
            },
            "marker": {
             "colorbar": {
              "outlinewidth": 0,
              "ticks": ""
             }
            },
            "type": "scatter3d"
           }
          ],
          "scattercarpet": [
           {
            "marker": {
             "colorbar": {
              "outlinewidth": 0,
              "ticks": ""
             }
            },
            "type": "scattercarpet"
           }
          ],
          "scattergeo": [
           {
            "marker": {
             "colorbar": {
              "outlinewidth": 0,
              "ticks": ""
             }
            },
            "type": "scattergeo"
           }
          ],
          "scattergl": [
           {
            "marker": {
             "colorbar": {
              "outlinewidth": 0,
              "ticks": ""
             }
            },
            "type": "scattergl"
           }
          ],
          "scattermap": [
           {
            "marker": {
             "colorbar": {
              "outlinewidth": 0,
              "ticks": ""
             }
            },
            "type": "scattermap"
           }
          ],
          "scattermapbox": [
           {
            "marker": {
             "colorbar": {
              "outlinewidth": 0,
              "ticks": ""
             }
            },
            "type": "scattermapbox"
           }
          ],
          "scatterpolar": [
           {
            "marker": {
             "colorbar": {
              "outlinewidth": 0,
              "ticks": ""
             }
            },
            "type": "scatterpolar"
           }
          ],
          "scatterpolargl": [
           {
            "marker": {
             "colorbar": {
              "outlinewidth": 0,
              "ticks": ""
             }
            },
            "type": "scatterpolargl"
           }
          ],
          "scatterternary": [
           {
            "marker": {
             "colorbar": {
              "outlinewidth": 0,
              "ticks": ""
             }
            },
            "type": "scatterternary"
           }
          ],
          "surface": [
           {
            "colorbar": {
             "outlinewidth": 0,
             "ticks": ""
            },
            "colorscale": [
             [
              0,
              "#0d0887"
             ],
             [
              0.1111111111111111,
              "#46039f"
             ],
             [
              0.2222222222222222,
              "#7201a8"
             ],
             [
              0.3333333333333333,
              "#9c179e"
             ],
             [
              0.4444444444444444,
              "#bd3786"
             ],
             [
              0.5555555555555556,
              "#d8576b"
             ],
             [
              0.6666666666666666,
              "#ed7953"
             ],
             [
              0.7777777777777778,
              "#fb9f3a"
             ],
             [
              0.8888888888888888,
              "#fdca26"
             ],
             [
              1,
              "#f0f921"
             ]
            ],
            "type": "surface"
           }
          ],
          "table": [
           {
            "cells": {
             "fill": {
              "color": "#EBF0F8"
             },
             "line": {
              "color": "white"
             }
            },
            "header": {
             "fill": {
              "color": "#C8D4E3"
             },
             "line": {
              "color": "white"
             }
            },
            "type": "table"
           }
          ]
         },
         "layout": {
          "annotationdefaults": {
           "arrowcolor": "#2a3f5f",
           "arrowhead": 0,
           "arrowwidth": 1
          },
          "autotypenumbers": "strict",
          "coloraxis": {
           "colorbar": {
            "outlinewidth": 0,
            "ticks": ""
           }
          },
          "colorscale": {
           "diverging": [
            [
             0,
             "#8e0152"
            ],
            [
             0.1,
             "#c51b7d"
            ],
            [
             0.2,
             "#de77ae"
            ],
            [
             0.3,
             "#f1b6da"
            ],
            [
             0.4,
             "#fde0ef"
            ],
            [
             0.5,
             "#f7f7f7"
            ],
            [
             0.6,
             "#e6f5d0"
            ],
            [
             0.7,
             "#b8e186"
            ],
            [
             0.8,
             "#7fbc41"
            ],
            [
             0.9,
             "#4d9221"
            ],
            [
             1,
             "#276419"
            ]
           ],
           "sequential": [
            [
             0,
             "#0d0887"
            ],
            [
             0.1111111111111111,
             "#46039f"
            ],
            [
             0.2222222222222222,
             "#7201a8"
            ],
            [
             0.3333333333333333,
             "#9c179e"
            ],
            [
             0.4444444444444444,
             "#bd3786"
            ],
            [
             0.5555555555555556,
             "#d8576b"
            ],
            [
             0.6666666666666666,
             "#ed7953"
            ],
            [
             0.7777777777777778,
             "#fb9f3a"
            ],
            [
             0.8888888888888888,
             "#fdca26"
            ],
            [
             1,
             "#f0f921"
            ]
           ],
           "sequentialminus": [
            [
             0,
             "#0d0887"
            ],
            [
             0.1111111111111111,
             "#46039f"
            ],
            [
             0.2222222222222222,
             "#7201a8"
            ],
            [
             0.3333333333333333,
             "#9c179e"
            ],
            [
             0.4444444444444444,
             "#bd3786"
            ],
            [
             0.5555555555555556,
             "#d8576b"
            ],
            [
             0.6666666666666666,
             "#ed7953"
            ],
            [
             0.7777777777777778,
             "#fb9f3a"
            ],
            [
             0.8888888888888888,
             "#fdca26"
            ],
            [
             1,
             "#f0f921"
            ]
           ]
          },
          "colorway": [
           "#636efa",
           "#EF553B",
           "#00cc96",
           "#ab63fa",
           "#FFA15A",
           "#19d3f3",
           "#FF6692",
           "#B6E880",
           "#FF97FF",
           "#FECB52"
          ],
          "font": {
           "color": "#2a3f5f"
          },
          "geo": {
           "bgcolor": "white",
           "lakecolor": "white",
           "landcolor": "#E5ECF6",
           "showlakes": true,
           "showland": true,
           "subunitcolor": "white"
          },
          "hoverlabel": {
           "align": "left"
          },
          "hovermode": "closest",
          "mapbox": {
           "style": "light"
          },
          "paper_bgcolor": "white",
          "plot_bgcolor": "#E5ECF6",
          "polar": {
           "angularaxis": {
            "gridcolor": "white",
            "linecolor": "white",
            "ticks": ""
           },
           "bgcolor": "#E5ECF6",
           "radialaxis": {
            "gridcolor": "white",
            "linecolor": "white",
            "ticks": ""
           }
          },
          "scene": {
           "xaxis": {
            "backgroundcolor": "#E5ECF6",
            "gridcolor": "white",
            "gridwidth": 2,
            "linecolor": "white",
            "showbackground": true,
            "ticks": "",
            "zerolinecolor": "white"
           },
           "yaxis": {
            "backgroundcolor": "#E5ECF6",
            "gridcolor": "white",
            "gridwidth": 2,
            "linecolor": "white",
            "showbackground": true,
            "ticks": "",
            "zerolinecolor": "white"
           },
           "zaxis": {
            "backgroundcolor": "#E5ECF6",
            "gridcolor": "white",
            "gridwidth": 2,
            "linecolor": "white",
            "showbackground": true,
            "ticks": "",
            "zerolinecolor": "white"
           }
          },
          "shapedefaults": {
           "line": {
            "color": "#2a3f5f"
           }
          },
          "ternary": {
           "aaxis": {
            "gridcolor": "white",
            "linecolor": "white",
            "ticks": ""
           },
           "baxis": {
            "gridcolor": "white",
            "linecolor": "white",
            "ticks": ""
           },
           "bgcolor": "#E5ECF6",
           "caxis": {
            "gridcolor": "white",
            "linecolor": "white",
            "ticks": ""
           }
          },
          "title": {
           "x": 0.05
          },
          "xaxis": {
           "automargin": true,
           "gridcolor": "white",
           "linecolor": "white",
           "ticks": "",
           "title": {
            "standoff": 15
           },
           "zerolinecolor": "white",
           "zerolinewidth": 2
          },
          "yaxis": {
           "automargin": true,
           "gridcolor": "white",
           "linecolor": "white",
           "ticks": "",
           "title": {
            "standoff": 15
           },
           "zerolinecolor": "white",
           "zerolinewidth": 2
          }
         }
        },
        "title": {
         "text": "Total Daily Sales Over Time"
        },
        "xaxis": {
         "anchor": "y",
         "domain": [
          0,
          1
         ],
         "title": {
          "text": "date"
         }
        },
        "yaxis": {
         "anchor": "x",
         "domain": [
          0,
          1
         ],
         "title": {
          "text": "unit_sales"
         }
        }
       }
      }
     },
     "metadata": {},
     "output_type": "display_data"
    }
   ],
   "source": [
    "# Time Trends\n",
    "daily_sales = train.groupby(\"date\")[\"unit_sales\"].sum().reset_index()\n",
    "fig = px.line(daily_sales, x=\"date\", y=\"unit_sales\", title=\"Total Daily Sales Over Time\")\n",
    "fig.show()"
   ]
  },
  {
   "cell_type": "markdown",
   "id": "534e9157",
   "metadata": {},
   "source": [
    "**Insights:**  \n",
    "- Sales show strong **weekly patterns** and **seasonal cycles**.  \n",
    "- Spikes and dips align with holidays and special events.  \n",
    "- Important for forecasting: both **short-term seasonality** and **long-term trends** are visible.  \n"
   ]
  },
  {
   "cell_type": "code",
   "execution_count": 11,
   "id": "577399e1",
   "metadata": {},
   "outputs": [
    {
     "data": {
      "application/vnd.plotly.v1+json": {
       "config": {
        "plotlyServerURL": "https://plot.ly"
       },
       "data": [
        {
         "hovertemplate": "Legend=unit_sales<br>date=%{x}<br>Unit Sales=%{y}<extra></extra>",
         "legendgroup": "unit_sales",
         "line": {
          "color": "#636efa",
          "dash": "solid"
         },
         "marker": {
          "symbol": "circle"
         },
         "mode": "lines",
         "name": "unit_sales",
         "showlegend": true,
         "type": "scattergl",
         "x": [
          "2013-01-01",
          "2013-01-02",
          "2013-01-03",
          "2013-01-04",
          "2013-01-05",
          "2013-01-06",
          "2013-01-07",
          "2013-01-08",
          "2013-01-09",
          "2013-01-10",
          "2013-01-11",
          "2013-01-12",
          "2013-01-13",
          "2013-01-14",
          "2013-01-15",
          "2013-01-16",
          "2013-01-17",
          "2013-01-18",
          "2013-01-19",
          "2013-01-20",
          "2013-01-21",
          "2013-01-22",
          "2013-01-23",
          "2013-01-24",
          "2013-01-25",
          "2013-01-26",
          "2013-01-27",
          "2013-01-28",
          "2013-01-29",
          "2013-01-30",
          "2013-01-31",
          "2013-02-01",
          "2013-02-02",
          "2013-02-03",
          "2013-02-04",
          "2013-02-05",
          "2013-02-06",
          "2013-02-07",
          "2013-02-08",
          "2013-02-09",
          "2013-02-10",
          "2013-02-11",
          "2013-02-12",
          "2013-02-13",
          "2013-02-14",
          "2013-02-15",
          "2013-02-16",
          "2013-02-17",
          "2013-02-18",
          "2013-02-19",
          "2013-02-20",
          "2013-02-21",
          "2013-02-22",
          "2013-02-23",
          "2013-02-24",
          "2013-02-25",
          "2013-02-26",
          "2013-02-27",
          "2013-02-28",
          "2013-03-01",
          "2013-03-02",
          "2013-03-03",
          "2013-03-04",
          "2013-03-05",
          "2013-03-06",
          "2013-03-07",
          "2013-03-08",
          "2013-03-09",
          "2013-03-10",
          "2013-03-11",
          "2013-03-12",
          "2013-03-13",
          "2013-03-14",
          "2013-03-15",
          "2013-03-16",
          "2013-03-17",
          "2013-03-18",
          "2013-03-19",
          "2013-03-20",
          "2013-03-21",
          "2013-03-22",
          "2013-03-23",
          "2013-03-24",
          "2013-03-25",
          "2013-03-26",
          "2013-03-27",
          "2013-03-28",
          "2013-03-29",
          "2013-03-30",
          "2013-03-31",
          "2013-04-01",
          "2013-04-02",
          "2013-04-03",
          "2013-04-04",
          "2013-04-05",
          "2013-04-06",
          "2013-04-07",
          "2013-04-08",
          "2013-04-09",
          "2013-04-10",
          "2013-04-11",
          "2013-04-12",
          "2013-04-13",
          "2013-04-14",
          "2013-04-15",
          "2013-04-16",
          "2013-04-17",
          "2013-04-18",
          "2013-04-19",
          "2013-04-20",
          "2013-04-21",
          "2013-04-22",
          "2013-04-23",
          "2013-04-24",
          "2013-04-25",
          "2013-04-26",
          "2013-04-27",
          "2013-04-28",
          "2013-04-29",
          "2013-04-30",
          "2013-05-01",
          "2013-05-02",
          "2013-05-03",
          "2013-05-04",
          "2013-05-05",
          "2013-05-06",
          "2013-05-07",
          "2013-05-08",
          "2013-05-09",
          "2013-05-10",
          "2013-05-11",
          "2013-05-12",
          "2013-05-13",
          "2013-05-14",
          "2013-05-15",
          "2013-05-16",
          "2013-05-17",
          "2013-05-18",
          "2013-05-19",
          "2013-05-20",
          "2013-05-21",
          "2013-05-22",
          "2013-05-23",
          "2013-05-24",
          "2013-05-25",
          "2013-05-26",
          "2013-05-27",
          "2013-05-28",
          "2013-05-29",
          "2013-05-30",
          "2013-05-31",
          "2013-06-01",
          "2013-06-02",
          "2013-06-03",
          "2013-06-04",
          "2013-06-05",
          "2013-06-06",
          "2013-06-07",
          "2013-06-08",
          "2013-06-09",
          "2013-06-10",
          "2013-06-11",
          "2013-06-12",
          "2013-06-13",
          "2013-06-14",
          "2013-06-15",
          "2013-06-16",
          "2013-06-17",
          "2013-06-18",
          "2013-06-19",
          "2013-06-20",
          "2013-06-21",
          "2013-06-22",
          "2013-06-23",
          "2013-06-24",
          "2013-06-25",
          "2013-06-26",
          "2013-06-27",
          "2013-06-28",
          "2013-06-29",
          "2013-06-30",
          "2013-07-01",
          "2013-07-02",
          "2013-07-03",
          "2013-07-04",
          "2013-07-05",
          "2013-07-06",
          "2013-07-07",
          "2013-07-08",
          "2013-07-09",
          "2013-07-10",
          "2013-07-11",
          "2013-07-12",
          "2013-07-13",
          "2013-07-14",
          "2013-07-15",
          "2013-07-16",
          "2013-07-17",
          "2013-07-18",
          "2013-07-19",
          "2013-07-20",
          "2013-07-21",
          "2013-07-22",
          "2013-07-23",
          "2013-07-24",
          "2013-07-25",
          "2013-07-26",
          "2013-07-27",
          "2013-07-28",
          "2013-07-29",
          "2013-07-30",
          "2013-07-31",
          "2013-08-01",
          "2013-08-02",
          "2013-08-03",
          "2013-08-04",
          "2013-08-05",
          "2013-08-06",
          "2013-08-07",
          "2013-08-08",
          "2013-08-09",
          "2013-08-10",
          "2013-08-11",
          "2013-08-12",
          "2013-08-13",
          "2013-08-14",
          "2013-08-15",
          "2013-08-16",
          "2013-08-17",
          "2013-08-18",
          "2013-08-19",
          "2013-08-20",
          "2013-08-21",
          "2013-08-22",
          "2013-08-23",
          "2013-08-24",
          "2013-08-25",
          "2013-08-26",
          "2013-08-27",
          "2013-08-28",
          "2013-08-29",
          "2013-08-30",
          "2013-08-31",
          "2013-09-01",
          "2013-09-02",
          "2013-09-03",
          "2013-09-04",
          "2013-09-05",
          "2013-09-06",
          "2013-09-07",
          "2013-09-08",
          "2013-09-09",
          "2013-09-10",
          "2013-09-11",
          "2013-09-12",
          "2013-09-13",
          "2013-09-14",
          "2013-09-15",
          "2013-09-16",
          "2013-09-17",
          "2013-09-18",
          "2013-09-19",
          "2013-09-20",
          "2013-09-21",
          "2013-09-22",
          "2013-09-23",
          "2013-09-24",
          "2013-09-25",
          "2013-09-26",
          "2013-09-27",
          "2013-09-28",
          "2013-09-29",
          "2013-09-30",
          "2013-10-01",
          "2013-10-02",
          "2013-10-03",
          "2013-10-04",
          "2013-10-05",
          "2013-10-06",
          "2013-10-07",
          "2013-10-08",
          "2013-10-09",
          "2013-10-10",
          "2013-10-11",
          "2013-10-12",
          "2013-10-13",
          "2013-10-14",
          "2013-10-15",
          "2013-10-16",
          "2013-10-17",
          "2013-10-18",
          "2013-10-19",
          "2013-10-20",
          "2013-10-21",
          "2013-10-22",
          "2013-10-23",
          "2013-10-24",
          "2013-10-25",
          "2013-10-26",
          "2013-10-27",
          "2013-10-28",
          "2013-10-29",
          "2013-10-30",
          "2013-10-31",
          "2013-11-01",
          "2013-11-02",
          "2013-11-03",
          "2013-11-04",
          "2013-11-05",
          "2013-11-06",
          "2013-11-07",
          "2013-11-08",
          "2013-11-09",
          "2013-11-10",
          "2013-11-11",
          "2013-11-12",
          "2013-11-13",
          "2013-11-14",
          "2013-11-15",
          "2013-11-16",
          "2013-11-17",
          "2013-11-18",
          "2013-11-19",
          "2013-11-20",
          "2013-11-21",
          "2013-11-22",
          "2013-11-23",
          "2013-11-24",
          "2013-11-25",
          "2013-11-26",
          "2013-11-27",
          "2013-11-28",
          "2013-11-29",
          "2013-11-30",
          "2013-12-01",
          "2013-12-02",
          "2013-12-03",
          "2013-12-04",
          "2013-12-05",
          "2013-12-06",
          "2013-12-07",
          "2013-12-08",
          "2013-12-09",
          "2013-12-10",
          "2013-12-11",
          "2013-12-12",
          "2013-12-13",
          "2013-12-14",
          "2013-12-15",
          "2013-12-16",
          "2013-12-17",
          "2013-12-18",
          "2013-12-19",
          "2013-12-20",
          "2013-12-21",
          "2013-12-22",
          "2013-12-23",
          "2013-12-24",
          "2013-12-26",
          "2013-12-27",
          "2013-12-28",
          "2013-12-29",
          "2013-12-30",
          "2013-12-31",
          "2014-01-01",
          "2014-01-02",
          "2014-01-03",
          "2014-01-04",
          "2014-01-05",
          "2014-01-06",
          "2014-01-07",
          "2014-01-08",
          "2014-01-09",
          "2014-01-10",
          "2014-01-11",
          "2014-01-12",
          "2014-01-13",
          "2014-01-14",
          "2014-01-15",
          "2014-01-16",
          "2014-01-17",
          "2014-01-18",
          "2014-01-19",
          "2014-01-20",
          "2014-01-21",
          "2014-01-22",
          "2014-01-23",
          "2014-01-24",
          "2014-01-25",
          "2014-01-26",
          "2014-01-27",
          "2014-01-28",
          "2014-01-29",
          "2014-01-30",
          "2014-01-31",
          "2014-02-01",
          "2014-02-02",
          "2014-02-03",
          "2014-02-04",
          "2014-02-05",
          "2014-02-06",
          "2014-02-07",
          "2014-02-08",
          "2014-02-09",
          "2014-02-10",
          "2014-02-11",
          "2014-02-12",
          "2014-02-13",
          "2014-02-14",
          "2014-02-15",
          "2014-02-16",
          "2014-02-17",
          "2014-02-18",
          "2014-02-19",
          "2014-02-20",
          "2014-02-21",
          "2014-02-22",
          "2014-02-23",
          "2014-02-24",
          "2014-02-25",
          "2014-02-26",
          "2014-02-27",
          "2014-02-28",
          "2014-03-01",
          "2014-03-02",
          "2014-03-03",
          "2014-03-04",
          "2014-03-05",
          "2014-03-06",
          "2014-03-07",
          "2014-03-08",
          "2014-03-09"
         ],
         "xaxis": "x",
         "y": {
          "bdata": "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",
          "dtype": "f8"
         },
         "yaxis": "y"
        },
        {
         "hovertemplate": "Legend=rolling_7d<br>date=%{x}<br>Unit Sales=%{y}<extra></extra>",
         "legendgroup": "rolling_7d",
         "line": {
          "color": "#EF553B",
          "dash": "solid"
         },
         "marker": {
          "symbol": "circle"
         },
         "mode": "lines",
         "name": "rolling_7d",
         "showlegend": true,
         "type": "scattergl",
         "x": [
          "2013-01-01",
          "2013-01-02",
          "2013-01-03",
          "2013-01-04",
          "2013-01-05",
          "2013-01-06",
          "2013-01-07",
          "2013-01-08",
          "2013-01-09",
          "2013-01-10",
          "2013-01-11",
          "2013-01-12",
          "2013-01-13",
          "2013-01-14",
          "2013-01-15",
          "2013-01-16",
          "2013-01-17",
          "2013-01-18",
          "2013-01-19",
          "2013-01-20",
          "2013-01-21",
          "2013-01-22",
          "2013-01-23",
          "2013-01-24",
          "2013-01-25",
          "2013-01-26",
          "2013-01-27",
          "2013-01-28",
          "2013-01-29",
          "2013-01-30",
          "2013-01-31",
          "2013-02-01",
          "2013-02-02",
          "2013-02-03",
          "2013-02-04",
          "2013-02-05",
          "2013-02-06",
          "2013-02-07",
          "2013-02-08",
          "2013-02-09",
          "2013-02-10",
          "2013-02-11",
          "2013-02-12",
          "2013-02-13",
          "2013-02-14",
          "2013-02-15",
          "2013-02-16",
          "2013-02-17",
          "2013-02-18",
          "2013-02-19",
          "2013-02-20",
          "2013-02-21",
          "2013-02-22",
          "2013-02-23",
          "2013-02-24",
          "2013-02-25",
          "2013-02-26",
          "2013-02-27",
          "2013-02-28",
          "2013-03-01",
          "2013-03-02",
          "2013-03-03",
          "2013-03-04",
          "2013-03-05",
          "2013-03-06",
          "2013-03-07",
          "2013-03-08",
          "2013-03-09",
          "2013-03-10",
          "2013-03-11",
          "2013-03-12",
          "2013-03-13",
          "2013-03-14",
          "2013-03-15",
          "2013-03-16",
          "2013-03-17",
          "2013-03-18",
          "2013-03-19",
          "2013-03-20",
          "2013-03-21",
          "2013-03-22",
          "2013-03-23",
          "2013-03-24",
          "2013-03-25",
          "2013-03-26",
          "2013-03-27",
          "2013-03-28",
          "2013-03-29",
          "2013-03-30",
          "2013-03-31",
          "2013-04-01",
          "2013-04-02",
          "2013-04-03",
          "2013-04-04",
          "2013-04-05",
          "2013-04-06",
          "2013-04-07",
          "2013-04-08",
          "2013-04-09",
          "2013-04-10",
          "2013-04-11",
          "2013-04-12",
          "2013-04-13",
          "2013-04-14",
          "2013-04-15",
          "2013-04-16",
          "2013-04-17",
          "2013-04-18",
          "2013-04-19",
          "2013-04-20",
          "2013-04-21",
          "2013-04-22",
          "2013-04-23",
          "2013-04-24",
          "2013-04-25",
          "2013-04-26",
          "2013-04-27",
          "2013-04-28",
          "2013-04-29",
          "2013-04-30",
          "2013-05-01",
          "2013-05-02",
          "2013-05-03",
          "2013-05-04",
          "2013-05-05",
          "2013-05-06",
          "2013-05-07",
          "2013-05-08",
          "2013-05-09",
          "2013-05-10",
          "2013-05-11",
          "2013-05-12",
          "2013-05-13",
          "2013-05-14",
          "2013-05-15",
          "2013-05-16",
          "2013-05-17",
          "2013-05-18",
          "2013-05-19",
          "2013-05-20",
          "2013-05-21",
          "2013-05-22",
          "2013-05-23",
          "2013-05-24",
          "2013-05-25",
          "2013-05-26",
          "2013-05-27",
          "2013-05-28",
          "2013-05-29",
          "2013-05-30",
          "2013-05-31",
          "2013-06-01",
          "2013-06-02",
          "2013-06-03",
          "2013-06-04",
          "2013-06-05",
          "2013-06-06",
          "2013-06-07",
          "2013-06-08",
          "2013-06-09",
          "2013-06-10",
          "2013-06-11",
          "2013-06-12",
          "2013-06-13",
          "2013-06-14",
          "2013-06-15",
          "2013-06-16",
          "2013-06-17",
          "2013-06-18",
          "2013-06-19",
          "2013-06-20",
          "2013-06-21",
          "2013-06-22",
          "2013-06-23",
          "2013-06-24",
          "2013-06-25",
          "2013-06-26",
          "2013-06-27",
          "2013-06-28",
          "2013-06-29",
          "2013-06-30",
          "2013-07-01",
          "2013-07-02",
          "2013-07-03",
          "2013-07-04",
          "2013-07-05",
          "2013-07-06",
          "2013-07-07",
          "2013-07-08",
          "2013-07-09",
          "2013-07-10",
          "2013-07-11",
          "2013-07-12",
          "2013-07-13",
          "2013-07-14",
          "2013-07-15",
          "2013-07-16",
          "2013-07-17",
          "2013-07-18",
          "2013-07-19",
          "2013-07-20",
          "2013-07-21",
          "2013-07-22",
          "2013-07-23",
          "2013-07-24",
          "2013-07-25",
          "2013-07-26",
          "2013-07-27",
          "2013-07-28",
          "2013-07-29",
          "2013-07-30",
          "2013-07-31",
          "2013-08-01",
          "2013-08-02",
          "2013-08-03",
          "2013-08-04",
          "2013-08-05",
          "2013-08-06",
          "2013-08-07",
          "2013-08-08",
          "2013-08-09",
          "2013-08-10",
          "2013-08-11",
          "2013-08-12",
          "2013-08-13",
          "2013-08-14",
          "2013-08-15",
          "2013-08-16",
          "2013-08-17",
          "2013-08-18",
          "2013-08-19",
          "2013-08-20",
          "2013-08-21",
          "2013-08-22",
          "2013-08-23",
          "2013-08-24",
          "2013-08-25",
          "2013-08-26",
          "2013-08-27",
          "2013-08-28",
          "2013-08-29",
          "2013-08-30",
          "2013-08-31",
          "2013-09-01",
          "2013-09-02",
          "2013-09-03",
          "2013-09-04",
          "2013-09-05",
          "2013-09-06",
          "2013-09-07",
          "2013-09-08",
          "2013-09-09",
          "2013-09-10",
          "2013-09-11",
          "2013-09-12",
          "2013-09-13",
          "2013-09-14",
          "2013-09-15",
          "2013-09-16",
          "2013-09-17",
          "2013-09-18",
          "2013-09-19",
          "2013-09-20",
          "2013-09-21",
          "2013-09-22",
          "2013-09-23",
          "2013-09-24",
          "2013-09-25",
          "2013-09-26",
          "2013-09-27",
          "2013-09-28",
          "2013-09-29",
          "2013-09-30",
          "2013-10-01",
          "2013-10-02",
          "2013-10-03",
          "2013-10-04",
          "2013-10-05",
          "2013-10-06",
          "2013-10-07",
          "2013-10-08",
          "2013-10-09",
          "2013-10-10",
          "2013-10-11",
          "2013-10-12",
          "2013-10-13",
          "2013-10-14",
          "2013-10-15",
          "2013-10-16",
          "2013-10-17",
          "2013-10-18",
          "2013-10-19",
          "2013-10-20",
          "2013-10-21",
          "2013-10-22",
          "2013-10-23",
          "2013-10-24",
          "2013-10-25",
          "2013-10-26",
          "2013-10-27",
          "2013-10-28",
          "2013-10-29",
          "2013-10-30",
          "2013-10-31",
          "2013-11-01",
          "2013-11-02",
          "2013-11-03",
          "2013-11-04",
          "2013-11-05",
          "2013-11-06",
          "2013-11-07",
          "2013-11-08",
          "2013-11-09",
          "2013-11-10",
          "2013-11-11",
          "2013-11-12",
          "2013-11-13",
          "2013-11-14",
          "2013-11-15",
          "2013-11-16",
          "2013-11-17",
          "2013-11-18",
          "2013-11-19",
          "2013-11-20",
          "2013-11-21",
          "2013-11-22",
          "2013-11-23",
          "2013-11-24",
          "2013-11-25",
          "2013-11-26",
          "2013-11-27",
          "2013-11-28",
          "2013-11-29",
          "2013-11-30",
          "2013-12-01",
          "2013-12-02",
          "2013-12-03",
          "2013-12-04",
          "2013-12-05",
          "2013-12-06",
          "2013-12-07",
          "2013-12-08",
          "2013-12-09",
          "2013-12-10",
          "2013-12-11",
          "2013-12-12",
          "2013-12-13",
          "2013-12-14",
          "2013-12-15",
          "2013-12-16",
          "2013-12-17",
          "2013-12-18",
          "2013-12-19",
          "2013-12-20",
          "2013-12-21",
          "2013-12-22",
          "2013-12-23",
          "2013-12-24",
          "2013-12-26",
          "2013-12-27",
          "2013-12-28",
          "2013-12-29",
          "2013-12-30",
          "2013-12-31",
          "2014-01-01",
          "2014-01-02",
          "2014-01-03",
          "2014-01-04",
          "2014-01-05",
          "2014-01-06",
          "2014-01-07",
          "2014-01-08",
          "2014-01-09",
          "2014-01-10",
          "2014-01-11",
          "2014-01-12",
          "2014-01-13",
          "2014-01-14",
          "2014-01-15",
          "2014-01-16",
          "2014-01-17",
          "2014-01-18",
          "2014-01-19",
          "2014-01-20",
          "2014-01-21",
          "2014-01-22",
          "2014-01-23",
          "2014-01-24",
          "2014-01-25",
          "2014-01-26",
          "2014-01-27",
          "2014-01-28",
          "2014-01-29",
          "2014-01-30",
          "2014-01-31",
          "2014-02-01",
          "2014-02-02",
          "2014-02-03",
          "2014-02-04",
          "2014-02-05",
          "2014-02-06",
          "2014-02-07",
          "2014-02-08",
          "2014-02-09",
          "2014-02-10",
          "2014-02-11",
          "2014-02-12",
          "2014-02-13",
          "2014-02-14",
          "2014-02-15",
          "2014-02-16",
          "2014-02-17",
          "2014-02-18",
          "2014-02-19",
          "2014-02-20",
          "2014-02-21",
          "2014-02-22",
          "2014-02-23",
          "2014-02-24",
          "2014-02-25",
          "2014-02-26",
          "2014-02-27",
          "2014-02-28",
          "2014-03-01",
          "2014-03-02",
          "2014-03-03",
          "2014-03-04",
          "2014-03-05",
          "2014-03-06",
          "2014-03-07",
          "2014-03-08",
          "2014-03-09"
         ],
         "xaxis": "x",
         "y": {
          "bdata": "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",
          "dtype": "f8"
         },
         "yaxis": "y"
        },
        {
         "hovertemplate": "Legend=rolling_30d<br>date=%{x}<br>Unit Sales=%{y}<extra></extra>",
         "legendgroup": "rolling_30d",
         "line": {
          "color": "#00cc96",
          "dash": "solid"
         },
         "marker": {
          "symbol": "circle"
         },
         "mode": "lines",
         "name": "rolling_30d",
         "showlegend": true,
         "type": "scattergl",
         "x": [
          "2013-01-01",
          "2013-01-02",
          "2013-01-03",
          "2013-01-04",
          "2013-01-05",
          "2013-01-06",
          "2013-01-07",
          "2013-01-08",
          "2013-01-09",
          "2013-01-10",
          "2013-01-11",
          "2013-01-12",
          "2013-01-13",
          "2013-01-14",
          "2013-01-15",
          "2013-01-16",
          "2013-01-17",
          "2013-01-18",
          "2013-01-19",
          "2013-01-20",
          "2013-01-21",
          "2013-01-22",
          "2013-01-23",
          "2013-01-24",
          "2013-01-25",
          "2013-01-26",
          "2013-01-27",
          "2013-01-28",
          "2013-01-29",
          "2013-01-30",
          "2013-01-31",
          "2013-02-01",
          "2013-02-02",
          "2013-02-03",
          "2013-02-04",
          "2013-02-05",
          "2013-02-06",
          "2013-02-07",
          "2013-02-08",
          "2013-02-09",
          "2013-02-10",
          "2013-02-11",
          "2013-02-12",
          "2013-02-13",
          "2013-02-14",
          "2013-02-15",
          "2013-02-16",
          "2013-02-17",
          "2013-02-18",
          "2013-02-19",
          "2013-02-20",
          "2013-02-21",
          "2013-02-22",
          "2013-02-23",
          "2013-02-24",
          "2013-02-25",
          "2013-02-26",
          "2013-02-27",
          "2013-02-28",
          "2013-03-01",
          "2013-03-02",
          "2013-03-03",
          "2013-03-04",
          "2013-03-05",
          "2013-03-06",
          "2013-03-07",
          "2013-03-08",
          "2013-03-09",
          "2013-03-10",
          "2013-03-11",
          "2013-03-12",
          "2013-03-13",
          "2013-03-14",
          "2013-03-15",
          "2013-03-16",
          "2013-03-17",
          "2013-03-18",
          "2013-03-19",
          "2013-03-20",
          "2013-03-21",
          "2013-03-22",
          "2013-03-23",
          "2013-03-24",
          "2013-03-25",
          "2013-03-26",
          "2013-03-27",
          "2013-03-28",
          "2013-03-29",
          "2013-03-30",
          "2013-03-31",
          "2013-04-01",
          "2013-04-02",
          "2013-04-03",
          "2013-04-04",
          "2013-04-05",
          "2013-04-06",
          "2013-04-07",
          "2013-04-08",
          "2013-04-09",
          "2013-04-10",
          "2013-04-11",
          "2013-04-12",
          "2013-04-13",
          "2013-04-14",
          "2013-04-15",
          "2013-04-16",
          "2013-04-17",
          "2013-04-18",
          "2013-04-19",
          "2013-04-20",
          "2013-04-21",
          "2013-04-22",
          "2013-04-23",
          "2013-04-24",
          "2013-04-25",
          "2013-04-26",
          "2013-04-27",
          "2013-04-28",
          "2013-04-29",
          "2013-04-30",
          "2013-05-01",
          "2013-05-02",
          "2013-05-03",
          "2013-05-04",
          "2013-05-05",
          "2013-05-06",
          "2013-05-07",
          "2013-05-08",
          "2013-05-09",
          "2013-05-10",
          "2013-05-11",
          "2013-05-12",
          "2013-05-13",
          "2013-05-14",
          "2013-05-15",
          "2013-05-16",
          "2013-05-17",
          "2013-05-18",
          "2013-05-19",
          "2013-05-20",
          "2013-05-21",
          "2013-05-22",
          "2013-05-23",
          "2013-05-24",
          "2013-05-25",
          "2013-05-26",
          "2013-05-27",
          "2013-05-28",
          "2013-05-29",
          "2013-05-30",
          "2013-05-31",
          "2013-06-01",
          "2013-06-02",
          "2013-06-03",
          "2013-06-04",
          "2013-06-05",
          "2013-06-06",
          "2013-06-07",
          "2013-06-08",
          "2013-06-09",
          "2013-06-10",
          "2013-06-11",
          "2013-06-12",
          "2013-06-13",
          "2013-06-14",
          "2013-06-15",
          "2013-06-16",
          "2013-06-17",
          "2013-06-18",
          "2013-06-19",
          "2013-06-20",
          "2013-06-21",
          "2013-06-22",
          "2013-06-23",
          "2013-06-24",
          "2013-06-25",
          "2013-06-26",
          "2013-06-27",
          "2013-06-28",
          "2013-06-29",
          "2013-06-30",
          "2013-07-01",
          "2013-07-02",
          "2013-07-03",
          "2013-07-04",
          "2013-07-05",
          "2013-07-06",
          "2013-07-07",
          "2013-07-08",
          "2013-07-09",
          "2013-07-10",
          "2013-07-11",
          "2013-07-12",
          "2013-07-13",
          "2013-07-14",
          "2013-07-15",
          "2013-07-16",
          "2013-07-17",
          "2013-07-18",
          "2013-07-19",
          "2013-07-20",
          "2013-07-21",
          "2013-07-22",
          "2013-07-23",
          "2013-07-24",
          "2013-07-25",
          "2013-07-26",
          "2013-07-27",
          "2013-07-28",
          "2013-07-29",
          "2013-07-30",
          "2013-07-31",
          "2013-08-01",
          "2013-08-02",
          "2013-08-03",
          "2013-08-04",
          "2013-08-05",
          "2013-08-06",
          "2013-08-07",
          "2013-08-08",
          "2013-08-09",
          "2013-08-10",
          "2013-08-11",
          "2013-08-12",
          "2013-08-13",
          "2013-08-14",
          "2013-08-15",
          "2013-08-16",
          "2013-08-17",
          "2013-08-18",
          "2013-08-19",
          "2013-08-20",
          "2013-08-21",
          "2013-08-22",
          "2013-08-23",
          "2013-08-24",
          "2013-08-25",
          "2013-08-26",
          "2013-08-27",
          "2013-08-28",
          "2013-08-29",
          "2013-08-30",
          "2013-08-31",
          "2013-09-01",
          "2013-09-02",
          "2013-09-03",
          "2013-09-04",
          "2013-09-05",
          "2013-09-06",
          "2013-09-07",
          "2013-09-08",
          "2013-09-09",
          "2013-09-10",
          "2013-09-11",
          "2013-09-12",
          "2013-09-13",
          "2013-09-14",
          "2013-09-15",
          "2013-09-16",
          "2013-09-17",
          "2013-09-18",
          "2013-09-19",
          "2013-09-20",
          "2013-09-21",
          "2013-09-22",
          "2013-09-23",
          "2013-09-24",
          "2013-09-25",
          "2013-09-26",
          "2013-09-27",
          "2013-09-28",
          "2013-09-29",
          "2013-09-30",
          "2013-10-01",
          "2013-10-02",
          "2013-10-03",
          "2013-10-04",
          "2013-10-05",
          "2013-10-06",
          "2013-10-07",
          "2013-10-08",
          "2013-10-09",
          "2013-10-10",
          "2013-10-11",
          "2013-10-12",
          "2013-10-13",
          "2013-10-14",
          "2013-10-15",
          "2013-10-16",
          "2013-10-17",
          "2013-10-18",
          "2013-10-19",
          "2013-10-20",
          "2013-10-21",
          "2013-10-22",
          "2013-10-23",
          "2013-10-24",
          "2013-10-25",
          "2013-10-26",
          "2013-10-27",
          "2013-10-28",
          "2013-10-29",
          "2013-10-30",
          "2013-10-31",
          "2013-11-01",
          "2013-11-02",
          "2013-11-03",
          "2013-11-04",
          "2013-11-05",
          "2013-11-06",
          "2013-11-07",
          "2013-11-08",
          "2013-11-09",
          "2013-11-10",
          "2013-11-11",
          "2013-11-12",
          "2013-11-13",
          "2013-11-14",
          "2013-11-15",
          "2013-11-16",
          "2013-11-17",
          "2013-11-18",
          "2013-11-19",
          "2013-11-20",
          "2013-11-21",
          "2013-11-22",
          "2013-11-23",
          "2013-11-24",
          "2013-11-25",
          "2013-11-26",
          "2013-11-27",
          "2013-11-28",
          "2013-11-29",
          "2013-11-30",
          "2013-12-01",
          "2013-12-02",
          "2013-12-03",
          "2013-12-04",
          "2013-12-05",
          "2013-12-06",
          "2013-12-07",
          "2013-12-08",
          "2013-12-09",
          "2013-12-10",
          "2013-12-11",
          "2013-12-12",
          "2013-12-13",
          "2013-12-14",
          "2013-12-15",
          "2013-12-16",
          "2013-12-17",
          "2013-12-18",
          "2013-12-19",
          "2013-12-20",
          "2013-12-21",
          "2013-12-22",
          "2013-12-23",
          "2013-12-24",
          "2013-12-26",
          "2013-12-27",
          "2013-12-28",
          "2013-12-29",
          "2013-12-30",
          "2013-12-31",
          "2014-01-01",
          "2014-01-02",
          "2014-01-03",
          "2014-01-04",
          "2014-01-05",
          "2014-01-06",
          "2014-01-07",
          "2014-01-08",
          "2014-01-09",
          "2014-01-10",
          "2014-01-11",
          "2014-01-12",
          "2014-01-13",
          "2014-01-14",
          "2014-01-15",
          "2014-01-16",
          "2014-01-17",
          "2014-01-18",
          "2014-01-19",
          "2014-01-20",
          "2014-01-21",
          "2014-01-22",
          "2014-01-23",
          "2014-01-24",
          "2014-01-25",
          "2014-01-26",
          "2014-01-27",
          "2014-01-28",
          "2014-01-29",
          "2014-01-30",
          "2014-01-31",
          "2014-02-01",
          "2014-02-02",
          "2014-02-03",
          "2014-02-04",
          "2014-02-05",
          "2014-02-06",
          "2014-02-07",
          "2014-02-08",
          "2014-02-09",
          "2014-02-10",
          "2014-02-11",
          "2014-02-12",
          "2014-02-13",
          "2014-02-14",
          "2014-02-15",
          "2014-02-16",
          "2014-02-17",
          "2014-02-18",
          "2014-02-19",
          "2014-02-20",
          "2014-02-21",
          "2014-02-22",
          "2014-02-23",
          "2014-02-24",
          "2014-02-25",
          "2014-02-26",
          "2014-02-27",
          "2014-02-28",
          "2014-03-01",
          "2014-03-02",
          "2014-03-03",
          "2014-03-04",
          "2014-03-05",
          "2014-03-06",
          "2014-03-07",
          "2014-03-08",
          "2014-03-09"
         ],
         "xaxis": "x",
         "y": {
          "bdata": "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",
          "dtype": "f8"
         },
         "yaxis": "y"
        }
       ],
       "layout": {
        "legend": {
         "title": {
          "text": "Legend"
         },
         "tracegroupgap": 0
        },
        "template": {
         "data": {
          "bar": [
           {
            "error_x": {
             "color": "#2a3f5f"
            },
            "error_y": {
             "color": "#2a3f5f"
            },
            "marker": {
             "line": {
              "color": "#E5ECF6",
              "width": 0.5
             },
             "pattern": {
              "fillmode": "overlay",
              "size": 10,
              "solidity": 0.2
             }
            },
            "type": "bar"
           }
          ],
          "barpolar": [
           {
            "marker": {
             "line": {
              "color": "#E5ECF6",
              "width": 0.5
             },
             "pattern": {
              "fillmode": "overlay",
              "size": 10,
              "solidity": 0.2
             }
            },
            "type": "barpolar"
           }
          ],
          "carpet": [
           {
            "aaxis": {
             "endlinecolor": "#2a3f5f",
             "gridcolor": "white",
             "linecolor": "white",
             "minorgridcolor": "white",
             "startlinecolor": "#2a3f5f"
            },
            "baxis": {
             "endlinecolor": "#2a3f5f",
             "gridcolor": "white",
             "linecolor": "white",
             "minorgridcolor": "white",
             "startlinecolor": "#2a3f5f"
            },
            "type": "carpet"
           }
          ],
          "choropleth": [
           {
            "colorbar": {
             "outlinewidth": 0,
             "ticks": ""
            },
            "type": "choropleth"
           }
          ],
          "contour": [
           {
            "colorbar": {
             "outlinewidth": 0,
             "ticks": ""
            },
            "colorscale": [
             [
              0,
              "#0d0887"
             ],
             [
              0.1111111111111111,
              "#46039f"
             ],
             [
              0.2222222222222222,
              "#7201a8"
             ],
             [
              0.3333333333333333,
              "#9c179e"
             ],
             [
              0.4444444444444444,
              "#bd3786"
             ],
             [
              0.5555555555555556,
              "#d8576b"
             ],
             [
              0.6666666666666666,
              "#ed7953"
             ],
             [
              0.7777777777777778,
              "#fb9f3a"
             ],
             [
              0.8888888888888888,
              "#fdca26"
             ],
             [
              1,
              "#f0f921"
             ]
            ],
            "type": "contour"
           }
          ],
          "contourcarpet": [
           {
            "colorbar": {
             "outlinewidth": 0,
             "ticks": ""
            },
            "type": "contourcarpet"
           }
          ],
          "heatmap": [
           {
            "colorbar": {
             "outlinewidth": 0,
             "ticks": ""
            },
            "colorscale": [
             [
              0,
              "#0d0887"
             ],
             [
              0.1111111111111111,
              "#46039f"
             ],
             [
              0.2222222222222222,
              "#7201a8"
             ],
             [
              0.3333333333333333,
              "#9c179e"
             ],
             [
              0.4444444444444444,
              "#bd3786"
             ],
             [
              0.5555555555555556,
              "#d8576b"
             ],
             [
              0.6666666666666666,
              "#ed7953"
             ],
             [
              0.7777777777777778,
              "#fb9f3a"
             ],
             [
              0.8888888888888888,
              "#fdca26"
             ],
             [
              1,
              "#f0f921"
             ]
            ],
            "type": "heatmap"
           }
          ],
          "histogram": [
           {
            "marker": {
             "pattern": {
              "fillmode": "overlay",
              "size": 10,
              "solidity": 0.2
             }
            },
            "type": "histogram"
           }
          ],
          "histogram2d": [
           {
            "colorbar": {
             "outlinewidth": 0,
             "ticks": ""
            },
            "colorscale": [
             [
              0,
              "#0d0887"
             ],
             [
              0.1111111111111111,
              "#46039f"
             ],
             [
              0.2222222222222222,
              "#7201a8"
             ],
             [
              0.3333333333333333,
              "#9c179e"
             ],
             [
              0.4444444444444444,
              "#bd3786"
             ],
             [
              0.5555555555555556,
              "#d8576b"
             ],
             [
              0.6666666666666666,
              "#ed7953"
             ],
             [
              0.7777777777777778,
              "#fb9f3a"
             ],
             [
              0.8888888888888888,
              "#fdca26"
             ],
             [
              1,
              "#f0f921"
             ]
            ],
            "type": "histogram2d"
           }
          ],
          "histogram2dcontour": [
           {
            "colorbar": {
             "outlinewidth": 0,
             "ticks": ""
            },
            "colorscale": [
             [
              0,
              "#0d0887"
             ],
             [
              0.1111111111111111,
              "#46039f"
             ],
             [
              0.2222222222222222,
              "#7201a8"
             ],
             [
              0.3333333333333333,
              "#9c179e"
             ],
             [
              0.4444444444444444,
              "#bd3786"
             ],
             [
              0.5555555555555556,
              "#d8576b"
             ],
             [
              0.6666666666666666,
              "#ed7953"
             ],
             [
              0.7777777777777778,
              "#fb9f3a"
             ],
             [
              0.8888888888888888,
              "#fdca26"
             ],
             [
              1,
              "#f0f921"
             ]
            ],
            "type": "histogram2dcontour"
           }
          ],
          "mesh3d": [
           {
            "colorbar": {
             "outlinewidth": 0,
             "ticks": ""
            },
            "type": "mesh3d"
           }
          ],
          "parcoords": [
           {
            "line": {
             "colorbar": {
              "outlinewidth": 0,
              "ticks": ""
             }
            },
            "type": "parcoords"
           }
          ],
          "pie": [
           {
            "automargin": true,
            "type": "pie"
           }
          ],
          "scatter": [
           {
            "fillpattern": {
             "fillmode": "overlay",
             "size": 10,
             "solidity": 0.2
            },
            "type": "scatter"
           }
          ],
          "scatter3d": [
           {
            "line": {
             "colorbar": {
              "outlinewidth": 0,
              "ticks": ""
             }
            },
            "marker": {
             "colorbar": {
              "outlinewidth": 0,
              "ticks": ""
             }
            },
            "type": "scatter3d"
           }
          ],
          "scattercarpet": [
           {
            "marker": {
             "colorbar": {
              "outlinewidth": 0,
              "ticks": ""
             }
            },
            "type": "scattercarpet"
           }
          ],
          "scattergeo": [
           {
            "marker": {
             "colorbar": {
              "outlinewidth": 0,
              "ticks": ""
             }
            },
            "type": "scattergeo"
           }
          ],
          "scattergl": [
           {
            "marker": {
             "colorbar": {
              "outlinewidth": 0,
              "ticks": ""
             }
            },
            "type": "scattergl"
           }
          ],
          "scattermap": [
           {
            "marker": {
             "colorbar": {
              "outlinewidth": 0,
              "ticks": ""
             }
            },
            "type": "scattermap"
           }
          ],
          "scattermapbox": [
           {
            "marker": {
             "colorbar": {
              "outlinewidth": 0,
              "ticks": ""
             }
            },
            "type": "scattermapbox"
           }
          ],
          "scatterpolar": [
           {
            "marker": {
             "colorbar": {
              "outlinewidth": 0,
              "ticks": ""
             }
            },
            "type": "scatterpolar"
           }
          ],
          "scatterpolargl": [
           {
            "marker": {
             "colorbar": {
              "outlinewidth": 0,
              "ticks": ""
             }
            },
            "type": "scatterpolargl"
           }
          ],
          "scatterternary": [
           {
            "marker": {
             "colorbar": {
              "outlinewidth": 0,
              "ticks": ""
             }
            },
            "type": "scatterternary"
           }
          ],
          "surface": [
           {
            "colorbar": {
             "outlinewidth": 0,
             "ticks": ""
            },
            "colorscale": [
             [
              0,
              "#0d0887"
             ],
             [
              0.1111111111111111,
              "#46039f"
             ],
             [
              0.2222222222222222,
              "#7201a8"
             ],
             [
              0.3333333333333333,
              "#9c179e"
             ],
             [
              0.4444444444444444,
              "#bd3786"
             ],
             [
              0.5555555555555556,
              "#d8576b"
             ],
             [
              0.6666666666666666,
              "#ed7953"
             ],
             [
              0.7777777777777778,
              "#fb9f3a"
             ],
             [
              0.8888888888888888,
              "#fdca26"
             ],
             [
              1,
              "#f0f921"
             ]
            ],
            "type": "surface"
           }
          ],
          "table": [
           {
            "cells": {
             "fill": {
              "color": "#EBF0F8"
             },
             "line": {
              "color": "white"
             }
            },
            "header": {
             "fill": {
              "color": "#C8D4E3"
             },
             "line": {
              "color": "white"
             }
            },
            "type": "table"
           }
          ]
         },
         "layout": {
          "annotationdefaults": {
           "arrowcolor": "#2a3f5f",
           "arrowhead": 0,
           "arrowwidth": 1
          },
          "autotypenumbers": "strict",
          "coloraxis": {
           "colorbar": {
            "outlinewidth": 0,
            "ticks": ""
           }
          },
          "colorscale": {
           "diverging": [
            [
             0,
             "#8e0152"
            ],
            [
             0.1,
             "#c51b7d"
            ],
            [
             0.2,
             "#de77ae"
            ],
            [
             0.3,
             "#f1b6da"
            ],
            [
             0.4,
             "#fde0ef"
            ],
            [
             0.5,
             "#f7f7f7"
            ],
            [
             0.6,
             "#e6f5d0"
            ],
            [
             0.7,
             "#b8e186"
            ],
            [
             0.8,
             "#7fbc41"
            ],
            [
             0.9,
             "#4d9221"
            ],
            [
             1,
             "#276419"
            ]
           ],
           "sequential": [
            [
             0,
             "#0d0887"
            ],
            [
             0.1111111111111111,
             "#46039f"
            ],
            [
             0.2222222222222222,
             "#7201a8"
            ],
            [
             0.3333333333333333,
             "#9c179e"
            ],
            [
             0.4444444444444444,
             "#bd3786"
            ],
            [
             0.5555555555555556,
             "#d8576b"
            ],
            [
             0.6666666666666666,
             "#ed7953"
            ],
            [
             0.7777777777777778,
             "#fb9f3a"
            ],
            [
             0.8888888888888888,
             "#fdca26"
            ],
            [
             1,
             "#f0f921"
            ]
           ],
           "sequentialminus": [
            [
             0,
             "#0d0887"
            ],
            [
             0.1111111111111111,
             "#46039f"
            ],
            [
             0.2222222222222222,
             "#7201a8"
            ],
            [
             0.3333333333333333,
             "#9c179e"
            ],
            [
             0.4444444444444444,
             "#bd3786"
            ],
            [
             0.5555555555555556,
             "#d8576b"
            ],
            [
             0.6666666666666666,
             "#ed7953"
            ],
            [
             0.7777777777777778,
             "#fb9f3a"
            ],
            [
             0.8888888888888888,
             "#fdca26"
            ],
            [
             1,
             "#f0f921"
            ]
           ]
          },
          "colorway": [
           "#636efa",
           "#EF553B",
           "#00cc96",
           "#ab63fa",
           "#FFA15A",
           "#19d3f3",
           "#FF6692",
           "#B6E880",
           "#FF97FF",
           "#FECB52"
          ],
          "font": {
           "color": "#2a3f5f"
          },
          "geo": {
           "bgcolor": "white",
           "lakecolor": "white",
           "landcolor": "#E5ECF6",
           "showlakes": true,
           "showland": true,
           "subunitcolor": "white"
          },
          "hoverlabel": {
           "align": "left"
          },
          "hovermode": "closest",
          "mapbox": {
           "style": "light"
          },
          "paper_bgcolor": "white",
          "plot_bgcolor": "#E5ECF6",
          "polar": {
           "angularaxis": {
            "gridcolor": "white",
            "linecolor": "white",
            "ticks": ""
           },
           "bgcolor": "#E5ECF6",
           "radialaxis": {
            "gridcolor": "white",
            "linecolor": "white",
            "ticks": ""
           }
          },
          "scene": {
           "xaxis": {
            "backgroundcolor": "#E5ECF6",
            "gridcolor": "white",
            "gridwidth": 2,
            "linecolor": "white",
            "showbackground": true,
            "ticks": "",
            "zerolinecolor": "white"
           },
           "yaxis": {
            "backgroundcolor": "#E5ECF6",
            "gridcolor": "white",
            "gridwidth": 2,
            "linecolor": "white",
            "showbackground": true,
            "ticks": "",
            "zerolinecolor": "white"
           },
           "zaxis": {
            "backgroundcolor": "#E5ECF6",
            "gridcolor": "white",
            "gridwidth": 2,
            "linecolor": "white",
            "showbackground": true,
            "ticks": "",
            "zerolinecolor": "white"
           }
          },
          "shapedefaults": {
           "line": {
            "color": "#2a3f5f"
           }
          },
          "ternary": {
           "aaxis": {
            "gridcolor": "white",
            "linecolor": "white",
            "ticks": ""
           },
           "baxis": {
            "gridcolor": "white",
            "linecolor": "white",
            "ticks": ""
           },
           "bgcolor": "#E5ECF6",
           "caxis": {
            "gridcolor": "white",
            "linecolor": "white",
            "ticks": ""
           }
          },
          "title": {
           "x": 0.05
          },
          "xaxis": {
           "automargin": true,
           "gridcolor": "white",
           "linecolor": "white",
           "ticks": "",
           "title": {
            "standoff": 15
           },
           "zerolinecolor": "white",
           "zerolinewidth": 2
          },
          "yaxis": {
           "automargin": true,
           "gridcolor": "white",
           "linecolor": "white",
           "ticks": "",
           "title": {
            "standoff": 15
           },
           "zerolinecolor": "white",
           "zerolinewidth": 2
          }
         }
        },
        "title": {
         "text": "Total Daily Sales with Rolling Averages"
        },
        "xaxis": {
         "anchor": "y",
         "domain": [
          0,
          1
         ],
         "title": {
          "text": "date"
         }
        },
        "yaxis": {
         "anchor": "x",
         "domain": [
          0,
          1
         ],
         "title": {
          "text": "Unit Sales"
         }
        }
       }
      }
     },
     "metadata": {},
     "output_type": "display_data"
    }
   ],
   "source": [
    "# === Time Trends with Rolling Averages ===\n",
    "daily_sales = train.groupby(\"date\")[\"unit_sales\"].sum().reset_index()\n",
    "\n",
    "# Rolling averages (7-day and 30-day windows)\n",
    "daily_sales[\"rolling_7d\"] = daily_sales[\"unit_sales\"].rolling(7).mean()\n",
    "daily_sales[\"rolling_30d\"] = daily_sales[\"unit_sales\"].rolling(30).mean()\n",
    "\n",
    "fig = px.line(daily_sales, x=\"date\", y=[\"unit_sales\", \"rolling_7d\", \"rolling_30d\"],\n",
    "              title=\"Total Daily Sales with Rolling Averages\",\n",
    "              labels={\"value\":\"Unit Sales\", \"variable\":\"Legend\"})\n",
    "fig.show()\n"
   ]
  },
  {
   "cell_type": "code",
   "execution_count": 12,
   "id": "b06168a5",
   "metadata": {},
   "outputs": [
    {
     "data": {
      "application/vnd.plotly.v1+json": {
       "config": {
        "plotlyServerURL": "https://plot.ly"
       },
       "data": [
        {
         "hovertemplate": "date=%{x}<br>unit_sales=%{y}<extra></extra>",
         "legendgroup": "",
         "line": {
          "color": "#636efa",
          "dash": "solid"
         },
         "marker": {
          "symbol": "circle"
         },
         "mode": "lines",
         "name": "",
         "orientation": "v",
         "showlegend": false,
         "type": "scatter",
         "x": [
          "2013-01-01",
          "2013-01-02",
          "2013-01-03",
          "2013-01-04",
          "2013-01-05",
          "2013-01-06",
          "2013-01-07",
          "2013-01-08",
          "2013-01-09",
          "2013-01-10",
          "2013-01-11",
          "2013-01-12",
          "2013-01-13",
          "2013-01-14",
          "2013-01-15",
          "2013-01-16",
          "2013-01-17",
          "2013-01-18",
          "2013-01-19",
          "2013-01-20",
          "2013-01-21",
          "2013-01-22",
          "2013-01-23",
          "2013-01-24",
          "2013-01-25",
          "2013-01-26",
          "2013-01-27",
          "2013-01-28",
          "2013-01-29",
          "2013-01-30",
          "2013-01-31",
          "2013-02-01",
          "2013-02-02",
          "2013-02-03",
          "2013-02-04",
          "2013-02-05",
          "2013-02-06",
          "2013-02-07",
          "2013-02-08",
          "2013-02-09",
          "2013-02-10",
          "2013-02-11",
          "2013-02-12",
          "2013-02-13",
          "2013-02-14",
          "2013-02-15",
          "2013-02-16",
          "2013-02-17",
          "2013-02-18",
          "2013-02-19",
          "2013-02-20",
          "2013-02-21",
          "2013-02-22",
          "2013-02-23",
          "2013-02-24",
          "2013-02-25",
          "2013-02-26",
          "2013-02-27",
          "2013-02-28",
          "2013-03-01",
          "2013-03-02",
          "2013-03-03",
          "2013-03-04",
          "2013-03-05",
          "2013-03-06",
          "2013-03-07",
          "2013-03-08",
          "2013-03-09",
          "2013-03-10",
          "2013-03-11",
          "2013-03-12",
          "2013-03-13",
          "2013-03-14",
          "2013-03-15",
          "2013-03-16",
          "2013-03-17",
          "2013-03-18",
          "2013-03-19",
          "2013-03-20",
          "2013-03-21",
          "2013-03-22",
          "2013-03-23",
          "2013-03-24",
          "2013-03-25",
          "2013-03-26",
          "2013-03-27",
          "2013-03-28",
          "2013-03-29",
          "2013-03-30",
          "2013-03-31",
          "2013-04-01",
          "2013-04-02",
          "2013-04-03",
          "2013-04-04",
          "2013-04-05",
          "2013-04-06",
          "2013-04-07",
          "2013-04-08",
          "2013-04-09",
          "2013-04-10",
          "2013-04-11",
          "2013-04-12",
          "2013-04-13",
          "2013-04-14",
          "2013-04-15",
          "2013-04-16",
          "2013-04-17",
          "2013-04-18",
          "2013-04-19",
          "2013-04-20",
          "2013-04-21",
          "2013-04-22",
          "2013-04-23",
          "2013-04-24",
          "2013-04-25",
          "2013-04-26",
          "2013-04-27",
          "2013-04-28",
          "2013-04-29",
          "2013-04-30",
          "2013-05-01",
          "2013-05-02",
          "2013-05-03",
          "2013-05-04",
          "2013-05-05",
          "2013-05-06",
          "2013-05-07",
          "2013-05-08",
          "2013-05-09",
          "2013-05-10",
          "2013-05-11",
          "2013-05-12",
          "2013-05-13",
          "2013-05-14",
          "2013-05-15",
          "2013-05-16",
          "2013-05-17",
          "2013-05-18",
          "2013-05-19",
          "2013-05-20",
          "2013-05-21",
          "2013-05-22",
          "2013-05-23",
          "2013-05-24",
          "2013-05-25",
          "2013-05-26",
          "2013-05-27",
          "2013-05-28",
          "2013-05-29",
          "2013-05-30",
          "2013-05-31",
          "2013-06-01",
          "2013-06-02",
          "2013-06-03",
          "2013-06-04",
          "2013-06-05",
          "2013-06-06",
          "2013-06-07",
          "2013-06-08",
          "2013-06-09",
          "2013-06-10",
          "2013-06-11",
          "2013-06-12",
          "2013-06-13",
          "2013-06-14",
          "2013-06-15",
          "2013-06-16",
          "2013-06-17",
          "2013-06-18",
          "2013-06-19",
          "2013-06-20",
          "2013-06-21",
          "2013-06-22",
          "2013-06-23",
          "2013-06-24",
          "2013-06-25",
          "2013-06-26",
          "2013-06-27",
          "2013-06-28",
          "2013-06-29",
          "2013-06-30",
          "2013-07-01",
          "2013-07-02",
          "2013-07-03",
          "2013-07-04",
          "2013-07-05",
          "2013-07-06",
          "2013-07-07",
          "2013-07-08",
          "2013-07-09",
          "2013-07-10",
          "2013-07-11",
          "2013-07-12",
          "2013-07-13",
          "2013-07-14",
          "2013-07-15",
          "2013-07-16",
          "2013-07-17",
          "2013-07-18",
          "2013-07-19",
          "2013-07-20",
          "2013-07-21",
          "2013-07-22",
          "2013-07-23",
          "2013-07-24",
          "2013-07-25",
          "2013-07-26",
          "2013-07-27",
          "2013-07-28",
          "2013-07-29",
          "2013-07-30",
          "2013-07-31",
          "2013-08-01",
          "2013-08-02",
          "2013-08-03",
          "2013-08-04",
          "2013-08-05",
          "2013-08-06",
          "2013-08-07",
          "2013-08-08",
          "2013-08-09",
          "2013-08-10",
          "2013-08-11",
          "2013-08-12",
          "2013-08-13",
          "2013-08-14",
          "2013-08-15",
          "2013-08-16",
          "2013-08-17",
          "2013-08-18",
          "2013-08-19",
          "2013-08-20",
          "2013-08-21",
          "2013-08-22",
          "2013-08-23",
          "2013-08-24",
          "2013-08-25",
          "2013-08-26",
          "2013-08-27",
          "2013-08-28",
          "2013-08-29",
          "2013-08-30",
          "2013-08-31",
          "2013-09-01",
          "2013-09-02",
          "2013-09-03",
          "2013-09-04",
          "2013-09-05",
          "2013-09-06",
          "2013-09-07",
          "2013-09-08",
          "2013-09-09",
          "2013-09-10",
          "2013-09-11",
          "2013-09-12",
          "2013-09-13",
          "2013-09-14",
          "2013-09-15",
          "2013-09-16",
          "2013-09-17",
          "2013-09-18",
          "2013-09-19",
          "2013-09-20",
          "2013-09-21",
          "2013-09-22",
          "2013-09-23",
          "2013-09-24",
          "2013-09-25",
          "2013-09-26",
          "2013-09-27",
          "2013-09-28",
          "2013-09-29",
          "2013-09-30",
          "2013-10-01",
          "2013-10-02",
          "2013-10-03",
          "2013-10-04",
          "2013-10-05",
          "2013-10-06",
          "2013-10-07",
          "2013-10-08",
          "2013-10-09",
          "2013-10-10",
          "2013-10-11",
          "2013-10-12",
          "2013-10-13",
          "2013-10-14",
          "2013-10-15",
          "2013-10-16",
          "2013-10-17",
          "2013-10-18",
          "2013-10-19",
          "2013-10-20",
          "2013-10-21",
          "2013-10-22",
          "2013-10-23",
          "2013-10-24",
          "2013-10-25",
          "2013-10-26",
          "2013-10-27",
          "2013-10-28",
          "2013-10-29",
          "2013-10-30",
          "2013-10-31",
          "2013-11-01",
          "2013-11-02",
          "2013-11-03",
          "2013-11-04",
          "2013-11-05",
          "2013-11-06",
          "2013-11-07",
          "2013-11-08",
          "2013-11-09",
          "2013-11-10",
          "2013-11-11",
          "2013-11-12",
          "2013-11-13",
          "2013-11-14",
          "2013-11-15",
          "2013-11-16",
          "2013-11-17",
          "2013-11-18",
          "2013-11-19",
          "2013-11-20",
          "2013-11-21",
          "2013-11-22",
          "2013-11-23",
          "2013-11-24",
          "2013-11-25",
          "2013-11-26",
          "2013-11-27",
          "2013-11-28",
          "2013-11-29",
          "2013-11-30",
          "2013-12-01",
          "2013-12-02",
          "2013-12-03",
          "2013-12-04",
          "2013-12-05",
          "2013-12-06",
          "2013-12-07",
          "2013-12-08",
          "2013-12-09",
          "2013-12-10",
          "2013-12-11",
          "2013-12-12",
          "2013-12-13",
          "2013-12-14",
          "2013-12-15",
          "2013-12-16",
          "2013-12-17",
          "2013-12-18",
          "2013-12-19",
          "2013-12-20",
          "2013-12-21",
          "2013-12-22",
          "2013-12-23",
          "2013-12-24",
          "2013-12-26",
          "2013-12-27",
          "2013-12-28",
          "2013-12-29",
          "2013-12-30",
          "2013-12-31",
          "2014-01-01",
          "2014-01-02",
          "2014-01-03",
          "2014-01-04",
          "2014-01-05",
          "2014-01-06",
          "2014-01-07",
          "2014-01-08",
          "2014-01-09",
          "2014-01-10",
          "2014-01-11",
          "2014-01-12",
          "2014-01-13",
          "2014-01-14",
          "2014-01-15",
          "2014-01-16",
          "2014-01-17",
          "2014-01-18",
          "2014-01-19",
          "2014-01-20",
          "2014-01-21",
          "2014-01-22",
          "2014-01-23",
          "2014-01-24",
          "2014-01-25",
          "2014-01-26",
          "2014-01-27",
          "2014-01-28",
          "2014-01-29",
          "2014-01-30",
          "2014-01-31",
          "2014-02-01",
          "2014-02-02",
          "2014-02-03",
          "2014-02-04",
          "2014-02-05",
          "2014-02-06",
          "2014-02-07",
          "2014-02-08",
          "2014-02-09",
          "2014-02-10",
          "2014-02-11",
          "2014-02-12",
          "2014-02-13",
          "2014-02-14",
          "2014-02-15",
          "2014-02-16",
          "2014-02-17",
          "2014-02-18",
          "2014-02-19",
          "2014-02-20",
          "2014-02-21",
          "2014-02-22",
          "2014-02-23",
          "2014-02-24",
          "2014-02-25",
          "2014-02-26",
          "2014-02-27",
          "2014-02-28",
          "2014-03-01",
          "2014-03-02",
          "2014-03-03",
          "2014-03-04",
          "2014-03-05",
          "2014-03-06",
          "2014-03-07",
          "2014-03-08",
          "2014-03-09"
         ],
         "xaxis": "x",
         "y": {
          "bdata": "c2iR7Tyfo0AnMQiscUceQZZDi+xUDxZB7nw/tW6iFUGLbOd7mCIdQXe+n5o9uB9BEFg5NOuDFEExCKwcL24TQfp+ajwLdxJBL90kBjCdD0HXo3C9Jq8RQSuHFtnknBhBeekmMfpbHEHFILByQecRQTMzMzNmPxJBsp3vpy9uE0HTTWIQqlMQQWZmZmYLExJBIbByaC9lGkGBlUOLkSQcQdNNYhCt/hJB2/l+6loUEkFkO9/P6UkRQQwCK4dtLg5BAiuHFpuzEUGNl24Sn0EZQTm0yPYvRRpB4XoUrlBsEUHByqFFoyQQQbpJDIKUJxFBWmQ731iOEEGF61E46IsWQQisHNqdqx9BexSuRwOvHUHD9Sjc0gMVQeXQIlt3mxNB7nw/tQigE0HJdr4f3r8RQY/C9SjHNBVBDi2yHcFmGUFCYOVQXV4SQeXQIluOARFBbef7KQPZEkGF61G4t4ETQbByaBEQzxJBx0s3iaOKE0HRItv5caQdQT0K16OTYxhBEoPASmZoFUHufD81F+wRQfhT46UsJxNBLbKdb/xWEEHRItt5v28RQYlBYGWFMxlB3SQGgdihG0HdJAaBm74SQQwCKwdkgRBBI9v5/keaEUFKDAIrkfkQQY/C9ahIIBdBj8L1aCK4IEGPwvUomRUhQajGS7d+ahdB9P3U+HdGFEH8qfFSun0UQVTjpRuu4xFBhetRuOJSE0Foke38LaobQS/dJAaPMBxB6SYxiKxuE0GYbhKDPZcQQbKd76f2kRFBw/UoXKs3DkHD9ShcmEcTQfp+arzlbh1BcT0KV35WH0HLoUU2rygUQYts5/sQ8hFBDAIrB9yaE0GYbhKDKG0QQUJg5dCRjxJBmG4SAyCpG0FeukmMCnQbQQrXo3DeYRNB5/up8ajVEEG8dJOYbCUTQWq8dBN1tRRBDAIrh6QWFUGWQ4ts1aAbQfYoXI9uNBxBEoPAykEsGkFkO99PEw4XQarx0k2MzxZBgZVDiwnYEkGmm8QgK4gUQeXQItvAFx9BukkMgiGuH0EGgZVDZygVQe58PzV/shJBAAAAgDkYE0HVeOmm2YESQX0/Nd5rMBNBaJHt/AmtG0G8dJOYRDMdQbbz/dRhrBRBUrgehd9ZFEFrvHQTOnIUQaRwPQoONRFBH4Xr0ZIEE0EIrBxasxEcQaabxCBkpR1BWDm0SNkSFEG28/1UR3ASQdejcL1s9BJB0SLbedpnEEE/NV46dpQSQQisHFolQxtBrBxa5N0mHUEj2/l+bxEUQX0/Nd6p7hJBXrpJjBoBH0FxPQrXlUgVQd0kBgFJ2BZB001iEE7CH0EIrBwaWbUhQekmMYg1kxZB5dAi27NdE0EbL92k9UoUQT81XjowqxJB46WbxAWBFEH8qfFSakEfQVK4HgVSrBdBke18PxhmFUFvEoNA1dMSQdejcD1mFhRBNV66yZPFEkEX2c73UCQUQfp+ajwmWx1BqMZLNyagH0HD9SjcbNwUQZqZmZmpvxJBUI2X7mVrEkEdWmQ7tKcRQRfZzvfUUBhBsHJokSiCGUGamZmZHYEbQfyp8VJ7oRNBJzEIrATCEkEv3SSGUeESQWZmZmZjkxJBfT81XkcoFEEUrkeh60whQdejcP0EdiNBrBxaZHAFGkE9CtejpJAWQfyp8VL8FBZB001iEN9gE0EIrBxapNQVQfCnxsvSdRxBXI/CdakTIEFKDAIr6VgVQaAaL91IUxFBZDvfT7aKE0HhehSuG0QRQRfZzvey9BNBSgwCq3bhHkG28/1U2JoaQSUGgRUBpBZBw/UoXNWVE0HpJjEIDXwTQZ7vp8bX7xFBke18v6qDE0GR7Xw/LT4bQRSuR2ET0h5B5dAi28eLFEHsUbgefp8SQSPb+f5cbBJBkxgE1nVEEEHP91Pjy8kTQVCNl24MFx9BYOXQYtNHIEE730+NefYaQcdLN4m53BdBJzEIrF/cFkGoxku3sPUTQQAAAACmchVB0SLb+WlEHUESg8BK+I0eQa5H4fozThZBSOF6lHxdE0GBlUOLWywTQWIQWLlbMhFBbxKDwMnYEkEhsHJo5GYaQScxCKwJxxpBnMQgMAxKFUHb+X7qcHoUQcHKoUVjyxNBI9v5foeFEUGF61E40h8TQZZDi+ymlBpBI9v5fgK7GkFWDi0ySewUQQisHNqFTRNBj8L1KO/fEkFmZmbmaDESQcHKocVmdBNBukkMAkrfGUFU46WbOnMaQT0K1yOVOxRBXI/C9WdxE0Hb+X7qe9kVQcHKoUXNQxhBrkfhepwJGEHy0k1ic40fQXe+nxptYx9BtMh2PufXGEHb+X5qP84VQQwCK4cYcRVBvHSTGKT6EkEnMQisxpkUQZ7vp8YjgBpBEoPASoGIGkGJQWDljFUVQfyp8VK9WhNBXrpJjGXME0F56SaxDPwSQTVeukkdPxZBtMh2Pg1lG0HfT40X11IcQVTjpRuSGRZBf2q8dBjwFEFqvHSTsn0UQYGVQwultBJB0SLbeQlCFEHsUbiegKsZQTeJQWC4FBtB001ikF4wFUE3iUHgIIMTQbTIdj5ofRNBtMh2vtr5EUFiEFi506kVQS/dJIa99R9B5/upcSyLI0FOYhDYowAcQeF6FK7BRRhB5/up8dX1F0EOLbId+y0UQUa28/1IeRRBaJHt/OCmH0EpXI8CqB0hQdnO99P+BBdBoBov3anNEkHRItt50rgTQZZDi+yeQxFB46WbxA+BE0FSuB4FMBMdQUoMAuvpQiBBoBovXbfHFkHNzMzMy/kTQTeJQeCeRBNBaJHtfHEQEUEOLbKdG0EUQS/dJIYplRxBhxbZztKkHkFg5dAiLLsVQY2XbpKVgxJBuB6Fa6gSE0FSuB6Fh6oQQfCnxkvaixNBTDeJwZ6YHUHjpZvE0ekfQc3MzMxxZxZBYOXQImSjGkHsUbie3ksZQWiR7fwUTBVB/tR46fcTF0EAAABA+XsgQSuHFtmO4CBBLbKdbyzKFkGJQWDlGvETQQRWDq2FrxNBrBxaZFyeEkGJQWBlh5cYQQaBlcMuBhpBL90kBtVnHUHy0k3imuoUQXsUrkdmoRJB5dAi28O1FUHVeOmm1RkTQUa2833/uxNBexSuR9bMHUHjpZsE42ggQWQ730/FSBVBPQrXIydpEkE5tMh2hLgTQR+F61Fs2RBBEFg5tAliE0F/arx0maQbQVCNl+7tTR9Bsp3vp/csFUFoke3883MSQR+F69EagBNBHVpku00zEkFQjZfu1KIYQcP1KByPfyBBMQisHFllIkFKDAKr6OUZQR1aZLuoARhB2/l+6ueVF0HD9Shc1SIVQf7UeOkn4RVBEoPASulcH0GuR+H6JO8hQfYoXI8f1RZBRrbz/XbIFkEMAisH3UcUQTEIrJxdXhFBhetROMFSFUEIrBxahvwfQe58P3USrSFB7nw/NRLsF0ElBoEVvRsUQQrXo/CGoBVBeekmMfwwEkEIrBza+MsUQVYOLTKhoh1BkxgElhrQIEHHSzcJNlYWQR+F61FzuxNBGy/dJO2SFEFzaJHt+6wSQQ4tsp0hyhVBZDvfTzOKIEG6SQxC0k4lQRfZzncBPh5BnMQgMNjnGUG+nxovTOMZQYXrUTiblRdBUrgeBVdoGkE9CtejumQgQRKDwMpv+CFBTDeJQUnzGkFYObTIVksZQfCnxsu00BlB/KnxUgB0F0E7308NhIcaQSUGgdU/7yBBO99Pjb+XI0Ft5/spcX8fQX0/Nd5aUx1BlkOLrPIYIEHVeOkmFPkeQcdLN4nQmiBBZmZmJtLsJEGBlUNLzj8lQbByaJFCMihBtvP9lO7wIkH4U+OlLLscQVpkO99LQR1BMQisnDD/IEFSuB4FHoAeQfT91Hj9YSNB1XjppgL2HkGU9gZfCM3AQIV80HPmcShBs3vysMHFJEEv3STGaZUsQUjhepTl+ixBppvEIDlhIkEcfGEy9TEhQfOOU7QhaiNBi2znu+dLHkFbQj6onpIgQf7UeOnyBihBxSCwMrPGKUF7FK4HNvQgQfjCZGrMrR5B8x/S7zZOIUGOdXHbFLAeQWKh1tSzkSBBexSux7cCKEFKDAKrLv4pQcl2vh/UkiFBMlUwaoJxIEE8TtExE+EgQcpUwSjUHxxB4JwRJVcOIEHufD/1cWUmQajGS3fT1yhBSgwCq/2AIEHuWkK+4WQdQVyPwvVXTR9BLGUZ4iuwG0G4QIJiYB0hQfhT42VMzSNB/KnxEjvqIkHfT40XFi0cQSuHFlnWmxhBYhBYOYlcGEGV1AlojOsVQaMBvEV+xRdB7FG4HqAtIEFoke38xsgfQcUgsPI6NRhBLbKd77rfFUFqvHSTtaoXQcoyxDG1MxVBidLeoNkLFkGoxku3GnIgQYXrUXjIKiJB1XjpJvUlGUFGtvP9TEwWQRkEVo6G+xVBxLEurkuuE0Er9ped7osWQdv5fiq8bCBB5dAi2znHHUFMN4nBAKwYQQrXo3DochVBsHJoERGVFUGASL+9aCkUQW1WfS5j+hlBdZMYhADQK0Hl0CIbKl4kQdNNYhCqvCJBjSjtzQPbJkHrc7XV+KImQV3cRuOEvSJB+THmrsRBIkHjpZuEgv0mQfCnxkuvoutA",
          "dtype": "f8"
         },
         "yaxis": "y"
        }
       ],
       "layout": {
        "legend": {
         "tracegroupgap": 0
        },
        "shapes": [
         {
          "line": {
           "color": "red",
           "dash": "dot",
           "width": 0.5
          },
          "type": "line",
          "x0": "2012-03-02T00:00:00",
          "x1": "2012-03-02T00:00:00",
          "xref": "x",
          "y0": 0,
          "y1": 1,
          "yref": "y domain"
         },
         {
          "line": {
           "color": "red",
           "dash": "dot",
           "width": 0.5
          },
          "type": "line",
          "x0": "2012-04-01T00:00:00",
          "x1": "2012-04-01T00:00:00",
          "xref": "x",
          "y0": 0,
          "y1": 1,
          "yref": "y domain"
         },
         {
          "line": {
           "color": "red",
           "dash": "dot",
           "width": 0.5
          },
          "type": "line",
          "x0": "2012-04-12T00:00:00",
          "x1": "2012-04-12T00:00:00",
          "xref": "x",
          "y0": 0,
          "y1": 1,
          "yref": "y domain"
         },
         {
          "line": {
           "color": "red",
           "dash": "dot",
           "width": 0.5
          },
          "type": "line",
          "x0": "2012-04-14T00:00:00",
          "x1": "2012-04-14T00:00:00",
          "xref": "x",
          "y0": 0,
          "y1": 1,
          "yref": "y domain"
         },
         {
          "line": {
           "color": "red",
           "dash": "dot",
           "width": 0.5
          },
          "type": "line",
          "x0": "2012-04-21T00:00:00",
          "x1": "2012-04-21T00:00:00",
          "xref": "x",
          "y0": 0,
          "y1": 1,
          "yref": "y domain"
         },
         {
          "line": {
           "color": "red",
           "dash": "dot",
           "width": 0.5
          },
          "type": "line",
          "x0": "2012-05-12T00:00:00",
          "x1": "2012-05-12T00:00:00",
          "xref": "x",
          "y0": 0,
          "y1": 1,
          "yref": "y domain"
         },
         {
          "line": {
           "color": "red",
           "dash": "dot",
           "width": 0.5
          },
          "type": "line",
          "x0": "2012-06-23T00:00:00",
          "x1": "2012-06-23T00:00:00",
          "xref": "x",
          "y0": 0,
          "y1": 1,
          "yref": "y domain"
         },
         {
          "line": {
           "color": "red",
           "dash": "dot",
           "width": 0.5
          },
          "type": "line",
          "x0": "2012-06-25T00:00:00",
          "x1": "2012-06-25T00:00:00",
          "xref": "x",
          "y0": 0,
          "y1": 1,
          "yref": "y domain"
         },
         {
          "line": {
           "color": "red",
           "dash": "dot",
           "width": 0.5
          },
          "type": "line",
          "x0": "2012-07-03T00:00:00",
          "x1": "2012-07-03T00:00:00",
          "xref": "x",
          "y0": 0,
          "y1": 1,
          "yref": "y domain"
         },
         {
          "line": {
           "color": "red",
           "dash": "dot",
           "width": 0.5
          },
          "type": "line",
          "x0": "2012-07-23T00:00:00",
          "x1": "2012-07-23T00:00:00",
          "xref": "x",
          "y0": 0,
          "y1": 1,
          "yref": "y domain"
         },
         {
          "line": {
           "color": "red",
           "dash": "dot",
           "width": 0.5
          },
          "type": "line",
          "x0": "2012-08-05T00:00:00",
          "x1": "2012-08-05T00:00:00",
          "xref": "x",
          "y0": 0,
          "y1": 1,
          "yref": "y domain"
         },
         {
          "line": {
           "color": "red",
           "dash": "dot",
           "width": 0.5
          },
          "type": "line",
          "x0": "2012-08-10T00:00:00",
          "x1": "2012-08-10T00:00:00",
          "xref": "x",
          "y0": 0,
          "y1": 1,
          "yref": "y domain"
         },
         {
          "line": {
           "color": "red",
           "dash": "dot",
           "width": 0.5
          },
          "type": "line",
          "x0": "2012-08-15T00:00:00",
          "x1": "2012-08-15T00:00:00",
          "xref": "x",
          "y0": 0,
          "y1": 1,
          "yref": "y domain"
         },
         {
          "line": {
           "color": "red",
           "dash": "dot",
           "width": 0.5
          },
          "type": "line",
          "x0": "2012-08-24T00:00:00",
          "x1": "2012-08-24T00:00:00",
          "xref": "x",
          "y0": 0,
          "y1": 1,
          "yref": "y domain"
         },
         {
          "line": {
           "color": "red",
           "dash": "dot",
           "width": 0.5
          },
          "type": "line",
          "x0": "2012-09-28T00:00:00",
          "x1": "2012-09-28T00:00:00",
          "xref": "x",
          "y0": 0,
          "y1": 1,
          "yref": "y domain"
         },
         {
          "line": {
           "color": "red",
           "dash": "dot",
           "width": 0.5
          },
          "type": "line",
          "x0": "2012-10-07T00:00:00",
          "x1": "2012-10-07T00:00:00",
          "xref": "x",
          "y0": 0,
          "y1": 1,
          "yref": "y domain"
         },
         {
          "line": {
           "color": "red",
           "dash": "dot",
           "width": 0.5
          },
          "type": "line",
          "x0": "2012-10-12T00:00:00",
          "x1": "2012-10-12T00:00:00",
          "xref": "x",
          "y0": 0,
          "y1": 1,
          "yref": "y domain"
         },
         {
          "line": {
           "color": "red",
           "dash": "dot",
           "width": 0.5
          },
          "type": "line",
          "x0": "2012-11-02T00:00:00",
          "x1": "2012-11-02T00:00:00",
          "xref": "x",
          "y0": 0,
          "y1": 1,
          "yref": "y domain"
         },
         {
          "line": {
           "color": "red",
           "dash": "dot",
           "width": 0.5
          },
          "type": "line",
          "x0": "2012-11-03T00:00:00",
          "x1": "2012-11-03T00:00:00",
          "xref": "x",
          "y0": 0,
          "y1": 1,
          "yref": "y domain"
         },
         {
          "line": {
           "color": "red",
           "dash": "dot",
           "width": 0.5
          },
          "type": "line",
          "x0": "2012-11-06T00:00:00",
          "x1": "2012-11-06T00:00:00",
          "xref": "x",
          "y0": 0,
          "y1": 1,
          "yref": "y domain"
         },
         {
          "line": {
           "color": "red",
           "dash": "dot",
           "width": 0.5
          },
          "type": "line",
          "x0": "2012-11-07T00:00:00",
          "x1": "2012-11-07T00:00:00",
          "xref": "x",
          "y0": 0,
          "y1": 1,
          "yref": "y domain"
         },
         {
          "line": {
           "color": "red",
           "dash": "dot",
           "width": 0.5
          },
          "type": "line",
          "x0": "2012-11-10T00:00:00",
          "x1": "2012-11-10T00:00:00",
          "xref": "x",
          "y0": 0,
          "y1": 1,
          "yref": "y domain"
         },
         {
          "line": {
           "color": "red",
           "dash": "dot",
           "width": 0.5
          },
          "type": "line",
          "x0": "2012-11-11T00:00:00",
          "x1": "2012-11-11T00:00:00",
          "xref": "x",
          "y0": 0,
          "y1": 1,
          "yref": "y domain"
         },
         {
          "line": {
           "color": "red",
           "dash": "dot",
           "width": 0.5
          },
          "type": "line",
          "x0": "2012-11-12T00:00:00",
          "x1": "2012-11-12T00:00:00",
          "xref": "x",
          "y0": 0,
          "y1": 1,
          "yref": "y domain"
         },
         {
          "line": {
           "color": "red",
           "dash": "dot",
           "width": 0.5
          },
          "type": "line",
          "x0": "2012-12-05T00:00:00",
          "x1": "2012-12-05T00:00:00",
          "xref": "x",
          "y0": 0,
          "y1": 1,
          "yref": "y domain"
         },
         {
          "line": {
           "color": "red",
           "dash": "dot",
           "width": 0.5
          },
          "type": "line",
          "x0": "2012-12-06T00:00:00",
          "x1": "2012-12-06T00:00:00",
          "xref": "x",
          "y0": 0,
          "y1": 1,
          "yref": "y domain"
         },
         {
          "line": {
           "color": "red",
           "dash": "dot",
           "width": 0.5
          },
          "type": "line",
          "x0": "2012-12-08T00:00:00",
          "x1": "2012-12-08T00:00:00",
          "xref": "x",
          "y0": 0,
          "y1": 1,
          "yref": "y domain"
         },
         {
          "line": {
           "color": "red",
           "dash": "dot",
           "width": 0.5
          },
          "type": "line",
          "x0": "2012-12-21T00:00:00",
          "x1": "2012-12-21T00:00:00",
          "xref": "x",
          "y0": 0,
          "y1": 1,
          "yref": "y domain"
         },
         {
          "line": {
           "color": "red",
           "dash": "dot",
           "width": 0.5
          },
          "type": "line",
          "x0": "2012-12-22T00:00:00",
          "x1": "2012-12-22T00:00:00",
          "xref": "x",
          "y0": 0,
          "y1": 1,
          "yref": "y domain"
         },
         {
          "line": {
           "color": "red",
           "dash": "dot",
           "width": 0.5
          },
          "type": "line",
          "x0": "2012-12-23T00:00:00",
          "x1": "2012-12-23T00:00:00",
          "xref": "x",
          "y0": 0,
          "y1": 1,
          "yref": "y domain"
         },
         {
          "line": {
           "color": "red",
           "dash": "dot",
           "width": 0.5
          },
          "type": "line",
          "x0": "2012-12-24T00:00:00",
          "x1": "2012-12-24T00:00:00",
          "xref": "x",
          "y0": 0,
          "y1": 1,
          "yref": "y domain"
         },
         {
          "line": {
           "color": "red",
           "dash": "dot",
           "width": 0.5
          },
          "type": "line",
          "x0": "2012-12-25T00:00:00",
          "x1": "2012-12-25T00:00:00",
          "xref": "x",
          "y0": 0,
          "y1": 1,
          "yref": "y domain"
         },
         {
          "line": {
           "color": "red",
           "dash": "dot",
           "width": 0.5
          },
          "type": "line",
          "x0": "2012-12-26T00:00:00",
          "x1": "2012-12-26T00:00:00",
          "xref": "x",
          "y0": 0,
          "y1": 1,
          "yref": "y domain"
         },
         {
          "line": {
           "color": "red",
           "dash": "dot",
           "width": 0.5
          },
          "type": "line",
          "x0": "2012-12-31T00:00:00",
          "x1": "2012-12-31T00:00:00",
          "xref": "x",
          "y0": 0,
          "y1": 1,
          "yref": "y domain"
         },
         {
          "line": {
           "color": "red",
           "dash": "dot",
           "width": 0.5
          },
          "type": "line",
          "x0": "2013-01-01T00:00:00",
          "x1": "2013-01-01T00:00:00",
          "xref": "x",
          "y0": 0,
          "y1": 1,
          "yref": "y domain"
         },
         {
          "line": {
           "color": "red",
           "dash": "dot",
           "width": 0.5
          },
          "type": "line",
          "x0": "2013-01-05T00:00:00",
          "x1": "2013-01-05T00:00:00",
          "xref": "x",
          "y0": 0,
          "y1": 1,
          "yref": "y domain"
         },
         {
          "line": {
           "color": "red",
           "dash": "dot",
           "width": 0.5
          },
          "type": "line",
          "x0": "2013-01-12T00:00:00",
          "x1": "2013-01-12T00:00:00",
          "xref": "x",
          "y0": 0,
          "y1": 1,
          "yref": "y domain"
         },
         {
          "line": {
           "color": "red",
           "dash": "dot",
           "width": 0.5
          },
          "type": "line",
          "x0": "2013-02-11T00:00:00",
          "x1": "2013-02-11T00:00:00",
          "xref": "x",
          "y0": 0,
          "y1": 1,
          "yref": "y domain"
         },
         {
          "line": {
           "color": "red",
           "dash": "dot",
           "width": 0.5
          },
          "type": "line",
          "x0": "2013-02-12T00:00:00",
          "x1": "2013-02-12T00:00:00",
          "xref": "x",
          "y0": 0,
          "y1": 1,
          "yref": "y domain"
         },
         {
          "line": {
           "color": "red",
           "dash": "dot",
           "width": 0.5
          },
          "type": "line",
          "x0": "2013-03-02T00:00:00",
          "x1": "2013-03-02T00:00:00",
          "xref": "x",
          "y0": 0,
          "y1": 1,
          "yref": "y domain"
         },
         {
          "line": {
           "color": "red",
           "dash": "dot",
           "width": 0.5
          },
          "type": "line",
          "x0": "2013-04-01T00:00:00",
          "x1": "2013-04-01T00:00:00",
          "xref": "x",
          "y0": 0,
          "y1": 1,
          "yref": "y domain"
         },
         {
          "line": {
           "color": "red",
           "dash": "dot",
           "width": 0.5
          },
          "type": "line",
          "x0": "2013-04-12T00:00:00",
          "x1": "2013-04-12T00:00:00",
          "xref": "x",
          "y0": 0,
          "y1": 1,
          "yref": "y domain"
         },
         {
          "line": {
           "color": "red",
           "dash": "dot",
           "width": 0.5
          },
          "type": "line",
          "x0": "2013-04-14T00:00:00",
          "x1": "2013-04-14T00:00:00",
          "xref": "x",
          "y0": 0,
          "y1": 1,
          "yref": "y domain"
         },
         {
          "line": {
           "color": "red",
           "dash": "dot",
           "width": 0.5
          },
          "type": "line",
          "x0": "2013-04-21T00:00:00",
          "x1": "2013-04-21T00:00:00",
          "xref": "x",
          "y0": 0,
          "y1": 1,
          "yref": "y domain"
         },
         {
          "line": {
           "color": "red",
           "dash": "dot",
           "width": 0.5
          },
          "type": "line",
          "x0": "2013-04-29T00:00:00",
          "x1": "2013-04-29T00:00:00",
          "xref": "x",
          "y0": 0,
          "y1": 1,
          "yref": "y domain"
         },
         {
          "line": {
           "color": "red",
           "dash": "dot",
           "width": 0.5
          },
          "type": "line",
          "x0": "2013-05-01T00:00:00",
          "x1": "2013-05-01T00:00:00",
          "xref": "x",
          "y0": 0,
          "y1": 1,
          "yref": "y domain"
         },
         {
          "line": {
           "color": "red",
           "dash": "dot",
           "width": 0.5
          },
          "type": "line",
          "x0": "2013-05-11T00:00:00",
          "x1": "2013-05-11T00:00:00",
          "xref": "x",
          "y0": 0,
          "y1": 1,
          "yref": "y domain"
         },
         {
          "line": {
           "color": "red",
           "dash": "dot",
           "width": 0.5
          },
          "type": "line",
          "x0": "2013-05-12T00:00:00",
          "x1": "2013-05-12T00:00:00",
          "xref": "x",
          "y0": 0,
          "y1": 1,
          "yref": "y domain"
         },
         {
          "line": {
           "color": "red",
           "dash": "dot",
           "width": 0.5
          },
          "type": "line",
          "x0": "2013-05-24T00:00:00",
          "x1": "2013-05-24T00:00:00",
          "xref": "x",
          "y0": 0,
          "y1": 1,
          "yref": "y domain"
         },
         {
          "line": {
           "color": "red",
           "dash": "dot",
           "width": 0.5
          },
          "type": "line",
          "x0": "2013-06-23T00:00:00",
          "x1": "2013-06-23T00:00:00",
          "xref": "x",
          "y0": 0,
          "y1": 1,
          "yref": "y domain"
         },
         {
          "line": {
           "color": "red",
           "dash": "dot",
           "width": 0.5
          },
          "type": "line",
          "x0": "2013-06-25T00:00:00",
          "x1": "2013-06-25T00:00:00",
          "xref": "x",
          "y0": 0,
          "y1": 1,
          "yref": "y domain"
         },
         {
          "line": {
           "color": "red",
           "dash": "dot",
           "width": 0.5
          },
          "type": "line",
          "x0": "2013-07-03T00:00:00",
          "x1": "2013-07-03T00:00:00",
          "xref": "x",
          "y0": 0,
          "y1": 1,
          "yref": "y domain"
         },
         {
          "line": {
           "color": "red",
           "dash": "dot",
           "width": 0.5
          },
          "type": "line",
          "x0": "2013-07-23T00:00:00",
          "x1": "2013-07-23T00:00:00",
          "xref": "x",
          "y0": 0,
          "y1": 1,
          "yref": "y domain"
         },
         {
          "line": {
           "color": "red",
           "dash": "dot",
           "width": 0.5
          },
          "type": "line",
          "x0": "2013-07-24T00:00:00",
          "x1": "2013-07-24T00:00:00",
          "xref": "x",
          "y0": 0,
          "y1": 1,
          "yref": "y domain"
         },
         {
          "line": {
           "color": "red",
           "dash": "dot",
           "width": 0.5
          },
          "type": "line",
          "x0": "2013-07-25T00:00:00",
          "x1": "2013-07-25T00:00:00",
          "xref": "x",
          "y0": 0,
          "y1": 1,
          "yref": "y domain"
         },
         {
          "line": {
           "color": "red",
           "dash": "dot",
           "width": 0.5
          },
          "type": "line",
          "x0": "2013-08-05T00:00:00",
          "x1": "2013-08-05T00:00:00",
          "xref": "x",
          "y0": 0,
          "y1": 1,
          "yref": "y domain"
         },
         {
          "line": {
           "color": "red",
           "dash": "dot",
           "width": 0.5
          },
          "type": "line",
          "x0": "2013-08-10T00:00:00",
          "x1": "2013-08-10T00:00:00",
          "xref": "x",
          "y0": 0,
          "y1": 1,
          "yref": "y domain"
         },
         {
          "line": {
           "color": "red",
           "dash": "dot",
           "width": 0.5
          },
          "type": "line",
          "x0": "2013-08-15T00:00:00",
          "x1": "2013-08-15T00:00:00",
          "xref": "x",
          "y0": 0,
          "y1": 1,
          "yref": "y domain"
         },
         {
          "line": {
           "color": "red",
           "dash": "dot",
           "width": 0.5
          },
          "type": "line",
          "x0": "2013-08-24T00:00:00",
          "x1": "2013-08-24T00:00:00",
          "xref": "x",
          "y0": 0,
          "y1": 1,
          "yref": "y domain"
         },
         {
          "line": {
           "color": "red",
           "dash": "dot",
           "width": 0.5
          },
          "type": "line",
          "x0": "2013-09-28T00:00:00",
          "x1": "2013-09-28T00:00:00",
          "xref": "x",
          "y0": 0,
          "y1": 1,
          "yref": "y domain"
         },
         {
          "line": {
           "color": "red",
           "dash": "dot",
           "width": 0.5
          },
          "type": "line",
          "x0": "2013-10-07T00:00:00",
          "x1": "2013-10-07T00:00:00",
          "xref": "x",
          "y0": 0,
          "y1": 1,
          "yref": "y domain"
         },
         {
          "line": {
           "color": "red",
           "dash": "dot",
           "width": 0.5
          },
          "type": "line",
          "x0": "2013-10-11T00:00:00",
          "x1": "2013-10-11T00:00:00",
          "xref": "x",
          "y0": 0,
          "y1": 1,
          "yref": "y domain"
         },
         {
          "line": {
           "color": "red",
           "dash": "dot",
           "width": 0.5
          },
          "type": "line",
          "x0": "2013-11-02T00:00:00",
          "x1": "2013-11-02T00:00:00",
          "xref": "x",
          "y0": 0,
          "y1": 1,
          "yref": "y domain"
         },
         {
          "line": {
           "color": "red",
           "dash": "dot",
           "width": 0.5
          },
          "type": "line",
          "x0": "2013-11-03T00:00:00",
          "x1": "2013-11-03T00:00:00",
          "xref": "x",
          "y0": 0,
          "y1": 1,
          "yref": "y domain"
         },
         {
          "line": {
           "color": "red",
           "dash": "dot",
           "width": 0.5
          },
          "type": "line",
          "x0": "2013-11-06T00:00:00",
          "x1": "2013-11-06T00:00:00",
          "xref": "x",
          "y0": 0,
          "y1": 1,
          "yref": "y domain"
         },
         {
          "line": {
           "color": "red",
           "dash": "dot",
           "width": 0.5
          },
          "type": "line",
          "x0": "2013-11-07T00:00:00",
          "x1": "2013-11-07T00:00:00",
          "xref": "x",
          "y0": 0,
          "y1": 1,
          "yref": "y domain"
         },
         {
          "line": {
           "color": "red",
           "dash": "dot",
           "width": 0.5
          },
          "type": "line",
          "x0": "2013-11-10T00:00:00",
          "x1": "2013-11-10T00:00:00",
          "xref": "x",
          "y0": 0,
          "y1": 1,
          "yref": "y domain"
         },
         {
          "line": {
           "color": "red",
           "dash": "dot",
           "width": 0.5
          },
          "type": "line",
          "x0": "2013-11-11T00:00:00",
          "x1": "2013-11-11T00:00:00",
          "xref": "x",
          "y0": 0,
          "y1": 1,
          "yref": "y domain"
         },
         {
          "line": {
           "color": "red",
           "dash": "dot",
           "width": 0.5
          },
          "type": "line",
          "x0": "2013-11-12T00:00:00",
          "x1": "2013-11-12T00:00:00",
          "xref": "x",
          "y0": 0,
          "y1": 1,
          "yref": "y domain"
         },
         {
          "line": {
           "color": "red",
           "dash": "dot",
           "width": 0.5
          },
          "type": "line",
          "x0": "2013-12-05T00:00:00",
          "x1": "2013-12-05T00:00:00",
          "xref": "x",
          "y0": 0,
          "y1": 1,
          "yref": "y domain"
         },
         {
          "line": {
           "color": "red",
           "dash": "dot",
           "width": 0.5
          },
          "type": "line",
          "x0": "2013-12-06T00:00:00",
          "x1": "2013-12-06T00:00:00",
          "xref": "x",
          "y0": 0,
          "y1": 1,
          "yref": "y domain"
         },
         {
          "line": {
           "color": "red",
           "dash": "dot",
           "width": 0.5
          },
          "type": "line",
          "x0": "2013-12-08T00:00:00",
          "x1": "2013-12-08T00:00:00",
          "xref": "x",
          "y0": 0,
          "y1": 1,
          "yref": "y domain"
         },
         {
          "line": {
           "color": "red",
           "dash": "dot",
           "width": 0.5
          },
          "type": "line",
          "x0": "2013-12-21T00:00:00",
          "x1": "2013-12-21T00:00:00",
          "xref": "x",
          "y0": 0,
          "y1": 1,
          "yref": "y domain"
         },
         {
          "line": {
           "color": "red",
           "dash": "dot",
           "width": 0.5
          },
          "type": "line",
          "x0": "2013-12-22T00:00:00",
          "x1": "2013-12-22T00:00:00",
          "xref": "x",
          "y0": 0,
          "y1": 1,
          "yref": "y domain"
         },
         {
          "line": {
           "color": "red",
           "dash": "dot",
           "width": 0.5
          },
          "type": "line",
          "x0": "2013-12-23T00:00:00",
          "x1": "2013-12-23T00:00:00",
          "xref": "x",
          "y0": 0,
          "y1": 1,
          "yref": "y domain"
         },
         {
          "line": {
           "color": "red",
           "dash": "dot",
           "width": 0.5
          },
          "type": "line",
          "x0": "2013-12-24T00:00:00",
          "x1": "2013-12-24T00:00:00",
          "xref": "x",
          "y0": 0,
          "y1": 1,
          "yref": "y domain"
         },
         {
          "line": {
           "color": "red",
           "dash": "dot",
           "width": 0.5
          },
          "type": "line",
          "x0": "2013-12-25T00:00:00",
          "x1": "2013-12-25T00:00:00",
          "xref": "x",
          "y0": 0,
          "y1": 1,
          "yref": "y domain"
         },
         {
          "line": {
           "color": "red",
           "dash": "dot",
           "width": 0.5
          },
          "type": "line",
          "x0": "2013-12-26T00:00:00",
          "x1": "2013-12-26T00:00:00",
          "xref": "x",
          "y0": 0,
          "y1": 1,
          "yref": "y domain"
         },
         {
          "line": {
           "color": "red",
           "dash": "dot",
           "width": 0.5
          },
          "type": "line",
          "x0": "2013-12-31T00:00:00",
          "x1": "2013-12-31T00:00:00",
          "xref": "x",
          "y0": 0,
          "y1": 1,
          "yref": "y domain"
         },
         {
          "line": {
           "color": "red",
           "dash": "dot",
           "width": 0.5
          },
          "type": "line",
          "x0": "2014-01-01T00:00:00",
          "x1": "2014-01-01T00:00:00",
          "xref": "x",
          "y0": 0,
          "y1": 1,
          "yref": "y domain"
         },
         {
          "line": {
           "color": "red",
           "dash": "dot",
           "width": 0.5
          },
          "type": "line",
          "x0": "2014-03-02T00:00:00",
          "x1": "2014-03-02T00:00:00",
          "xref": "x",
          "y0": 0,
          "y1": 1,
          "yref": "y domain"
         },
         {
          "line": {
           "color": "red",
           "dash": "dot",
           "width": 0.5
          },
          "type": "line",
          "x0": "2014-03-03T00:00:00",
          "x1": "2014-03-03T00:00:00",
          "xref": "x",
          "y0": 0,
          "y1": 1,
          "yref": "y domain"
         },
         {
          "line": {
           "color": "red",
           "dash": "dot",
           "width": 0.5
          },
          "type": "line",
          "x0": "2014-03-04T00:00:00",
          "x1": "2014-03-04T00:00:00",
          "xref": "x",
          "y0": 0,
          "y1": 1,
          "yref": "y domain"
         },
         {
          "line": {
           "color": "red",
           "dash": "dot",
           "width": 0.5
          },
          "type": "line",
          "x0": "2014-04-01T00:00:00",
          "x1": "2014-04-01T00:00:00",
          "xref": "x",
          "y0": 0,
          "y1": 1,
          "yref": "y domain"
         },
         {
          "line": {
           "color": "red",
           "dash": "dot",
           "width": 0.5
          },
          "type": "line",
          "x0": "2014-04-12T00:00:00",
          "x1": "2014-04-12T00:00:00",
          "xref": "x",
          "y0": 0,
          "y1": 1,
          "yref": "y domain"
         },
         {
          "line": {
           "color": "red",
           "dash": "dot",
           "width": 0.5
          },
          "type": "line",
          "x0": "2014-04-14T00:00:00",
          "x1": "2014-04-14T00:00:00",
          "xref": "x",
          "y0": 0,
          "y1": 1,
          "yref": "y domain"
         },
         {
          "line": {
           "color": "red",
           "dash": "dot",
           "width": 0.5
          },
          "type": "line",
          "x0": "2014-04-18T00:00:00",
          "x1": "2014-04-18T00:00:00",
          "xref": "x",
          "y0": 0,
          "y1": 1,
          "yref": "y domain"
         },
         {
          "line": {
           "color": "red",
           "dash": "dot",
           "width": 0.5
          },
          "type": "line",
          "x0": "2014-04-21T00:00:00",
          "x1": "2014-04-21T00:00:00",
          "xref": "x",
          "y0": 0,
          "y1": 1,
          "yref": "y domain"
         },
         {
          "line": {
           "color": "red",
           "dash": "dot",
           "width": 0.5
          },
          "type": "line",
          "x0": "2014-05-01T00:00:00",
          "x1": "2014-05-01T00:00:00",
          "xref": "x",
          "y0": 0,
          "y1": 1,
          "yref": "y domain"
         },
         {
          "line": {
           "color": "red",
           "dash": "dot",
           "width": 0.5
          },
          "type": "line",
          "x0": "2014-05-10T00:00:00",
          "x1": "2014-05-10T00:00:00",
          "xref": "x",
          "y0": 0,
          "y1": 1,
          "yref": "y domain"
         },
         {
          "line": {
           "color": "red",
           "dash": "dot",
           "width": 0.5
          },
          "type": "line",
          "x0": "2014-05-11T00:00:00",
          "x1": "2014-05-11T00:00:00",
          "xref": "x",
          "y0": 0,
          "y1": 1,
          "yref": "y domain"
         },
         {
          "line": {
           "color": "red",
           "dash": "dot",
           "width": 0.5
          },
          "type": "line",
          "x0": "2014-05-12T00:00:00",
          "x1": "2014-05-12T00:00:00",
          "xref": "x",
          "y0": 0,
          "y1": 1,
          "yref": "y domain"
         },
         {
          "line": {
           "color": "red",
           "dash": "dot",
           "width": 0.5
          },
          "type": "line",
          "x0": "2014-05-24T00:00:00",
          "x1": "2014-05-24T00:00:00",
          "xref": "x",
          "y0": 0,
          "y1": 1,
          "yref": "y domain"
         },
         {
          "line": {
           "color": "red",
           "dash": "dot",
           "width": 0.5
          },
          "type": "line",
          "x0": "2014-06-12T00:00:00",
          "x1": "2014-06-12T00:00:00",
          "xref": "x",
          "y0": 0,
          "y1": 1,
          "yref": "y domain"
         },
         {
          "line": {
           "color": "red",
           "dash": "dot",
           "width": 0.5
          },
          "type": "line",
          "x0": "2014-06-15T00:00:00",
          "x1": "2014-06-15T00:00:00",
          "xref": "x",
          "y0": 0,
          "y1": 1,
          "yref": "y domain"
         },
         {
          "line": {
           "color": "red",
           "dash": "dot",
           "width": 0.5
          },
          "type": "line",
          "x0": "2014-06-20T00:00:00",
          "x1": "2014-06-20T00:00:00",
          "xref": "x",
          "y0": 0,
          "y1": 1,
          "yref": "y domain"
         },
         {
          "line": {
           "color": "red",
           "dash": "dot",
           "width": 0.5
          },
          "type": "line",
          "x0": "2014-06-23T00:00:00",
          "x1": "2014-06-23T00:00:00",
          "xref": "x",
          "y0": 0,
          "y1": 1,
          "yref": "y domain"
         },
         {
          "line": {
           "color": "red",
           "dash": "dot",
           "width": 0.5
          },
          "type": "line",
          "x0": "2014-06-25T00:00:00",
          "x1": "2014-06-25T00:00:00",
          "xref": "x",
          "y0": 0,
          "y1": 1,
          "yref": "y domain"
         },
         {
          "line": {
           "color": "red",
           "dash": "dot",
           "width": 0.5
          },
          "type": "line",
          "x0": "2014-06-28T00:00:00",
          "x1": "2014-06-28T00:00:00",
          "xref": "x",
          "y0": 0,
          "y1": 1,
          "yref": "y domain"
         },
         {
          "line": {
           "color": "red",
           "dash": "dot",
           "width": 0.5
          },
          "type": "line",
          "x0": "2014-06-29T00:00:00",
          "x1": "2014-06-29T00:00:00",
          "xref": "x",
          "y0": 0,
          "y1": 1,
          "yref": "y domain"
         },
         {
          "line": {
           "color": "red",
           "dash": "dot",
           "width": 0.5
          },
          "type": "line",
          "x0": "2014-06-30T00:00:00",
          "x1": "2014-06-30T00:00:00",
          "xref": "x",
          "y0": 0,
          "y1": 1,
          "yref": "y domain"
         },
         {
          "line": {
           "color": "red",
           "dash": "dot",
           "width": 0.5
          },
          "type": "line",
          "x0": "2014-07-01T00:00:00",
          "x1": "2014-07-01T00:00:00",
          "xref": "x",
          "y0": 0,
          "y1": 1,
          "yref": "y domain"
         },
         {
          "line": {
           "color": "red",
           "dash": "dot",
           "width": 0.5
          },
          "type": "line",
          "x0": "2014-07-03T00:00:00",
          "x1": "2014-07-03T00:00:00",
          "xref": "x",
          "y0": 0,
          "y1": 1,
          "yref": "y domain"
         },
         {
          "line": {
           "color": "red",
           "dash": "dot",
           "width": 0.5
          },
          "type": "line",
          "x0": "2014-07-04T00:00:00",
          "x1": "2014-07-04T00:00:00",
          "xref": "x",
          "y0": 0,
          "y1": 1,
          "yref": "y domain"
         },
         {
          "line": {
           "color": "red",
           "dash": "dot",
           "width": 0.5
          },
          "type": "line",
          "x0": "2014-07-05T00:00:00",
          "x1": "2014-07-05T00:00:00",
          "xref": "x",
          "y0": 0,
          "y1": 1,
          "yref": "y domain"
         },
         {
          "line": {
           "color": "red",
           "dash": "dot",
           "width": 0.5
          },
          "type": "line",
          "x0": "2014-07-08T00:00:00",
          "x1": "2014-07-08T00:00:00",
          "xref": "x",
          "y0": 0,
          "y1": 1,
          "yref": "y domain"
         },
         {
          "line": {
           "color": "red",
           "dash": "dot",
           "width": 0.5
          },
          "type": "line",
          "x0": "2014-07-09T00:00:00",
          "x1": "2014-07-09T00:00:00",
          "xref": "x",
          "y0": 0,
          "y1": 1,
          "yref": "y domain"
         },
         {
          "line": {
           "color": "red",
           "dash": "dot",
           "width": 0.5
          },
          "type": "line",
          "x0": "2014-07-12T00:00:00",
          "x1": "2014-07-12T00:00:00",
          "xref": "x",
          "y0": 0,
          "y1": 1,
          "yref": "y domain"
         },
         {
          "line": {
           "color": "red",
           "dash": "dot",
           "width": 0.5
          },
          "type": "line",
          "x0": "2014-07-13T00:00:00",
          "x1": "2014-07-13T00:00:00",
          "xref": "x",
          "y0": 0,
          "y1": 1,
          "yref": "y domain"
         },
         {
          "line": {
           "color": "red",
           "dash": "dot",
           "width": 0.5
          },
          "type": "line",
          "x0": "2014-07-23T00:00:00",
          "x1": "2014-07-23T00:00:00",
          "xref": "x",
          "y0": 0,
          "y1": 1,
          "yref": "y domain"
         },
         {
          "line": {
           "color": "red",
           "dash": "dot",
           "width": 0.5
          },
          "type": "line",
          "x0": "2014-07-24T00:00:00",
          "x1": "2014-07-24T00:00:00",
          "xref": "x",
          "y0": 0,
          "y1": 1,
          "yref": "y domain"
         },
         {
          "line": {
           "color": "red",
           "dash": "dot",
           "width": 0.5
          },
          "type": "line",
          "x0": "2014-07-25T00:00:00",
          "x1": "2014-07-25T00:00:00",
          "xref": "x",
          "y0": 0,
          "y1": 1,
          "yref": "y domain"
         },
         {
          "line": {
           "color": "red",
           "dash": "dot",
           "width": 0.5
          },
          "type": "line",
          "x0": "2014-08-05T00:00:00",
          "x1": "2014-08-05T00:00:00",
          "xref": "x",
          "y0": 0,
          "y1": 1,
          "yref": "y domain"
         },
         {
          "line": {
           "color": "red",
           "dash": "dot",
           "width": 0.5
          },
          "type": "line",
          "x0": "2014-08-10T00:00:00",
          "x1": "2014-08-10T00:00:00",
          "xref": "x",
          "y0": 0,
          "y1": 1,
          "yref": "y domain"
         },
         {
          "line": {
           "color": "red",
           "dash": "dot",
           "width": 0.5
          },
          "type": "line",
          "x0": "2014-08-15T00:00:00",
          "x1": "2014-08-15T00:00:00",
          "xref": "x",
          "y0": 0,
          "y1": 1,
          "yref": "y domain"
         },
         {
          "line": {
           "color": "red",
           "dash": "dot",
           "width": 0.5
          },
          "type": "line",
          "x0": "2014-08-24T00:00:00",
          "x1": "2014-08-24T00:00:00",
          "xref": "x",
          "y0": 0,
          "y1": 1,
          "yref": "y domain"
         },
         {
          "line": {
           "color": "red",
           "dash": "dot",
           "width": 0.5
          },
          "type": "line",
          "x0": "2014-09-28T00:00:00",
          "x1": "2014-09-28T00:00:00",
          "xref": "x",
          "y0": 0,
          "y1": 1,
          "yref": "y domain"
         },
         {
          "line": {
           "color": "red",
           "dash": "dot",
           "width": 0.5
          },
          "type": "line",
          "x0": "2014-10-07T00:00:00",
          "x1": "2014-10-07T00:00:00",
          "xref": "x",
          "y0": 0,
          "y1": 1,
          "yref": "y domain"
         },
         {
          "line": {
           "color": "red",
           "dash": "dot",
           "width": 0.5
          },
          "type": "line",
          "x0": "2014-10-10T00:00:00",
          "x1": "2014-10-10T00:00:00",
          "xref": "x",
          "y0": 0,
          "y1": 1,
          "yref": "y domain"
         },
         {
          "line": {
           "color": "red",
           "dash": "dot",
           "width": 0.5
          },
          "type": "line",
          "x0": "2014-11-02T00:00:00",
          "x1": "2014-11-02T00:00:00",
          "xref": "x",
          "y0": 0,
          "y1": 1,
          "yref": "y domain"
         },
         {
          "line": {
           "color": "red",
           "dash": "dot",
           "width": 0.5
          },
          "type": "line",
          "x0": "2014-11-03T00:00:00",
          "x1": "2014-11-03T00:00:00",
          "xref": "x",
          "y0": 0,
          "y1": 1,
          "yref": "y domain"
         },
         {
          "line": {
           "color": "red",
           "dash": "dot",
           "width": 0.5
          },
          "type": "line",
          "x0": "2014-11-06T00:00:00",
          "x1": "2014-11-06T00:00:00",
          "xref": "x",
          "y0": 0,
          "y1": 1,
          "yref": "y domain"
         },
         {
          "line": {
           "color": "red",
           "dash": "dot",
           "width": 0.5
          },
          "type": "line",
          "x0": "2014-11-07T00:00:00",
          "x1": "2014-11-07T00:00:00",
          "xref": "x",
          "y0": 0,
          "y1": 1,
          "yref": "y domain"
         },
         {
          "line": {
           "color": "red",
           "dash": "dot",
           "width": 0.5
          },
          "type": "line",
          "x0": "2014-11-10T00:00:00",
          "x1": "2014-11-10T00:00:00",
          "xref": "x",
          "y0": 0,
          "y1": 1,
          "yref": "y domain"
         },
         {
          "line": {
           "color": "red",
           "dash": "dot",
           "width": 0.5
          },
          "type": "line",
          "x0": "2014-11-11T00:00:00",
          "x1": "2014-11-11T00:00:00",
          "xref": "x",
          "y0": 0,
          "y1": 1,
          "yref": "y domain"
         },
         {
          "line": {
           "color": "red",
           "dash": "dot",
           "width": 0.5
          },
          "type": "line",
          "x0": "2014-11-12T00:00:00",
          "x1": "2014-11-12T00:00:00",
          "xref": "x",
          "y0": 0,
          "y1": 1,
          "yref": "y domain"
         },
         {
          "line": {
           "color": "red",
           "dash": "dot",
           "width": 0.5
          },
          "type": "line",
          "x0": "2014-11-28T00:00:00",
          "x1": "2014-11-28T00:00:00",
          "xref": "x",
          "y0": 0,
          "y1": 1,
          "yref": "y domain"
         },
         {
          "line": {
           "color": "red",
           "dash": "dot",
           "width": 0.5
          },
          "type": "line",
          "x0": "2014-12-01T00:00:00",
          "x1": "2014-12-01T00:00:00",
          "xref": "x",
          "y0": 0,
          "y1": 1,
          "yref": "y domain"
         },
         {
          "line": {
           "color": "red",
           "dash": "dot",
           "width": 0.5
          },
          "type": "line",
          "x0": "2014-12-05T00:00:00",
          "x1": "2014-12-05T00:00:00",
          "xref": "x",
          "y0": 0,
          "y1": 1,
          "yref": "y domain"
         },
         {
          "line": {
           "color": "red",
           "dash": "dot",
           "width": 0.5
          },
          "type": "line",
          "x0": "2014-12-06T00:00:00",
          "x1": "2014-12-06T00:00:00",
          "xref": "x",
          "y0": 0,
          "y1": 1,
          "yref": "y domain"
         },
         {
          "line": {
           "color": "red",
           "dash": "dot",
           "width": 0.5
          },
          "type": "line",
          "x0": "2014-12-08T00:00:00",
          "x1": "2014-12-08T00:00:00",
          "xref": "x",
          "y0": 0,
          "y1": 1,
          "yref": "y domain"
         },
         {
          "line": {
           "color": "red",
           "dash": "dot",
           "width": 0.5
          },
          "type": "line",
          "x0": "2014-12-20T00:00:00",
          "x1": "2014-12-20T00:00:00",
          "xref": "x",
          "y0": 0,
          "y1": 1,
          "yref": "y domain"
         },
         {
          "line": {
           "color": "red",
           "dash": "dot",
           "width": 0.5
          },
          "type": "line",
          "x0": "2014-12-21T00:00:00",
          "x1": "2014-12-21T00:00:00",
          "xref": "x",
          "y0": 0,
          "y1": 1,
          "yref": "y domain"
         },
         {
          "line": {
           "color": "red",
           "dash": "dot",
           "width": 0.5
          },
          "type": "line",
          "x0": "2014-12-22T00:00:00",
          "x1": "2014-12-22T00:00:00",
          "xref": "x",
          "y0": 0,
          "y1": 1,
          "yref": "y domain"
         },
         {
          "line": {
           "color": "red",
           "dash": "dot",
           "width": 0.5
          },
          "type": "line",
          "x0": "2014-12-23T00:00:00",
          "x1": "2014-12-23T00:00:00",
          "xref": "x",
          "y0": 0,
          "y1": 1,
          "yref": "y domain"
         },
         {
          "line": {
           "color": "red",
           "dash": "dot",
           "width": 0.5
          },
          "type": "line",
          "x0": "2014-12-24T00:00:00",
          "x1": "2014-12-24T00:00:00",
          "xref": "x",
          "y0": 0,
          "y1": 1,
          "yref": "y domain"
         },
         {
          "line": {
           "color": "red",
           "dash": "dot",
           "width": 0.5
          },
          "type": "line",
          "x0": "2014-12-25T00:00:00",
          "x1": "2014-12-25T00:00:00",
          "xref": "x",
          "y0": 0,
          "y1": 1,
          "yref": "y domain"
         },
         {
          "line": {
           "color": "red",
           "dash": "dot",
           "width": 0.5
          },
          "type": "line",
          "x0": "2014-12-26T00:00:00",
          "x1": "2014-12-26T00:00:00",
          "xref": "x",
          "y0": 0,
          "y1": 1,
          "yref": "y domain"
         },
         {
          "line": {
           "color": "red",
           "dash": "dot",
           "width": 0.5
          },
          "type": "line",
          "x0": "2014-12-31T00:00:00",
          "x1": "2014-12-31T00:00:00",
          "xref": "x",
          "y0": 0,
          "y1": 1,
          "yref": "y domain"
         },
         {
          "line": {
           "color": "red",
           "dash": "dot",
           "width": 0.5
          },
          "type": "line",
          "x0": "2015-01-01T00:00:00",
          "x1": "2015-01-01T00:00:00",
          "xref": "x",
          "y0": 0,
          "y1": 1,
          "yref": "y domain"
         },
         {
          "line": {
           "color": "red",
           "dash": "dot",
           "width": 0.5
          },
          "type": "line",
          "x0": "2015-01-02T00:00:00",
          "x1": "2015-01-02T00:00:00",
          "xref": "x",
          "y0": 0,
          "y1": 1,
          "yref": "y domain"
         },
         {
          "line": {
           "color": "red",
           "dash": "dot",
           "width": 0.5
          },
          "type": "line",
          "x0": "2015-01-10T00:00:00",
          "x1": "2015-01-10T00:00:00",
          "xref": "x",
          "y0": 0,
          "y1": 1,
          "yref": "y domain"
         },
         {
          "line": {
           "color": "red",
           "dash": "dot",
           "width": 0.5
          },
          "type": "line",
          "x0": "2015-02-16T00:00:00",
          "x1": "2015-02-16T00:00:00",
          "xref": "x",
          "y0": 0,
          "y1": 1,
          "yref": "y domain"
         },
         {
          "line": {
           "color": "red",
           "dash": "dot",
           "width": 0.5
          },
          "type": "line",
          "x0": "2015-02-17T00:00:00",
          "x1": "2015-02-17T00:00:00",
          "xref": "x",
          "y0": 0,
          "y1": 1,
          "yref": "y domain"
         },
         {
          "line": {
           "color": "red",
           "dash": "dot",
           "width": 0.5
          },
          "type": "line",
          "x0": "2015-03-02T00:00:00",
          "x1": "2015-03-02T00:00:00",
          "xref": "x",
          "y0": 0,
          "y1": 1,
          "yref": "y domain"
         },
         {
          "line": {
           "color": "red",
           "dash": "dot",
           "width": 0.5
          },
          "type": "line",
          "x0": "2015-04-01T00:00:00",
          "x1": "2015-04-01T00:00:00",
          "xref": "x",
          "y0": 0,
          "y1": 1,
          "yref": "y domain"
         },
         {
          "line": {
           "color": "red",
           "dash": "dot",
           "width": 0.5
          },
          "type": "line",
          "x0": "2015-04-03T00:00:00",
          "x1": "2015-04-03T00:00:00",
          "xref": "x",
          "y0": 0,
          "y1": 1,
          "yref": "y domain"
         },
         {
          "line": {
           "color": "red",
           "dash": "dot",
           "width": 0.5
          },
          "type": "line",
          "x0": "2015-04-12T00:00:00",
          "x1": "2015-04-12T00:00:00",
          "xref": "x",
          "y0": 0,
          "y1": 1,
          "yref": "y domain"
         },
         {
          "line": {
           "color": "red",
           "dash": "dot",
           "width": 0.5
          },
          "type": "line",
          "x0": "2015-04-14T00:00:00",
          "x1": "2015-04-14T00:00:00",
          "xref": "x",
          "y0": 0,
          "y1": 1,
          "yref": "y domain"
         },
         {
          "line": {
           "color": "red",
           "dash": "dot",
           "width": 0.5
          },
          "type": "line",
          "x0": "2015-04-21T00:00:00",
          "x1": "2015-04-21T00:00:00",
          "xref": "x",
          "y0": 0,
          "y1": 1,
          "yref": "y domain"
         },
         {
          "line": {
           "color": "red",
           "dash": "dot",
           "width": 0.5
          },
          "type": "line",
          "x0": "2015-05-01T00:00:00",
          "x1": "2015-05-01T00:00:00",
          "xref": "x",
          "y0": 0,
          "y1": 1,
          "yref": "y domain"
         },
         {
          "line": {
           "color": "red",
           "dash": "dot",
           "width": 0.5
          },
          "type": "line",
          "x0": "2015-05-09T00:00:00",
          "x1": "2015-05-09T00:00:00",
          "xref": "x",
          "y0": 0,
          "y1": 1,
          "yref": "y domain"
         },
         {
          "line": {
           "color": "red",
           "dash": "dot",
           "width": 0.5
          },
          "type": "line",
          "x0": "2015-05-10T00:00:00",
          "x1": "2015-05-10T00:00:00",
          "xref": "x",
          "y0": 0,
          "y1": 1,
          "yref": "y domain"
         },
         {
          "line": {
           "color": "red",
           "dash": "dot",
           "width": 0.5
          },
          "type": "line",
          "x0": "2015-05-12T00:00:00",
          "x1": "2015-05-12T00:00:00",
          "xref": "x",
          "y0": 0,
          "y1": 1,
          "yref": "y domain"
         },
         {
          "line": {
           "color": "red",
           "dash": "dot",
           "width": 0.5
          },
          "type": "line",
          "x0": "2015-05-24T00:00:00",
          "x1": "2015-05-24T00:00:00",
          "xref": "x",
          "y0": 0,
          "y1": 1,
          "yref": "y domain"
         },
         {
          "line": {
           "color": "red",
           "dash": "dot",
           "width": 0.5
          },
          "type": "line",
          "x0": "2015-06-23T00:00:00",
          "x1": "2015-06-23T00:00:00",
          "xref": "x",
          "y0": 0,
          "y1": 1,
          "yref": "y domain"
         },
         {
          "line": {
           "color": "red",
           "dash": "dot",
           "width": 0.5
          },
          "type": "line",
          "x0": "2015-06-25T00:00:00",
          "x1": "2015-06-25T00:00:00",
          "xref": "x",
          "y0": 0,
          "y1": 1,
          "yref": "y domain"
         },
         {
          "line": {
           "color": "red",
           "dash": "dot",
           "width": 0.5
          },
          "type": "line",
          "x0": "2015-07-03T00:00:00",
          "x1": "2015-07-03T00:00:00",
          "xref": "x",
          "y0": 0,
          "y1": 1,
          "yref": "y domain"
         },
         {
          "line": {
           "color": "red",
           "dash": "dot",
           "width": 0.5
          },
          "type": "line",
          "x0": "2015-07-23T00:00:00",
          "x1": "2015-07-23T00:00:00",
          "xref": "x",
          "y0": 0,
          "y1": 1,
          "yref": "y domain"
         },
         {
          "line": {
           "color": "red",
           "dash": "dot",
           "width": 0.5
          },
          "type": "line",
          "x0": "2015-07-24T00:00:00",
          "x1": "2015-07-24T00:00:00",
          "xref": "x",
          "y0": 0,
          "y1": 1,
          "yref": "y domain"
         },
         {
          "line": {
           "color": "red",
           "dash": "dot",
           "width": 0.5
          },
          "type": "line",
          "x0": "2015-07-25T00:00:00",
          "x1": "2015-07-25T00:00:00",
          "xref": "x",
          "y0": 0,
          "y1": 1,
          "yref": "y domain"
         },
         {
          "line": {
           "color": "red",
           "dash": "dot",
           "width": 0.5
          },
          "type": "line",
          "x0": "2015-08-05T00:00:00",
          "x1": "2015-08-05T00:00:00",
          "xref": "x",
          "y0": 0,
          "y1": 1,
          "yref": "y domain"
         },
         {
          "line": {
           "color": "red",
           "dash": "dot",
           "width": 0.5
          },
          "type": "line",
          "x0": "2015-08-10T00:00:00",
          "x1": "2015-08-10T00:00:00",
          "xref": "x",
          "y0": 0,
          "y1": 1,
          "yref": "y domain"
         },
         {
          "line": {
           "color": "red",
           "dash": "dot",
           "width": 0.5
          },
          "type": "line",
          "x0": "2015-08-15T00:00:00",
          "x1": "2015-08-15T00:00:00",
          "xref": "x",
          "y0": 0,
          "y1": 1,
          "yref": "y domain"
         },
         {
          "line": {
           "color": "red",
           "dash": "dot",
           "width": 0.5
          },
          "type": "line",
          "x0": "2015-08-24T00:00:00",
          "x1": "2015-08-24T00:00:00",
          "xref": "x",
          "y0": 0,
          "y1": 1,
          "yref": "y domain"
         },
         {
          "line": {
           "color": "red",
           "dash": "dot",
           "width": 0.5
          },
          "type": "line",
          "x0": "2015-09-28T00:00:00",
          "x1": "2015-09-28T00:00:00",
          "xref": "x",
          "y0": 0,
          "y1": 1,
          "yref": "y domain"
         },
         {
          "line": {
           "color": "red",
           "dash": "dot",
           "width": 0.5
          },
          "type": "line",
          "x0": "2015-10-07T00:00:00",
          "x1": "2015-10-07T00:00:00",
          "xref": "x",
          "y0": 0,
          "y1": 1,
          "yref": "y domain"
         },
         {
          "line": {
           "color": "red",
           "dash": "dot",
           "width": 0.5
          },
          "type": "line",
          "x0": "2015-10-09T00:00:00",
          "x1": "2015-10-09T00:00:00",
          "xref": "x",
          "y0": 0,
          "y1": 1,
          "yref": "y domain"
         },
         {
          "line": {
           "color": "red",
           "dash": "dot",
           "width": 0.5
          },
          "type": "line",
          "x0": "2015-11-02T00:00:00",
          "x1": "2015-11-02T00:00:00",
          "xref": "x",
          "y0": 0,
          "y1": 1,
          "yref": "y domain"
         },
         {
          "line": {
           "color": "red",
           "dash": "dot",
           "width": 0.5
          },
          "type": "line",
          "x0": "2015-11-03T00:00:00",
          "x1": "2015-11-03T00:00:00",
          "xref": "x",
          "y0": 0,
          "y1": 1,
          "yref": "y domain"
         },
         {
          "line": {
           "color": "red",
           "dash": "dot",
           "width": 0.5
          },
          "type": "line",
          "x0": "2015-11-06T00:00:00",
          "x1": "2015-11-06T00:00:00",
          "xref": "x",
          "y0": 0,
          "y1": 1,
          "yref": "y domain"
         },
         {
          "line": {
           "color": "red",
           "dash": "dot",
           "width": 0.5
          },
          "type": "line",
          "x0": "2015-11-07T00:00:00",
          "x1": "2015-11-07T00:00:00",
          "xref": "x",
          "y0": 0,
          "y1": 1,
          "yref": "y domain"
         },
         {
          "line": {
           "color": "red",
           "dash": "dot",
           "width": 0.5
          },
          "type": "line",
          "x0": "2015-11-10T00:00:00",
          "x1": "2015-11-10T00:00:00",
          "xref": "x",
          "y0": 0,
          "y1": 1,
          "yref": "y domain"
         },
         {
          "line": {
           "color": "red",
           "dash": "dot",
           "width": 0.5
          },
          "type": "line",
          "x0": "2015-11-11T00:00:00",
          "x1": "2015-11-11T00:00:00",
          "xref": "x",
          "y0": 0,
          "y1": 1,
          "yref": "y domain"
         },
         {
          "line": {
           "color": "red",
           "dash": "dot",
           "width": 0.5
          },
          "type": "line",
          "x0": "2015-11-12T00:00:00",
          "x1": "2015-11-12T00:00:00",
          "xref": "x",
          "y0": 0,
          "y1": 1,
          "yref": "y domain"
         },
         {
          "line": {
           "color": "red",
           "dash": "dot",
           "width": 0.5
          },
          "type": "line",
          "x0": "2015-11-27T00:00:00",
          "x1": "2015-11-27T00:00:00",
          "xref": "x",
          "y0": 0,
          "y1": 1,
          "yref": "y domain"
         },
         {
          "line": {
           "color": "red",
           "dash": "dot",
           "width": 0.5
          },
          "type": "line",
          "x0": "2015-11-30T00:00:00",
          "x1": "2015-11-30T00:00:00",
          "xref": "x",
          "y0": 0,
          "y1": 1,
          "yref": "y domain"
         },
         {
          "line": {
           "color": "red",
           "dash": "dot",
           "width": 0.5
          },
          "type": "line",
          "x0": "2015-12-05T00:00:00",
          "x1": "2015-12-05T00:00:00",
          "xref": "x",
          "y0": 0,
          "y1": 1,
          "yref": "y domain"
         },
         {
          "line": {
           "color": "red",
           "dash": "dot",
           "width": 0.5
          },
          "type": "line",
          "x0": "2015-12-06T00:00:00",
          "x1": "2015-12-06T00:00:00",
          "xref": "x",
          "y0": 0,
          "y1": 1,
          "yref": "y domain"
         },
         {
          "line": {
           "color": "red",
           "dash": "dot",
           "width": 0.5
          },
          "type": "line",
          "x0": "2015-12-08T00:00:00",
          "x1": "2015-12-08T00:00:00",
          "xref": "x",
          "y0": 0,
          "y1": 1,
          "yref": "y domain"
         },
         {
          "line": {
           "color": "red",
           "dash": "dot",
           "width": 0.5
          },
          "type": "line",
          "x0": "2015-12-21T00:00:00",
          "x1": "2015-12-21T00:00:00",
          "xref": "x",
          "y0": 0,
          "y1": 1,
          "yref": "y domain"
         },
         {
          "line": {
           "color": "red",
           "dash": "dot",
           "width": 0.5
          },
          "type": "line",
          "x0": "2015-12-22T00:00:00",
          "x1": "2015-12-22T00:00:00",
          "xref": "x",
          "y0": 0,
          "y1": 1,
          "yref": "y domain"
         },
         {
          "line": {
           "color": "red",
           "dash": "dot",
           "width": 0.5
          },
          "type": "line",
          "x0": "2015-12-23T00:00:00",
          "x1": "2015-12-23T00:00:00",
          "xref": "x",
          "y0": 0,
          "y1": 1,
          "yref": "y domain"
         },
         {
          "line": {
           "color": "red",
           "dash": "dot",
           "width": 0.5
          },
          "type": "line",
          "x0": "2015-12-24T00:00:00",
          "x1": "2015-12-24T00:00:00",
          "xref": "x",
          "y0": 0,
          "y1": 1,
          "yref": "y domain"
         },
         {
          "line": {
           "color": "red",
           "dash": "dot",
           "width": 0.5
          },
          "type": "line",
          "x0": "2015-12-25T00:00:00",
          "x1": "2015-12-25T00:00:00",
          "xref": "x",
          "y0": 0,
          "y1": 1,
          "yref": "y domain"
         },
         {
          "line": {
           "color": "red",
           "dash": "dot",
           "width": 0.5
          },
          "type": "line",
          "x0": "2015-12-26T00:00:00",
          "x1": "2015-12-26T00:00:00",
          "xref": "x",
          "y0": 0,
          "y1": 1,
          "yref": "y domain"
         },
         {
          "line": {
           "color": "red",
           "dash": "dot",
           "width": 0.5
          },
          "type": "line",
          "x0": "2015-12-31T00:00:00",
          "x1": "2015-12-31T00:00:00",
          "xref": "x",
          "y0": 0,
          "y1": 1,
          "yref": "y domain"
         },
         {
          "line": {
           "color": "red",
           "dash": "dot",
           "width": 0.5
          },
          "type": "line",
          "x0": "2016-01-01T00:00:00",
          "x1": "2016-01-01T00:00:00",
          "xref": "x",
          "y0": 0,
          "y1": 1,
          "yref": "y domain"
         },
         {
          "line": {
           "color": "red",
           "dash": "dot",
           "width": 0.5
          },
          "type": "line",
          "x0": "2016-02-08T00:00:00",
          "x1": "2016-02-08T00:00:00",
          "xref": "x",
          "y0": 0,
          "y1": 1,
          "yref": "y domain"
         },
         {
          "line": {
           "color": "red",
           "dash": "dot",
           "width": 0.5
          },
          "type": "line",
          "x0": "2016-02-09T00:00:00",
          "x1": "2016-02-09T00:00:00",
          "xref": "x",
          "y0": 0,
          "y1": 1,
          "yref": "y domain"
         },
         {
          "line": {
           "color": "red",
           "dash": "dot",
           "width": 0.5
          },
          "type": "line",
          "x0": "2016-03-02T00:00:00",
          "x1": "2016-03-02T00:00:00",
          "xref": "x",
          "y0": 0,
          "y1": 1,
          "yref": "y domain"
         },
         {
          "line": {
           "color": "red",
           "dash": "dot",
           "width": 0.5
          },
          "type": "line",
          "x0": "2016-03-25T00:00:00",
          "x1": "2016-03-25T00:00:00",
          "xref": "x",
          "y0": 0,
          "y1": 1,
          "yref": "y domain"
         },
         {
          "line": {
           "color": "red",
           "dash": "dot",
           "width": 0.5
          },
          "type": "line",
          "x0": "2016-04-01T00:00:00",
          "x1": "2016-04-01T00:00:00",
          "xref": "x",
          "y0": 0,
          "y1": 1,
          "yref": "y domain"
         },
         {
          "line": {
           "color": "red",
           "dash": "dot",
           "width": 0.5
          },
          "type": "line",
          "x0": "2016-04-12T00:00:00",
          "x1": "2016-04-12T00:00:00",
          "xref": "x",
          "y0": 0,
          "y1": 1,
          "yref": "y domain"
         },
         {
          "line": {
           "color": "red",
           "dash": "dot",
           "width": 0.5
          },
          "type": "line",
          "x0": "2016-04-14T00:00:00",
          "x1": "2016-04-14T00:00:00",
          "xref": "x",
          "y0": 0,
          "y1": 1,
          "yref": "y domain"
         },
         {
          "line": {
           "color": "red",
           "dash": "dot",
           "width": 0.5
          },
          "type": "line",
          "x0": "2016-04-16T00:00:00",
          "x1": "2016-04-16T00:00:00",
          "xref": "x",
          "y0": 0,
          "y1": 1,
          "yref": "y domain"
         },
         {
          "line": {
           "color": "red",
           "dash": "dot",
           "width": 0.5
          },
          "type": "line",
          "x0": "2016-04-17T00:00:00",
          "x1": "2016-04-17T00:00:00",
          "xref": "x",
          "y0": 0,
          "y1": 1,
          "yref": "y domain"
         },
         {
          "line": {
           "color": "red",
           "dash": "dot",
           "width": 0.5
          },
          "type": "line",
          "x0": "2016-04-18T00:00:00",
          "x1": "2016-04-18T00:00:00",
          "xref": "x",
          "y0": 0,
          "y1": 1,
          "yref": "y domain"
         },
         {
          "line": {
           "color": "red",
           "dash": "dot",
           "width": 0.5
          },
          "type": "line",
          "x0": "2016-04-19T00:00:00",
          "x1": "2016-04-19T00:00:00",
          "xref": "x",
          "y0": 0,
          "y1": 1,
          "yref": "y domain"
         },
         {
          "line": {
           "color": "red",
           "dash": "dot",
           "width": 0.5
          },
          "type": "line",
          "x0": "2016-04-20T00:00:00",
          "x1": "2016-04-20T00:00:00",
          "xref": "x",
          "y0": 0,
          "y1": 1,
          "yref": "y domain"
         },
         {
          "line": {
           "color": "red",
           "dash": "dot",
           "width": 0.5
          },
          "type": "line",
          "x0": "2016-04-21T00:00:00",
          "x1": "2016-04-21T00:00:00",
          "xref": "x",
          "y0": 0,
          "y1": 1,
          "yref": "y domain"
         },
         {
          "line": {
           "color": "red",
           "dash": "dot",
           "width": 0.5
          },
          "type": "line",
          "x0": "2016-04-22T00:00:00",
          "x1": "2016-04-22T00:00:00",
          "xref": "x",
          "y0": 0,
          "y1": 1,
          "yref": "y domain"
         },
         {
          "line": {
           "color": "red",
           "dash": "dot",
           "width": 0.5
          },
          "type": "line",
          "x0": "2016-04-23T00:00:00",
          "x1": "2016-04-23T00:00:00",
          "xref": "x",
          "y0": 0,
          "y1": 1,
          "yref": "y domain"
         },
         {
          "line": {
           "color": "red",
           "dash": "dot",
           "width": 0.5
          },
          "type": "line",
          "x0": "2016-04-24T00:00:00",
          "x1": "2016-04-24T00:00:00",
          "xref": "x",
          "y0": 0,
          "y1": 1,
          "yref": "y domain"
         },
         {
          "line": {
           "color": "red",
           "dash": "dot",
           "width": 0.5
          },
          "type": "line",
          "x0": "2016-04-25T00:00:00",
          "x1": "2016-04-25T00:00:00",
          "xref": "x",
          "y0": 0,
          "y1": 1,
          "yref": "y domain"
         },
         {
          "line": {
           "color": "red",
           "dash": "dot",
           "width": 0.5
          },
          "type": "line",
          "x0": "2016-04-26T00:00:00",
          "x1": "2016-04-26T00:00:00",
          "xref": "x",
          "y0": 0,
          "y1": 1,
          "yref": "y domain"
         },
         {
          "line": {
           "color": "red",
           "dash": "dot",
           "width": 0.5
          },
          "type": "line",
          "x0": "2016-04-27T00:00:00",
          "x1": "2016-04-27T00:00:00",
          "xref": "x",
          "y0": 0,
          "y1": 1,
          "yref": "y domain"
         },
         {
          "line": {
           "color": "red",
           "dash": "dot",
           "width": 0.5
          },
          "type": "line",
          "x0": "2016-04-28T00:00:00",
          "x1": "2016-04-28T00:00:00",
          "xref": "x",
          "y0": 0,
          "y1": 1,
          "yref": "y domain"
         },
         {
          "line": {
           "color": "red",
           "dash": "dot",
           "width": 0.5
          },
          "type": "line",
          "x0": "2016-04-29T00:00:00",
          "x1": "2016-04-29T00:00:00",
          "xref": "x",
          "y0": 0,
          "y1": 1,
          "yref": "y domain"
         },
         {
          "line": {
           "color": "red",
           "dash": "dot",
           "width": 0.5
          },
          "type": "line",
          "x0": "2016-04-30T00:00:00",
          "x1": "2016-04-30T00:00:00",
          "xref": "x",
          "y0": 0,
          "y1": 1,
          "yref": "y domain"
         },
         {
          "line": {
           "color": "red",
           "dash": "dot",
           "width": 0.5
          },
          "type": "line",
          "x0": "2016-05-01T00:00:00",
          "x1": "2016-05-01T00:00:00",
          "xref": "x",
          "y0": 0,
          "y1": 1,
          "yref": "y domain"
         },
         {
          "line": {
           "color": "red",
           "dash": "dot",
           "width": 0.5
          },
          "type": "line",
          "x0": "2016-05-02T00:00:00",
          "x1": "2016-05-02T00:00:00",
          "xref": "x",
          "y0": 0,
          "y1": 1,
          "yref": "y domain"
         },
         {
          "line": {
           "color": "red",
           "dash": "dot",
           "width": 0.5
          },
          "type": "line",
          "x0": "2016-05-03T00:00:00",
          "x1": "2016-05-03T00:00:00",
          "xref": "x",
          "y0": 0,
          "y1": 1,
          "yref": "y domain"
         },
         {
          "line": {
           "color": "red",
           "dash": "dot",
           "width": 0.5
          },
          "type": "line",
          "x0": "2016-05-04T00:00:00",
          "x1": "2016-05-04T00:00:00",
          "xref": "x",
          "y0": 0,
          "y1": 1,
          "yref": "y domain"
         },
         {
          "line": {
           "color": "red",
           "dash": "dot",
           "width": 0.5
          },
          "type": "line",
          "x0": "2016-05-05T00:00:00",
          "x1": "2016-05-05T00:00:00",
          "xref": "x",
          "y0": 0,
          "y1": 1,
          "yref": "y domain"
         },
         {
          "line": {
           "color": "red",
           "dash": "dot",
           "width": 0.5
          },
          "type": "line",
          "x0": "2016-05-06T00:00:00",
          "x1": "2016-05-06T00:00:00",
          "xref": "x",
          "y0": 0,
          "y1": 1,
          "yref": "y domain"
         },
         {
          "line": {
           "color": "red",
           "dash": "dot",
           "width": 0.5
          },
          "type": "line",
          "x0": "2016-05-07T00:00:00",
          "x1": "2016-05-07T00:00:00",
          "xref": "x",
          "y0": 0,
          "y1": 1,
          "yref": "y domain"
         },
         {
          "line": {
           "color": "red",
           "dash": "dot",
           "width": 0.5
          },
          "type": "line",
          "x0": "2016-05-08T00:00:00",
          "x1": "2016-05-08T00:00:00",
          "xref": "x",
          "y0": 0,
          "y1": 1,
          "yref": "y domain"
         },
         {
          "line": {
           "color": "red",
           "dash": "dot",
           "width": 0.5
          },
          "type": "line",
          "x0": "2016-05-09T00:00:00",
          "x1": "2016-05-09T00:00:00",
          "xref": "x",
          "y0": 0,
          "y1": 1,
          "yref": "y domain"
         },
         {
          "line": {
           "color": "red",
           "dash": "dot",
           "width": 0.5
          },
          "type": "line",
          "x0": "2016-05-10T00:00:00",
          "x1": "2016-05-10T00:00:00",
          "xref": "x",
          "y0": 0,
          "y1": 1,
          "yref": "y domain"
         },
         {
          "line": {
           "color": "red",
           "dash": "dot",
           "width": 0.5
          },
          "type": "line",
          "x0": "2016-05-11T00:00:00",
          "x1": "2016-05-11T00:00:00",
          "xref": "x",
          "y0": 0,
          "y1": 1,
          "yref": "y domain"
         },
         {
          "line": {
           "color": "red",
           "dash": "dot",
           "width": 0.5
          },
          "type": "line",
          "x0": "2016-05-12T00:00:00",
          "x1": "2016-05-12T00:00:00",
          "xref": "x",
          "y0": 0,
          "y1": 1,
          "yref": "y domain"
         },
         {
          "line": {
           "color": "red",
           "dash": "dot",
           "width": 0.5
          },
          "type": "line",
          "x0": "2016-05-13T00:00:00",
          "x1": "2016-05-13T00:00:00",
          "xref": "x",
          "y0": 0,
          "y1": 1,
          "yref": "y domain"
         },
         {
          "line": {
           "color": "red",
           "dash": "dot",
           "width": 0.5
          },
          "type": "line",
          "x0": "2016-05-14T00:00:00",
          "x1": "2016-05-14T00:00:00",
          "xref": "x",
          "y0": 0,
          "y1": 1,
          "yref": "y domain"
         },
         {
          "line": {
           "color": "red",
           "dash": "dot",
           "width": 0.5
          },
          "type": "line",
          "x0": "2016-05-15T00:00:00",
          "x1": "2016-05-15T00:00:00",
          "xref": "x",
          "y0": 0,
          "y1": 1,
          "yref": "y domain"
         },
         {
          "line": {
           "color": "red",
           "dash": "dot",
           "width": 0.5
          },
          "type": "line",
          "x0": "2016-05-16T00:00:00",
          "x1": "2016-05-16T00:00:00",
          "xref": "x",
          "y0": 0,
          "y1": 1,
          "yref": "y domain"
         },
         {
          "line": {
           "color": "red",
           "dash": "dot",
           "width": 0.5
          },
          "type": "line",
          "x0": "2016-05-27T00:00:00",
          "x1": "2016-05-27T00:00:00",
          "xref": "x",
          "y0": 0,
          "y1": 1,
          "yref": "y domain"
         },
         {
          "line": {
           "color": "red",
           "dash": "dot",
           "width": 0.5
          },
          "type": "line",
          "x0": "2016-06-23T00:00:00",
          "x1": "2016-06-23T00:00:00",
          "xref": "x",
          "y0": 0,
          "y1": 1,
          "yref": "y domain"
         },
         {
          "line": {
           "color": "red",
           "dash": "dot",
           "width": 0.5
          },
          "type": "line",
          "x0": "2016-06-25T00:00:00",
          "x1": "2016-06-25T00:00:00",
          "xref": "x",
          "y0": 0,
          "y1": 1,
          "yref": "y domain"
         },
         {
          "line": {
           "color": "red",
           "dash": "dot",
           "width": 0.5
          },
          "type": "line",
          "x0": "2016-07-03T00:00:00",
          "x1": "2016-07-03T00:00:00",
          "xref": "x",
          "y0": 0,
          "y1": 1,
          "yref": "y domain"
         },
         {
          "line": {
           "color": "red",
           "dash": "dot",
           "width": 0.5
          },
          "type": "line",
          "x0": "2016-07-23T00:00:00",
          "x1": "2016-07-23T00:00:00",
          "xref": "x",
          "y0": 0,
          "y1": 1,
          "yref": "y domain"
         },
         {
          "line": {
           "color": "red",
           "dash": "dot",
           "width": 0.5
          },
          "type": "line",
          "x0": "2016-07-24T00:00:00",
          "x1": "2016-07-24T00:00:00",
          "xref": "x",
          "y0": 0,
          "y1": 1,
          "yref": "y domain"
         },
         {
          "line": {
           "color": "red",
           "dash": "dot",
           "width": 0.5
          },
          "type": "line",
          "x0": "2016-08-05T00:00:00",
          "x1": "2016-08-05T00:00:00",
          "xref": "x",
          "y0": 0,
          "y1": 1,
          "yref": "y domain"
         },
         {
          "line": {
           "color": "red",
           "dash": "dot",
           "width": 0.5
          },
          "type": "line",
          "x0": "2016-08-12T00:00:00",
          "x1": "2016-08-12T00:00:00",
          "xref": "x",
          "y0": 0,
          "y1": 1,
          "yref": "y domain"
         },
         {
          "line": {
           "color": "red",
           "dash": "dot",
           "width": 0.5
          },
          "type": "line",
          "x0": "2016-08-15T00:00:00",
          "x1": "2016-08-15T00:00:00",
          "xref": "x",
          "y0": 0,
          "y1": 1,
          "yref": "y domain"
         },
         {
          "line": {
           "color": "red",
           "dash": "dot",
           "width": 0.5
          },
          "type": "line",
          "x0": "2016-08-24T00:00:00",
          "x1": "2016-08-24T00:00:00",
          "xref": "x",
          "y0": 0,
          "y1": 1,
          "yref": "y domain"
         },
         {
          "line": {
           "color": "red",
           "dash": "dot",
           "width": 0.5
          },
          "type": "line",
          "x0": "2016-09-28T00:00:00",
          "x1": "2016-09-28T00:00:00",
          "xref": "x",
          "y0": 0,
          "y1": 1,
          "yref": "y domain"
         },
         {
          "line": {
           "color": "red",
           "dash": "dot",
           "width": 0.5
          },
          "type": "line",
          "x0": "2016-10-07T00:00:00",
          "x1": "2016-10-07T00:00:00",
          "xref": "x",
          "y0": 0,
          "y1": 1,
          "yref": "y domain"
         },
         {
          "line": {
           "color": "red",
           "dash": "dot",
           "width": 0.5
          },
          "type": "line",
          "x0": "2016-10-09T00:00:00",
          "x1": "2016-10-09T00:00:00",
          "xref": "x",
          "y0": 0,
          "y1": 1,
          "yref": "y domain"
         },
         {
          "line": {
           "color": "red",
           "dash": "dot",
           "width": 0.5
          },
          "type": "line",
          "x0": "2016-11-02T00:00:00",
          "x1": "2016-11-02T00:00:00",
          "xref": "x",
          "y0": 0,
          "y1": 1,
          "yref": "y domain"
         },
         {
          "line": {
           "color": "red",
           "dash": "dot",
           "width": 0.5
          },
          "type": "line",
          "x0": "2016-11-03T00:00:00",
          "x1": "2016-11-03T00:00:00",
          "xref": "x",
          "y0": 0,
          "y1": 1,
          "yref": "y domain"
         },
         {
          "line": {
           "color": "red",
           "dash": "dot",
           "width": 0.5
          },
          "type": "line",
          "x0": "2016-11-04T00:00:00",
          "x1": "2016-11-04T00:00:00",
          "xref": "x",
          "y0": 0,
          "y1": 1,
          "yref": "y domain"
         },
         {
          "line": {
           "color": "red",
           "dash": "dot",
           "width": 0.5
          },
          "type": "line",
          "x0": "2016-11-06T00:00:00",
          "x1": "2016-11-06T00:00:00",
          "xref": "x",
          "y0": 0,
          "y1": 1,
          "yref": "y domain"
         },
         {
          "line": {
           "color": "red",
           "dash": "dot",
           "width": 0.5
          },
          "type": "line",
          "x0": "2016-11-07T00:00:00",
          "x1": "2016-11-07T00:00:00",
          "xref": "x",
          "y0": 0,
          "y1": 1,
          "yref": "y domain"
         },
         {
          "line": {
           "color": "red",
           "dash": "dot",
           "width": 0.5
          },
          "type": "line",
          "x0": "2016-11-10T00:00:00",
          "x1": "2016-11-10T00:00:00",
          "xref": "x",
          "y0": 0,
          "y1": 1,
          "yref": "y domain"
         },
         {
          "line": {
           "color": "red",
           "dash": "dot",
           "width": 0.5
          },
          "type": "line",
          "x0": "2016-11-11T00:00:00",
          "x1": "2016-11-11T00:00:00",
          "xref": "x",
          "y0": 0,
          "y1": 1,
          "yref": "y domain"
         },
         {
          "line": {
           "color": "red",
           "dash": "dot",
           "width": 0.5
          },
          "type": "line",
          "x0": "2016-11-12T00:00:00",
          "x1": "2016-11-12T00:00:00",
          "xref": "x",
          "y0": 0,
          "y1": 1,
          "yref": "y domain"
         },
         {
          "line": {
           "color": "red",
           "dash": "dot",
           "width": 0.5
          },
          "type": "line",
          "x0": "2016-11-25T00:00:00",
          "x1": "2016-11-25T00:00:00",
          "xref": "x",
          "y0": 0,
          "y1": 1,
          "yref": "y domain"
         },
         {
          "line": {
           "color": "red",
           "dash": "dot",
           "width": 0.5
          },
          "type": "line",
          "x0": "2016-11-28T00:00:00",
          "x1": "2016-11-28T00:00:00",
          "xref": "x",
          "y0": 0,
          "y1": 1,
          "yref": "y domain"
         },
         {
          "line": {
           "color": "red",
           "dash": "dot",
           "width": 0.5
          },
          "type": "line",
          "x0": "2016-12-05T00:00:00",
          "x1": "2016-12-05T00:00:00",
          "xref": "x",
          "y0": 0,
          "y1": 1,
          "yref": "y domain"
         },
         {
          "line": {
           "color": "red",
           "dash": "dot",
           "width": 0.5
          },
          "type": "line",
          "x0": "2016-12-06T00:00:00",
          "x1": "2016-12-06T00:00:00",
          "xref": "x",
          "y0": 0,
          "y1": 1,
          "yref": "y domain"
         },
         {
          "line": {
           "color": "red",
           "dash": "dot",
           "width": 0.5
          },
          "type": "line",
          "x0": "2016-12-08T00:00:00",
          "x1": "2016-12-08T00:00:00",
          "xref": "x",
          "y0": 0,
          "y1": 1,
          "yref": "y domain"
         },
         {
          "line": {
           "color": "red",
           "dash": "dot",
           "width": 0.5
          },
          "type": "line",
          "x0": "2016-12-21T00:00:00",
          "x1": "2016-12-21T00:00:00",
          "xref": "x",
          "y0": 0,
          "y1": 1,
          "yref": "y domain"
         },
         {
          "line": {
           "color": "red",
           "dash": "dot",
           "width": 0.5
          },
          "type": "line",
          "x0": "2016-12-22T00:00:00",
          "x1": "2016-12-22T00:00:00",
          "xref": "x",
          "y0": 0,
          "y1": 1,
          "yref": "y domain"
         },
         {
          "line": {
           "color": "red",
           "dash": "dot",
           "width": 0.5
          },
          "type": "line",
          "x0": "2016-12-23T00:00:00",
          "x1": "2016-12-23T00:00:00",
          "xref": "x",
          "y0": 0,
          "y1": 1,
          "yref": "y domain"
         },
         {
          "line": {
           "color": "red",
           "dash": "dot",
           "width": 0.5
          },
          "type": "line",
          "x0": "2016-12-24T00:00:00",
          "x1": "2016-12-24T00:00:00",
          "xref": "x",
          "y0": 0,
          "y1": 1,
          "yref": "y domain"
         },
         {
          "line": {
           "color": "red",
           "dash": "dot",
           "width": 0.5
          },
          "type": "line",
          "x0": "2016-12-25T00:00:00",
          "x1": "2016-12-25T00:00:00",
          "xref": "x",
          "y0": 0,
          "y1": 1,
          "yref": "y domain"
         },
         {
          "line": {
           "color": "red",
           "dash": "dot",
           "width": 0.5
          },
          "type": "line",
          "x0": "2016-12-26T00:00:00",
          "x1": "2016-12-26T00:00:00",
          "xref": "x",
          "y0": 0,
          "y1": 1,
          "yref": "y domain"
         },
         {
          "line": {
           "color": "red",
           "dash": "dot",
           "width": 0.5
          },
          "type": "line",
          "x0": "2016-12-31T00:00:00",
          "x1": "2016-12-31T00:00:00",
          "xref": "x",
          "y0": 0,
          "y1": 1,
          "yref": "y domain"
         },
         {
          "line": {
           "color": "red",
           "dash": "dot",
           "width": 0.5
          },
          "type": "line",
          "x0": "2017-01-02T00:00:00",
          "x1": "2017-01-02T00:00:00",
          "xref": "x",
          "y0": 0,
          "y1": 1,
          "yref": "y domain"
         },
         {
          "line": {
           "color": "red",
           "dash": "dot",
           "width": 0.5
          },
          "type": "line",
          "x0": "2017-02-27T00:00:00",
          "x1": "2017-02-27T00:00:00",
          "xref": "x",
          "y0": 0,
          "y1": 1,
          "yref": "y domain"
         },
         {
          "line": {
           "color": "red",
           "dash": "dot",
           "width": 0.5
          },
          "type": "line",
          "x0": "2017-02-28T00:00:00",
          "x1": "2017-02-28T00:00:00",
          "xref": "x",
          "y0": 0,
          "y1": 1,
          "yref": "y domain"
         },
         {
          "line": {
           "color": "red",
           "dash": "dot",
           "width": 0.5
          },
          "type": "line",
          "x0": "2017-03-02T00:00:00",
          "x1": "2017-03-02T00:00:00",
          "xref": "x",
          "y0": 0,
          "y1": 1,
          "yref": "y domain"
         },
         {
          "line": {
           "color": "red",
           "dash": "dot",
           "width": 0.5
          },
          "type": "line",
          "x0": "2017-04-01T00:00:00",
          "x1": "2017-04-01T00:00:00",
          "xref": "x",
          "y0": 0,
          "y1": 1,
          "yref": "y domain"
         },
         {
          "line": {
           "color": "red",
           "dash": "dot",
           "width": 0.5
          },
          "type": "line",
          "x0": "2017-04-13T00:00:00",
          "x1": "2017-04-13T00:00:00",
          "xref": "x",
          "y0": 0,
          "y1": 1,
          "yref": "y domain"
         },
         {
          "line": {
           "color": "red",
           "dash": "dot",
           "width": 0.5
          },
          "type": "line",
          "x0": "2017-04-14T00:00:00",
          "x1": "2017-04-14T00:00:00",
          "xref": "x",
          "y0": 0,
          "y1": 1,
          "yref": "y domain"
         },
         {
          "line": {
           "color": "red",
           "dash": "dot",
           "width": 0.5
          },
          "type": "line",
          "x0": "2017-04-21T00:00:00",
          "x1": "2017-04-21T00:00:00",
          "xref": "x",
          "y0": 0,
          "y1": 1,
          "yref": "y domain"
         },
         {
          "line": {
           "color": "red",
           "dash": "dot",
           "width": 0.5
          },
          "type": "line",
          "x0": "2017-05-01T00:00:00",
          "x1": "2017-05-01T00:00:00",
          "xref": "x",
          "y0": 0,
          "y1": 1,
          "yref": "y domain"
         },
         {
          "line": {
           "color": "red",
           "dash": "dot",
           "width": 0.5
          },
          "type": "line",
          "x0": "2017-05-12T00:00:00",
          "x1": "2017-05-12T00:00:00",
          "xref": "x",
          "y0": 0,
          "y1": 1,
          "yref": "y domain"
         },
         {
          "line": {
           "color": "red",
           "dash": "dot",
           "width": 0.5
          },
          "type": "line",
          "x0": "2017-05-13T00:00:00",
          "x1": "2017-05-13T00:00:00",
          "xref": "x",
          "y0": 0,
          "y1": 1,
          "yref": "y domain"
         },
         {
          "line": {
           "color": "red",
           "dash": "dot",
           "width": 0.5
          },
          "type": "line",
          "x0": "2017-05-14T00:00:00",
          "x1": "2017-05-14T00:00:00",
          "xref": "x",
          "y0": 0,
          "y1": 1,
          "yref": "y domain"
         },
         {
          "line": {
           "color": "red",
           "dash": "dot",
           "width": 0.5
          },
          "type": "line",
          "x0": "2017-05-26T00:00:00",
          "x1": "2017-05-26T00:00:00",
          "xref": "x",
          "y0": 0,
          "y1": 1,
          "yref": "y domain"
         },
         {
          "line": {
           "color": "red",
           "dash": "dot",
           "width": 0.5
          },
          "type": "line",
          "x0": "2017-06-23T00:00:00",
          "x1": "2017-06-23T00:00:00",
          "xref": "x",
          "y0": 0,
          "y1": 1,
          "yref": "y domain"
         },
         {
          "line": {
           "color": "red",
           "dash": "dot",
           "width": 0.5
          },
          "type": "line",
          "x0": "2017-06-25T00:00:00",
          "x1": "2017-06-25T00:00:00",
          "xref": "x",
          "y0": 0,
          "y1": 1,
          "yref": "y domain"
         },
         {
          "line": {
           "color": "red",
           "dash": "dot",
           "width": 0.5
          },
          "type": "line",
          "x0": "2017-07-03T00:00:00",
          "x1": "2017-07-03T00:00:00",
          "xref": "x",
          "y0": 0,
          "y1": 1,
          "yref": "y domain"
         },
         {
          "line": {
           "color": "red",
           "dash": "dot",
           "width": 0.5
          },
          "type": "line",
          "x0": "2017-07-23T00:00:00",
          "x1": "2017-07-23T00:00:00",
          "xref": "x",
          "y0": 0,
          "y1": 1,
          "yref": "y domain"
         },
         {
          "line": {
           "color": "red",
           "dash": "dot",
           "width": 0.5
          },
          "type": "line",
          "x0": "2017-07-24T00:00:00",
          "x1": "2017-07-24T00:00:00",
          "xref": "x",
          "y0": 0,
          "y1": 1,
          "yref": "y domain"
         },
         {
          "line": {
           "color": "red",
           "dash": "dot",
           "width": 0.5
          },
          "type": "line",
          "x0": "2017-07-25T00:00:00",
          "x1": "2017-07-25T00:00:00",
          "xref": "x",
          "y0": 0,
          "y1": 1,
          "yref": "y domain"
         },
         {
          "line": {
           "color": "red",
           "dash": "dot",
           "width": 0.5
          },
          "type": "line",
          "x0": "2017-08-05T00:00:00",
          "x1": "2017-08-05T00:00:00",
          "xref": "x",
          "y0": 0,
          "y1": 1,
          "yref": "y domain"
         },
         {
          "line": {
           "color": "red",
           "dash": "dot",
           "width": 0.5
          },
          "type": "line",
          "x0": "2017-08-11T00:00:00",
          "x1": "2017-08-11T00:00:00",
          "xref": "x",
          "y0": 0,
          "y1": 1,
          "yref": "y domain"
         },
         {
          "line": {
           "color": "red",
           "dash": "dot",
           "width": 0.5
          },
          "type": "line",
          "x0": "2017-08-15T00:00:00",
          "x1": "2017-08-15T00:00:00",
          "xref": "x",
          "y0": 0,
          "y1": 1,
          "yref": "y domain"
         },
         {
          "line": {
           "color": "red",
           "dash": "dot",
           "width": 0.5
          },
          "type": "line",
          "x0": "2017-08-24T00:00:00",
          "x1": "2017-08-24T00:00:00",
          "xref": "x",
          "y0": 0,
          "y1": 1,
          "yref": "y domain"
         },
         {
          "line": {
           "color": "red",
           "dash": "dot",
           "width": 0.5
          },
          "type": "line",
          "x0": "2017-09-29T00:00:00",
          "x1": "2017-09-29T00:00:00",
          "xref": "x",
          "y0": 0,
          "y1": 1,
          "yref": "y domain"
         },
         {
          "line": {
           "color": "red",
           "dash": "dot",
           "width": 0.5
          },
          "type": "line",
          "x0": "2017-10-07T00:00:00",
          "x1": "2017-10-07T00:00:00",
          "xref": "x",
          "y0": 0,
          "y1": 1,
          "yref": "y domain"
         },
         {
          "line": {
           "color": "red",
           "dash": "dot",
           "width": 0.5
          },
          "type": "line",
          "x0": "2017-10-09T00:00:00",
          "x1": "2017-10-09T00:00:00",
          "xref": "x",
          "y0": 0,
          "y1": 1,
          "yref": "y domain"
         },
         {
          "line": {
           "color": "red",
           "dash": "dot",
           "width": 0.5
          },
          "type": "line",
          "x0": "2017-11-02T00:00:00",
          "x1": "2017-11-02T00:00:00",
          "xref": "x",
          "y0": 0,
          "y1": 1,
          "yref": "y domain"
         },
         {
          "line": {
           "color": "red",
           "dash": "dot",
           "width": 0.5
          },
          "type": "line",
          "x0": "2017-11-03T00:00:00",
          "x1": "2017-11-03T00:00:00",
          "xref": "x",
          "y0": 0,
          "y1": 1,
          "yref": "y domain"
         },
         {
          "line": {
           "color": "red",
           "dash": "dot",
           "width": 0.5
          },
          "type": "line",
          "x0": "2017-11-06T00:00:00",
          "x1": "2017-11-06T00:00:00",
          "xref": "x",
          "y0": 0,
          "y1": 1,
          "yref": "y domain"
         },
         {
          "line": {
           "color": "red",
           "dash": "dot",
           "width": 0.5
          },
          "type": "line",
          "x0": "2017-11-07T00:00:00",
          "x1": "2017-11-07T00:00:00",
          "xref": "x",
          "y0": 0,
          "y1": 1,
          "yref": "y domain"
         },
         {
          "line": {
           "color": "red",
           "dash": "dot",
           "width": 0.5
          },
          "type": "line",
          "x0": "2017-11-10T00:00:00",
          "x1": "2017-11-10T00:00:00",
          "xref": "x",
          "y0": 0,
          "y1": 1,
          "yref": "y domain"
         },
         {
          "line": {
           "color": "red",
           "dash": "dot",
           "width": 0.5
          },
          "type": "line",
          "x0": "2017-11-11T00:00:00",
          "x1": "2017-11-11T00:00:00",
          "xref": "x",
          "y0": 0,
          "y1": 1,
          "yref": "y domain"
         },
         {
          "line": {
           "color": "red",
           "dash": "dot",
           "width": 0.5
          },
          "type": "line",
          "x0": "2017-11-12T00:00:00",
          "x1": "2017-11-12T00:00:00",
          "xref": "x",
          "y0": 0,
          "y1": 1,
          "yref": "y domain"
         },
         {
          "line": {
           "color": "red",
           "dash": "dot",
           "width": 0.5
          },
          "type": "line",
          "x0": "2017-12-05T00:00:00",
          "x1": "2017-12-05T00:00:00",
          "xref": "x",
          "y0": 0,
          "y1": 1,
          "yref": "y domain"
         },
         {
          "line": {
           "color": "red",
           "dash": "dot",
           "width": 0.5
          },
          "type": "line",
          "x0": "2017-12-08T00:00:00",
          "x1": "2017-12-08T00:00:00",
          "xref": "x",
          "y0": 0,
          "y1": 1,
          "yref": "y domain"
         },
         {
          "line": {
           "color": "red",
           "dash": "dot",
           "width": 0.5
          },
          "type": "line",
          "x0": "2017-12-21T00:00:00",
          "x1": "2017-12-21T00:00:00",
          "xref": "x",
          "y0": 0,
          "y1": 1,
          "yref": "y domain"
         },
         {
          "line": {
           "color": "red",
           "dash": "dot",
           "width": 0.5
          },
          "type": "line",
          "x0": "2017-12-22T00:00:00",
          "x1": "2017-12-22T00:00:00",
          "xref": "x",
          "y0": 0,
          "y1": 1,
          "yref": "y domain"
         },
         {
          "line": {
           "color": "red",
           "dash": "dot",
           "width": 0.5
          },
          "type": "line",
          "x0": "2017-12-23T00:00:00",
          "x1": "2017-12-23T00:00:00",
          "xref": "x",
          "y0": 0,
          "y1": 1,
          "yref": "y domain"
         },
         {
          "line": {
           "color": "red",
           "dash": "dot",
           "width": 0.5
          },
          "type": "line",
          "x0": "2017-12-24T00:00:00",
          "x1": "2017-12-24T00:00:00",
          "xref": "x",
          "y0": 0,
          "y1": 1,
          "yref": "y domain"
         },
         {
          "line": {
           "color": "red",
           "dash": "dot",
           "width": 0.5
          },
          "type": "line",
          "x0": "2017-12-25T00:00:00",
          "x1": "2017-12-25T00:00:00",
          "xref": "x",
          "y0": 0,
          "y1": 1,
          "yref": "y domain"
         },
         {
          "line": {
           "color": "red",
           "dash": "dot",
           "width": 0.5
          },
          "type": "line",
          "x0": "2017-12-26T00:00:00",
          "x1": "2017-12-26T00:00:00",
          "xref": "x",
          "y0": 0,
          "y1": 1,
          "yref": "y domain"
         }
        ],
        "template": {
         "data": {
          "bar": [
           {
            "error_x": {
             "color": "#2a3f5f"
            },
            "error_y": {
             "color": "#2a3f5f"
            },
            "marker": {
             "line": {
              "color": "#E5ECF6",
              "width": 0.5
             },
             "pattern": {
              "fillmode": "overlay",
              "size": 10,
              "solidity": 0.2
             }
            },
            "type": "bar"
           }
          ],
          "barpolar": [
           {
            "marker": {
             "line": {
              "color": "#E5ECF6",
              "width": 0.5
             },
             "pattern": {
              "fillmode": "overlay",
              "size": 10,
              "solidity": 0.2
             }
            },
            "type": "barpolar"
           }
          ],
          "carpet": [
           {
            "aaxis": {
             "endlinecolor": "#2a3f5f",
             "gridcolor": "white",
             "linecolor": "white",
             "minorgridcolor": "white",
             "startlinecolor": "#2a3f5f"
            },
            "baxis": {
             "endlinecolor": "#2a3f5f",
             "gridcolor": "white",
             "linecolor": "white",
             "minorgridcolor": "white",
             "startlinecolor": "#2a3f5f"
            },
            "type": "carpet"
           }
          ],
          "choropleth": [
           {
            "colorbar": {
             "outlinewidth": 0,
             "ticks": ""
            },
            "type": "choropleth"
           }
          ],
          "contour": [
           {
            "colorbar": {
             "outlinewidth": 0,
             "ticks": ""
            },
            "colorscale": [
             [
              0,
              "#0d0887"
             ],
             [
              0.1111111111111111,
              "#46039f"
             ],
             [
              0.2222222222222222,
              "#7201a8"
             ],
             [
              0.3333333333333333,
              "#9c179e"
             ],
             [
              0.4444444444444444,
              "#bd3786"
             ],
             [
              0.5555555555555556,
              "#d8576b"
             ],
             [
              0.6666666666666666,
              "#ed7953"
             ],
             [
              0.7777777777777778,
              "#fb9f3a"
             ],
             [
              0.8888888888888888,
              "#fdca26"
             ],
             [
              1,
              "#f0f921"
             ]
            ],
            "type": "contour"
           }
          ],
          "contourcarpet": [
           {
            "colorbar": {
             "outlinewidth": 0,
             "ticks": ""
            },
            "type": "contourcarpet"
           }
          ],
          "heatmap": [
           {
            "colorbar": {
             "outlinewidth": 0,
             "ticks": ""
            },
            "colorscale": [
             [
              0,
              "#0d0887"
             ],
             [
              0.1111111111111111,
              "#46039f"
             ],
             [
              0.2222222222222222,
              "#7201a8"
             ],
             [
              0.3333333333333333,
              "#9c179e"
             ],
             [
              0.4444444444444444,
              "#bd3786"
             ],
             [
              0.5555555555555556,
              "#d8576b"
             ],
             [
              0.6666666666666666,
              "#ed7953"
             ],
             [
              0.7777777777777778,
              "#fb9f3a"
             ],
             [
              0.8888888888888888,
              "#fdca26"
             ],
             [
              1,
              "#f0f921"
             ]
            ],
            "type": "heatmap"
           }
          ],
          "histogram": [
           {
            "marker": {
             "pattern": {
              "fillmode": "overlay",
              "size": 10,
              "solidity": 0.2
             }
            },
            "type": "histogram"
           }
          ],
          "histogram2d": [
           {
            "colorbar": {
             "outlinewidth": 0,
             "ticks": ""
            },
            "colorscale": [
             [
              0,
              "#0d0887"
             ],
             [
              0.1111111111111111,
              "#46039f"
             ],
             [
              0.2222222222222222,
              "#7201a8"
             ],
             [
              0.3333333333333333,
              "#9c179e"
             ],
             [
              0.4444444444444444,
              "#bd3786"
             ],
             [
              0.5555555555555556,
              "#d8576b"
             ],
             [
              0.6666666666666666,
              "#ed7953"
             ],
             [
              0.7777777777777778,
              "#fb9f3a"
             ],
             [
              0.8888888888888888,
              "#fdca26"
             ],
             [
              1,
              "#f0f921"
             ]
            ],
            "type": "histogram2d"
           }
          ],
          "histogram2dcontour": [
           {
            "colorbar": {
             "outlinewidth": 0,
             "ticks": ""
            },
            "colorscale": [
             [
              0,
              "#0d0887"
             ],
             [
              0.1111111111111111,
              "#46039f"
             ],
             [
              0.2222222222222222,
              "#7201a8"
             ],
             [
              0.3333333333333333,
              "#9c179e"
             ],
             [
              0.4444444444444444,
              "#bd3786"
             ],
             [
              0.5555555555555556,
              "#d8576b"
             ],
             [
              0.6666666666666666,
              "#ed7953"
             ],
             [
              0.7777777777777778,
              "#fb9f3a"
             ],
             [
              0.8888888888888888,
              "#fdca26"
             ],
             [
              1,
              "#f0f921"
             ]
            ],
            "type": "histogram2dcontour"
           }
          ],
          "mesh3d": [
           {
            "colorbar": {
             "outlinewidth": 0,
             "ticks": ""
            },
            "type": "mesh3d"
           }
          ],
          "parcoords": [
           {
            "line": {
             "colorbar": {
              "outlinewidth": 0,
              "ticks": ""
             }
            },
            "type": "parcoords"
           }
          ],
          "pie": [
           {
            "automargin": true,
            "type": "pie"
           }
          ],
          "scatter": [
           {
            "fillpattern": {
             "fillmode": "overlay",
             "size": 10,
             "solidity": 0.2
            },
            "type": "scatter"
           }
          ],
          "scatter3d": [
           {
            "line": {
             "colorbar": {
              "outlinewidth": 0,
              "ticks": ""
             }
            },
            "marker": {
             "colorbar": {
              "outlinewidth": 0,
              "ticks": ""
             }
            },
            "type": "scatter3d"
           }
          ],
          "scattercarpet": [
           {
            "marker": {
             "colorbar": {
              "outlinewidth": 0,
              "ticks": ""
             }
            },
            "type": "scattercarpet"
           }
          ],
          "scattergeo": [
           {
            "marker": {
             "colorbar": {
              "outlinewidth": 0,
              "ticks": ""
             }
            },
            "type": "scattergeo"
           }
          ],
          "scattergl": [
           {
            "marker": {
             "colorbar": {
              "outlinewidth": 0,
              "ticks": ""
             }
            },
            "type": "scattergl"
           }
          ],
          "scattermap": [
           {
            "marker": {
             "colorbar": {
              "outlinewidth": 0,
              "ticks": ""
             }
            },
            "type": "scattermap"
           }
          ],
          "scattermapbox": [
           {
            "marker": {
             "colorbar": {
              "outlinewidth": 0,
              "ticks": ""
             }
            },
            "type": "scattermapbox"
           }
          ],
          "scatterpolar": [
           {
            "marker": {
             "colorbar": {
              "outlinewidth": 0,
              "ticks": ""
             }
            },
            "type": "scatterpolar"
           }
          ],
          "scatterpolargl": [
           {
            "marker": {
             "colorbar": {
              "outlinewidth": 0,
              "ticks": ""
             }
            },
            "type": "scatterpolargl"
           }
          ],
          "scatterternary": [
           {
            "marker": {
             "colorbar": {
              "outlinewidth": 0,
              "ticks": ""
             }
            },
            "type": "scatterternary"
           }
          ],
          "surface": [
           {
            "colorbar": {
             "outlinewidth": 0,
             "ticks": ""
            },
            "colorscale": [
             [
              0,
              "#0d0887"
             ],
             [
              0.1111111111111111,
              "#46039f"
             ],
             [
              0.2222222222222222,
              "#7201a8"
             ],
             [
              0.3333333333333333,
              "#9c179e"
             ],
             [
              0.4444444444444444,
              "#bd3786"
             ],
             [
              0.5555555555555556,
              "#d8576b"
             ],
             [
              0.6666666666666666,
              "#ed7953"
             ],
             [
              0.7777777777777778,
              "#fb9f3a"
             ],
             [
              0.8888888888888888,
              "#fdca26"
             ],
             [
              1,
              "#f0f921"
             ]
            ],
            "type": "surface"
           }
          ],
          "table": [
           {
            "cells": {
             "fill": {
              "color": "#EBF0F8"
             },
             "line": {
              "color": "white"
             }
            },
            "header": {
             "fill": {
              "color": "#C8D4E3"
             },
             "line": {
              "color": "white"
             }
            },
            "type": "table"
           }
          ]
         },
         "layout": {
          "annotationdefaults": {
           "arrowcolor": "#2a3f5f",
           "arrowhead": 0,
           "arrowwidth": 1
          },
          "autotypenumbers": "strict",
          "coloraxis": {
           "colorbar": {
            "outlinewidth": 0,
            "ticks": ""
           }
          },
          "colorscale": {
           "diverging": [
            [
             0,
             "#8e0152"
            ],
            [
             0.1,
             "#c51b7d"
            ],
            [
             0.2,
             "#de77ae"
            ],
            [
             0.3,
             "#f1b6da"
            ],
            [
             0.4,
             "#fde0ef"
            ],
            [
             0.5,
             "#f7f7f7"
            ],
            [
             0.6,
             "#e6f5d0"
            ],
            [
             0.7,
             "#b8e186"
            ],
            [
             0.8,
             "#7fbc41"
            ],
            [
             0.9,
             "#4d9221"
            ],
            [
             1,
             "#276419"
            ]
           ],
           "sequential": [
            [
             0,
             "#0d0887"
            ],
            [
             0.1111111111111111,
             "#46039f"
            ],
            [
             0.2222222222222222,
             "#7201a8"
            ],
            [
             0.3333333333333333,
             "#9c179e"
            ],
            [
             0.4444444444444444,
             "#bd3786"
            ],
            [
             0.5555555555555556,
             "#d8576b"
            ],
            [
             0.6666666666666666,
             "#ed7953"
            ],
            [
             0.7777777777777778,
             "#fb9f3a"
            ],
            [
             0.8888888888888888,
             "#fdca26"
            ],
            [
             1,
             "#f0f921"
            ]
           ],
           "sequentialminus": [
            [
             0,
             "#0d0887"
            ],
            [
             0.1111111111111111,
             "#46039f"
            ],
            [
             0.2222222222222222,
             "#7201a8"
            ],
            [
             0.3333333333333333,
             "#9c179e"
            ],
            [
             0.4444444444444444,
             "#bd3786"
            ],
            [
             0.5555555555555556,
             "#d8576b"
            ],
            [
             0.6666666666666666,
             "#ed7953"
            ],
            [
             0.7777777777777778,
             "#fb9f3a"
            ],
            [
             0.8888888888888888,
             "#fdca26"
            ],
            [
             1,
             "#f0f921"
            ]
           ]
          },
          "colorway": [
           "#636efa",
           "#EF553B",
           "#00cc96",
           "#ab63fa",
           "#FFA15A",
           "#19d3f3",
           "#FF6692",
           "#B6E880",
           "#FF97FF",
           "#FECB52"
          ],
          "font": {
           "color": "#2a3f5f"
          },
          "geo": {
           "bgcolor": "white",
           "lakecolor": "white",
           "landcolor": "#E5ECF6",
           "showlakes": true,
           "showland": true,
           "subunitcolor": "white"
          },
          "hoverlabel": {
           "align": "left"
          },
          "hovermode": "closest",
          "mapbox": {
           "style": "light"
          },
          "paper_bgcolor": "white",
          "plot_bgcolor": "#E5ECF6",
          "polar": {
           "angularaxis": {
            "gridcolor": "white",
            "linecolor": "white",
            "ticks": ""
           },
           "bgcolor": "#E5ECF6",
           "radialaxis": {
            "gridcolor": "white",
            "linecolor": "white",
            "ticks": ""
           }
          },
          "scene": {
           "xaxis": {
            "backgroundcolor": "#E5ECF6",
            "gridcolor": "white",
            "gridwidth": 2,
            "linecolor": "white",
            "showbackground": true,
            "ticks": "",
            "zerolinecolor": "white"
           },
           "yaxis": {
            "backgroundcolor": "#E5ECF6",
            "gridcolor": "white",
            "gridwidth": 2,
            "linecolor": "white",
            "showbackground": true,
            "ticks": "",
            "zerolinecolor": "white"
           },
           "zaxis": {
            "backgroundcolor": "#E5ECF6",
            "gridcolor": "white",
            "gridwidth": 2,
            "linecolor": "white",
            "showbackground": true,
            "ticks": "",
            "zerolinecolor": "white"
           }
          },
          "shapedefaults": {
           "line": {
            "color": "#2a3f5f"
           }
          },
          "ternary": {
           "aaxis": {
            "gridcolor": "white",
            "linecolor": "white",
            "ticks": ""
           },
           "baxis": {
            "gridcolor": "white",
            "linecolor": "white",
            "ticks": ""
           },
           "bgcolor": "#E5ECF6",
           "caxis": {
            "gridcolor": "white",
            "linecolor": "white",
            "ticks": ""
           }
          },
          "title": {
           "x": 0.05
          },
          "xaxis": {
           "automargin": true,
           "gridcolor": "white",
           "linecolor": "white",
           "ticks": "",
           "title": {
            "standoff": 15
           },
           "zerolinecolor": "white",
           "zerolinewidth": 2
          },
          "yaxis": {
           "automargin": true,
           "gridcolor": "white",
           "linecolor": "white",
           "ticks": "",
           "title": {
            "standoff": 15
           },
           "zerolinecolor": "white",
           "zerolinewidth": 2
          }
         }
        },
        "title": {
         "text": "Total Daily Sales with Holiday Annotations"
        },
        "xaxis": {
         "anchor": "y",
         "domain": [
          0,
          1
         ],
         "title": {
          "text": "date"
         }
        },
        "yaxis": {
         "anchor": "x",
         "domain": [
          0,
          1
         ],
         "title": {
          "text": "unit_sales"
         }
        }
       }
      }
     },
     "metadata": {},
     "output_type": "display_data"
    }
   ],
   "source": [
    "# === Time Trends with Holiday Overlay ===\n",
    "holiday_dates = holidays.loc[holidays['transferred'] == False, 'date'].unique()\n",
    "\n",
    "fig = px.line(daily_sales, x=\"date\", y=\"unit_sales\", title=\"Total Daily Sales with Holiday Annotations\")\n",
    "for d in holiday_dates:\n",
    "    fig.add_vline(x=d, line_width=0.5, line_dash=\"dot\", line_color=\"red\")\n",
    "fig.show()\n"
   ]
  },
  {
   "cell_type": "markdown",
   "id": "773efdab",
   "metadata": {},
   "source": [
    "**Insights:**\n",
    "- 7-day average highlights weekly seasonality;  \n",
    "- 30-day average shows broader seasonal shifts.  \n",
    "- Many holiday dates align with visible sales spikes or drops.  \n"
   ]
  },
  {
   "cell_type": "code",
   "execution_count": 13,
   "id": "accdbe8f",
   "metadata": {},
   "outputs": [
    {
     "data": {
      "image/png": "[encoded data removed]",
      "text/plain": [
       "<Figure size 1200x500 with 1 Axes>"
      ]
     },
     "metadata": {},
     "output_type": "display_data"
    }
   ],
   "source": [
    "# Sales by Store\n",
    "store_sales = train.groupby(\"store_nbr\")[\"unit_sales\"].sum().sort_values(ascending=False)\n",
    "store_sales.plot(kind=\"bar\", figsize=(12,5), title=\"Total Sales by Store\")\n",
    "plt.ylabel(\"Unit Sales\")\n",
    "plt.show()"
   ]
  },
  {
   "cell_type": "markdown",
   "id": "71fb4207",
   "metadata": {},
   "source": [
    "**Insights:**\n",
    "\n",
    "- Sales are concentrated in a few stores (e.g., Store 44, 45, 47).\n",
    "\n",
    "- The majority of stores contribute much less.\n",
    "\n",
    "- Store-level metadata (cluster, city, state, type) will be crucial for capturing these differences"
   ]
  },
  {
   "cell_type": "code",
   "execution_count": 14,
   "id": "7c2d2edb",
   "metadata": {},
   "outputs": [
    {
     "name": "stdout",
     "output_type": "stream",
     "text": [
      "Average sales by perishability:\n",
      " perishable\n",
      "0.0     8.372483\n",
      "1.0    10.131046\n",
      "Name: unit_sales, dtype: float64\n"
     ]
    },
    {
     "data": {
      "image/png": "[encoded data removed]",
      "text/plain": [
       "<Figure size 800x500 with 1 Axes>"
      ]
     },
     "metadata": {},
     "output_type": "display_data"
    }
   ],
   "source": [
    "# Item & Family-Level Insights\n",
    "train_items = train.merge(items, on=\"item_nbr\", how=\"left\")\n",
    "\n",
    "# Perishable vs non-perishable\n",
    "perish = train_items.groupby(\"perishable\")[\"unit_sales\"].mean()\n",
    "print(\"Average sales by perishability:\\n\", perish)\n",
    "\n",
    "# Top families\n",
    "family_sales = train_items.groupby(\"family\")[\"unit_sales\"].sum().nlargest(10)\n",
    "family_sales.plot(kind=\"barh\", figsize=(8,5), title=\"Top 10 Families by Total Sales\")\n",
    "plt.show()"
   ]
  },
  {
   "cell_type": "markdown",
   "id": "cfc746f2",
   "metadata": {},
   "source": [
    "**Item & Family-Level Insights:**\n",
    "\n",
    "*Perishability Effect:*\n",
    "\n",
    "- Perishable items have a slightly higher average sales per record (≈10 units) compared to non-perishables (≈8 units).\n",
    "\n",
    "- This suggests that perishable items drive more frequent purchases, likely due to shorter shelf life and regular replenishment needs.\n",
    "\n",
    "*Top Families:*\n",
    "\n",
    "- Sales are dominated by the Grocery I category, which far exceeds all others in total unit sales.\n",
    "\n",
    "- Beverages and Cleaning are the next largest families, while Produce, Dairy, and Bread/Bakery also contribute notably.\n",
    "\n",
    "- Niche categories like Deli, Meats, and Personal Care have much smaller shares.\n",
    "\n",
    "*Implication:* Product family and perishability are key factors that explain sales variation, and should be included as categorical features in modeling."
   ]
  },
  {
   "cell_type": "code",
   "execution_count": 16,
   "id": "ade8a25a",
   "metadata": {},
   "outputs": [
    {
     "name": "stdout",
     "output_type": "stream",
     "text": [
      "Correlation with oil price: -0.00746892307950342\n"
     ]
    },
    {
     "data": {
      "application/vnd.plotly.v1+json": {
       "config": {
        "plotlyServerURL": "https://plot.ly"
       },
       "data": [
        {
         "hovertemplate": "Oil Price (WTI)=%{x}<br>Total Sales=%{y}<extra></extra>",
         "legendgroup": "",
         "marker": {
          "color": "#636efa",
          "symbol": "circle"
         },
         "mode": "markers",
         "name": "",
         "orientation": "v",
         "showlegend": false,
         "type": "scatter",
         "x": {
          "bdata": "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",
          "dtype": "f8"
         },
         "xaxis": "x",
         "y": {
          "bdata": "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",
          "dtype": "f8"
         },
         "yaxis": "y"
        }
       ],
       "layout": {
        "legend": {
         "tracegroupgap": 0
        },
        "template": {
         "data": {
          "bar": [
           {
            "error_x": {
             "color": "#2a3f5f"
            },
            "error_y": {
             "color": "#2a3f5f"
            },
            "marker": {
             "line": {
              "color": "#E5ECF6",
              "width": 0.5
             },
             "pattern": {
              "fillmode": "overlay",
              "size": 10,
              "solidity": 0.2
             }
            },
            "type": "bar"
           }
          ],
          "barpolar": [
           {
            "marker": {
             "line": {
              "color": "#E5ECF6",
              "width": 0.5
             },
             "pattern": {
              "fillmode": "overlay",
              "size": 10,
              "solidity": 0.2
             }
            },
            "type": "barpolar"
           }
          ],
          "carpet": [
           {
            "aaxis": {
             "endlinecolor": "#2a3f5f",
             "gridcolor": "white",
             "linecolor": "white",
             "minorgridcolor": "white",
             "startlinecolor": "#2a3f5f"
            },
            "baxis": {
             "endlinecolor": "#2a3f5f",
             "gridcolor": "white",
             "linecolor": "white",
             "minorgridcolor": "white",
             "startlinecolor": "#2a3f5f"
            },
            "type": "carpet"
           }
          ],
          "choropleth": [
           {
            "colorbar": {
             "outlinewidth": 0,
             "ticks": ""
            },
            "type": "choropleth"
           }
          ],
          "contour": [
           {
            "colorbar": {
             "outlinewidth": 0,
             "ticks": ""
            },
            "colorscale": [
             [
              0,
              "#0d0887"
             ],
             [
              0.1111111111111111,
              "#46039f"
             ],
             [
              0.2222222222222222,
              "#7201a8"
             ],
             [
              0.3333333333333333,
              "#9c179e"
             ],
             [
              0.4444444444444444,
              "#bd3786"
             ],
             [
              0.5555555555555556,
              "#d8576b"
             ],
             [
              0.6666666666666666,
              "#ed7953"
             ],
             [
              0.7777777777777778,
              "#fb9f3a"
             ],
             [
              0.8888888888888888,
              "#fdca26"
             ],
             [
              1,
              "#f0f921"
             ]
            ],
            "type": "contour"
           }
          ],
          "contourcarpet": [
           {
            "colorbar": {
             "outlinewidth": 0,
             "ticks": ""
            },
            "type": "contourcarpet"
           }
          ],
          "heatmap": [
           {
            "colorbar": {
             "outlinewidth": 0,
             "ticks": ""
            },
            "colorscale": [
             [
              0,
              "#0d0887"
             ],
             [
              0.1111111111111111,
              "#46039f"
             ],
             [
              0.2222222222222222,
              "#7201a8"
             ],
             [
              0.3333333333333333,
              "#9c179e"
             ],
             [
              0.4444444444444444,
              "#bd3786"
             ],
             [
              0.5555555555555556,
              "#d8576b"
             ],
             [
              0.6666666666666666,
              "#ed7953"
             ],
             [
              0.7777777777777778,
              "#fb9f3a"
             ],
             [
              0.8888888888888888,
              "#fdca26"
             ],
             [
              1,
              "#f0f921"
             ]
            ],
            "type": "heatmap"
           }
          ],
          "histogram": [
           {
            "marker": {
             "pattern": {
              "fillmode": "overlay",
              "size": 10,
              "solidity": 0.2
             }
            },
            "type": "histogram"
           }
          ],
          "histogram2d": [
           {
            "colorbar": {
             "outlinewidth": 0,
             "ticks": ""
            },
            "colorscale": [
             [
              0,
              "#0d0887"
             ],
             [
              0.1111111111111111,
              "#46039f"
             ],
             [
              0.2222222222222222,
              "#7201a8"
             ],
             [
              0.3333333333333333,
              "#9c179e"
             ],
             [
              0.4444444444444444,
              "#bd3786"
             ],
             [
              0.5555555555555556,
              "#d8576b"
             ],
             [
              0.6666666666666666,
              "#ed7953"
             ],
             [
              0.7777777777777778,
              "#fb9f3a"
             ],
             [
              0.8888888888888888,
              "#fdca26"
             ],
             [
              1,
              "#f0f921"
             ]
            ],
            "type": "histogram2d"
           }
          ],
          "histogram2dcontour": [
           {
            "colorbar": {
             "outlinewidth": 0,
             "ticks": ""
            },
            "colorscale": [
             [
              0,
              "#0d0887"
             ],
             [
              0.1111111111111111,
              "#46039f"
             ],
             [
              0.2222222222222222,
              "#7201a8"
             ],
             [
              0.3333333333333333,
              "#9c179e"
             ],
             [
              0.4444444444444444,
              "#bd3786"
             ],
             [
              0.5555555555555556,
              "#d8576b"
             ],
             [
              0.6666666666666666,
              "#ed7953"
             ],
             [
              0.7777777777777778,
              "#fb9f3a"
             ],
             [
              0.8888888888888888,
              "#fdca26"
             ],
             [
              1,
              "#f0f921"
             ]
            ],
            "type": "histogram2dcontour"
           }
          ],
          "mesh3d": [
           {
            "colorbar": {
             "outlinewidth": 0,
             "ticks": ""
            },
            "type": "mesh3d"
           }
          ],
          "parcoords": [
           {
            "line": {
             "colorbar": {
              "outlinewidth": 0,
              "ticks": ""
             }
            },
            "type": "parcoords"
           }
          ],
          "pie": [
           {
            "automargin": true,
            "type": "pie"
           }
          ],
          "scatter": [
           {
            "fillpattern": {
             "fillmode": "overlay",
             "size": 10,
             "solidity": 0.2
            },
            "type": "scatter"
           }
          ],
          "scatter3d": [
           {
            "line": {
             "colorbar": {
              "outlinewidth": 0,
              "ticks": ""
             }
            },
            "marker": {
             "colorbar": {
              "outlinewidth": 0,
              "ticks": ""
             }
            },
            "type": "scatter3d"
           }
          ],
          "scattercarpet": [
           {
            "marker": {
             "colorbar": {
              "outlinewidth": 0,
              "ticks": ""
             }
            },
            "type": "scattercarpet"
           }
          ],
          "scattergeo": [
           {
            "marker": {
             "colorbar": {
              "outlinewidth": 0,
              "ticks": ""
             }
            },
            "type": "scattergeo"
           }
          ],
          "scattergl": [
           {
            "marker": {
             "colorbar": {
              "outlinewidth": 0,
              "ticks": ""
             }
            },
            "type": "scattergl"
           }
          ],
          "scattermap": [
           {
            "marker": {
             "colorbar": {
              "outlinewidth": 0,
              "ticks": ""
             }
            },
            "type": "scattermap"
           }
          ],
          "scattermapbox": [
           {
            "marker": {
             "colorbar": {
              "outlinewidth": 0,
              "ticks": ""
             }
            },
            "type": "scattermapbox"
           }
          ],
          "scatterpolar": [
           {
            "marker": {
             "colorbar": {
              "outlinewidth": 0,
              "ticks": ""
             }
            },
            "type": "scatterpolar"
           }
          ],
          "scatterpolargl": [
           {
            "marker": {
             "colorbar": {
              "outlinewidth": 0,
              "ticks": ""
             }
            },
            "type": "scatterpolargl"
           }
          ],
          "scatterternary": [
           {
            "marker": {
             "colorbar": {
              "outlinewidth": 0,
              "ticks": ""
             }
            },
            "type": "scatterternary"
           }
          ],
          "surface": [
           {
            "colorbar": {
             "outlinewidth": 0,
             "ticks": ""
            },
            "colorscale": [
             [
              0,
              "#0d0887"
             ],
             [
              0.1111111111111111,
              "#46039f"
             ],
             [
              0.2222222222222222,
              "#7201a8"
             ],
             [
              0.3333333333333333,
              "#9c179e"
             ],
             [
              0.4444444444444444,
              "#bd3786"
             ],
             [
              0.5555555555555556,
              "#d8576b"
             ],
             [
              0.6666666666666666,
              "#ed7953"
             ],
             [
              0.7777777777777778,
              "#fb9f3a"
             ],
             [
              0.8888888888888888,
              "#fdca26"
             ],
             [
              1,
              "#f0f921"
             ]
            ],
            "type": "surface"
           }
          ],
          "table": [
           {
            "cells": {
             "fill": {
              "color": "#EBF0F8"
             },
             "line": {
              "color": "white"
             }
            },
            "header": {
             "fill": {
              "color": "#C8D4E3"
             },
             "line": {
              "color": "white"
             }
            },
            "type": "table"
           }
          ]
         },
         "layout": {
          "annotationdefaults": {
           "arrowcolor": "#2a3f5f",
           "arrowhead": 0,
           "arrowwidth": 1
          },
          "autotypenumbers": "strict",
          "coloraxis": {
           "colorbar": {
            "outlinewidth": 0,
            "ticks": ""
           }
          },
          "colorscale": {
           "diverging": [
            [
             0,
             "#8e0152"
            ],
            [
             0.1,
             "#c51b7d"
            ],
            [
             0.2,
             "#de77ae"
            ],
            [
             0.3,
             "#f1b6da"
            ],
            [
             0.4,
             "#fde0ef"
            ],
            [
             0.5,
             "#f7f7f7"
            ],
            [
             0.6,
             "#e6f5d0"
            ],
            [
             0.7,
             "#b8e186"
            ],
            [
             0.8,
             "#7fbc41"
            ],
            [
             0.9,
             "#4d9221"
            ],
            [
             1,
             "#276419"
            ]
           ],
           "sequential": [
            [
             0,
             "#0d0887"
            ],
            [
             0.1111111111111111,
             "#46039f"
            ],
            [
             0.2222222222222222,
             "#7201a8"
            ],
            [
             0.3333333333333333,
             "#9c179e"
            ],
            [
             0.4444444444444444,
             "#bd3786"
            ],
            [
             0.5555555555555556,
             "#d8576b"
            ],
            [
             0.6666666666666666,
             "#ed7953"
            ],
            [
             0.7777777777777778,
             "#fb9f3a"
            ],
            [
             0.8888888888888888,
             "#fdca26"
            ],
            [
             1,
             "#f0f921"
            ]
           ],
           "sequentialminus": [
            [
             0,
             "#0d0887"
            ],
            [
             0.1111111111111111,
             "#46039f"
            ],
            [
             0.2222222222222222,
             "#7201a8"
            ],
            [
             0.3333333333333333,
             "#9c179e"
            ],
            [
             0.4444444444444444,
             "#bd3786"
            ],
            [
             0.5555555555555556,
             "#d8576b"
            ],
            [
             0.6666666666666666,
             "#ed7953"
            ],
            [
             0.7777777777777778,
             "#fb9f3a"
            ],
            [
             0.8888888888888888,
             "#fdca26"
            ],
            [
             1,
             "#f0f921"
            ]
           ]
          },
          "colorway": [
           "#636efa",
           "#EF553B",
           "#00cc96",
           "#ab63fa",
           "#FFA15A",
           "#19d3f3",
           "#FF6692",
           "#B6E880",
           "#FF97FF",
           "#FECB52"
          ],
          "font": {
           "color": "#2a3f5f"
          },
          "geo": {
           "bgcolor": "white",
           "lakecolor": "white",
           "landcolor": "#E5ECF6",
           "showlakes": true,
           "showland": true,
           "subunitcolor": "white"
          },
          "hoverlabel": {
           "align": "left"
          },
          "hovermode": "closest",
          "mapbox": {
           "style": "light"
          },
          "paper_bgcolor": "white",
          "plot_bgcolor": "#E5ECF6",
          "polar": {
           "angularaxis": {
            "gridcolor": "white",
            "linecolor": "white",
            "ticks": ""
           },
           "bgcolor": "#E5ECF6",
           "radialaxis": {
            "gridcolor": "white",
            "linecolor": "white",
            "ticks": ""
           }
          },
          "scene": {
           "xaxis": {
            "backgroundcolor": "#E5ECF6",
            "gridcolor": "white",
            "gridwidth": 2,
            "linecolor": "white",
            "showbackground": true,
            "ticks": "",
            "zerolinecolor": "white"
           },
           "yaxis": {
            "backgroundcolor": "#E5ECF6",
            "gridcolor": "white",
            "gridwidth": 2,
            "linecolor": "white",
            "showbackground": true,
            "ticks": "",
            "zerolinecolor": "white"
           },
           "zaxis": {
            "backgroundcolor": "#E5ECF6",
            "gridcolor": "white",
            "gridwidth": 2,
            "linecolor": "white",
            "showbackground": true,
            "ticks": "",
            "zerolinecolor": "white"
           }
          },
          "shapedefaults": {
           "line": {
            "color": "#2a3f5f"
           }
          },
          "ternary": {
           "aaxis": {
            "gridcolor": "white",
            "linecolor": "white",
            "ticks": ""
           },
           "baxis": {
            "gridcolor": "white",
            "linecolor": "white",
            "ticks": ""
           },
           "bgcolor": "#E5ECF6",
           "caxis": {
            "gridcolor": "white",
            "linecolor": "white",
            "ticks": ""
           }
          },
          "title": {
           "x": 0.05
          },
          "xaxis": {
           "automargin": true,
           "gridcolor": "white",
           "linecolor": "white",
           "ticks": "",
           "title": {
            "standoff": 15
           },
           "zerolinecolor": "white",
           "zerolinewidth": 2
          },
          "yaxis": {
           "automargin": true,
           "gridcolor": "white",
           "linecolor": "white",
           "ticks": "",
           "title": {
            "standoff": 15
           },
           "zerolinecolor": "white",
           "zerolinewidth": 2
          }
         }
        },
        "title": {
         "text": "Oil Price vs Sales"
        },
        "xaxis": {
         "anchor": "y",
         "domain": [
          0,
          1
         ],
         "title": {
          "text": "Oil Price (WTI)"
         }
        },
        "yaxis": {
         "anchor": "x",
         "domain": [
          0,
          1
         ],
         "title": {
          "text": "Total Sales"
         }
        }
       }
      }
     },
     "metadata": {},
     "output_type": "display_data"
    }
   ],
   "source": [
    "# External Factors\n",
    "\n",
    "sales_oil = train.groupby(\"date\")[\"unit_sales\"].sum().reset_index()\n",
    "sales_oil = sales_oil.merge(oil, on=\"date\", how=\"left\")\n",
    "\n",
    "# Compute correlation only on numeric columns\n",
    "correlation = sales_oil[[\"unit_sales\", \"dcoilwtico\"]].corr().loc[\"unit_sales\", \"dcoilwtico\"]\n",
    "print(\"Correlation with oil price:\", correlation)\n",
    "\n",
    "# Scatter plot\n",
    "fig = px.scatter(sales_oil, x=\"dcoilwtico\", y=\"unit_sales\", \n",
    "                 title=\"Oil Price vs Sales\", \n",
    "                 labels={\"dcoilwtico\": \"Oil Price (WTI)\", \"unit_sales\": \"Total Sales\"})\n",
    "fig.show()\n"
   ]
  },
  {
   "cell_type": "code",
   "execution_count": null,
   "id": "fcfd7804",
   "metadata": {},
   "outputs": [],
   "source": []
  }
 ],
 "metadata": {
  "kernelspec": {
   "display_name": "venv (3.13.5)",
   "language": "python",
   "name": "python3"
  },
  "language_info": {
   "codemirror_mode": {
    "name": "ipython",
    "version": 3
   },
   "file_extension": ".py",
   "mimetype": "text/x-python",
   "name": "python",
   "nbconvert_exporter": "python",
   "pygments_lexer": "ipython3",
   "version": "3.13.5"
  }
 },
 "nbformat": 4,
 "nbformat_minor": 5
}
